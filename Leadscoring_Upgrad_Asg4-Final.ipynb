{
 "cells": [
  {
   "cell_type": "markdown",
   "id": "b62d6096",
   "metadata": {},
   "source": [
    "# Leads Scoring case study"
   ]
  },
  {
   "cell_type": "markdown",
   "id": "2b9546a2",
   "metadata": {},
   "source": [
    "###  Problem statement: \n",
    "An education company named X Education sells online courses to industry professionals. On any given day, many professionals who are interested in the courses land on their website and browse for courses.\n",
    "The company markets its courses on several websites and search engines like Google. Once these people land on the website, they might browse the courses or fill up a form for the course or watch some videos. When these people fill up a form providing their email address or phone number, they are classified to be a lead. Moreover, the company also gets leads through past referrals. Once these leads are acquired, employees from the sales team start making calls, writing emails, etc. Through this process, some of the leads get converted while most do not. The typical lead conversion rate at X education is around 30%. \n",
    "Now, although X Education gets a lot of leads, its lead conversion rate is very poor. For example, if, say, they acquire 100 leads in a day, only about 30 of them are converted. To make this process more efficient, the company wishes to identify the most potential leads, also known as __‘Hot Leads’__. If they successfully identify this set of leads, the lead conversion rate should go up as the sales team will now be focusing more on communicating with the potential leads rather than making calls to everyone\n",
    "\n",
    "### Goal of the case study:\n",
    "1. Build a logistic regression model to assign a lead score between 0 and 100 to each of the leads which can be used by the company to target potential leads. A higher score would mean that the lead is hot, i.e. is most likely to convert whereas a lower score would mean that the lead is cold and will mostly not get converted.\n",
    "2. The main objective of the case study is __reduce number of False negative results__ i.e the comapny shouldn't missout any potential lead. We need target for __higher recall score__."
   ]
  },
  {
   "cell_type": "markdown",
   "id": "e56f0903",
   "metadata": {},
   "source": [
    "## Flow of the case study:\n",
    "\n",
    "* Step1: Reading and Understanding the data<br>\n",
    "* Step2: Exploratory Data Analysis<br>\n",
    "* Step3: Data preprocessing<br>\n",
    "* Step4: Traing different models<br>\n",
    "    * Model1: With all the features<br>\n",
    "    * Model2: With features after RFE<br>\n",
    "    * Model3: With features after extracting feature importance<br>\n",
    "    * Model4: after dropping the insignificant features<br>\n",
    "* Step5: Evaluating the fianl model<br>\n",
    "* Step6: Adjusting the cut-off to optimize sensitivity and specifity trade-off<br>\n",
    "* Step7: Evaluating on Test set<br>\n",
    "* Step8: Conclutions<br>\n",
    "\n"
   ]
  },
  {
   "cell_type": "markdown",
   "id": "87c58110",
   "metadata": {},
   "source": [
    "## Importing the Libraries"
   ]
  },
  {
   "cell_type": "code",
   "execution_count": 157,
   "id": "6350cb15",
   "metadata": {},
   "outputs": [],
   "source": [
    "import pandas as pd\n",
    "import numpy as np\n",
    "import matplotlib.pyplot as plt\n",
    "import seaborn as sns\n",
    "import warnings\n",
    "warnings.filterwarnings('ignore')"
   ]
  },
  {
   "cell_type": "markdown",
   "id": "57fd9693",
   "metadata": {},
   "source": [
    "## <font color ='green'> Step1: Data reading and understanding"
   ]
  },
  {
   "cell_type": "code",
   "execution_count": 158,
   "id": "bf44b43d",
   "metadata": {},
   "outputs": [],
   "source": [
    "# importing the data\n",
    "\n",
    "df = pd.read_csv('Leads.csv')"
   ]
  },
  {
   "cell_type": "code",
   "execution_count": 159,
   "id": "b64048f3",
   "metadata": {},
   "outputs": [
    {
     "name": "stdout",
     "output_type": "stream",
     "text": [
      "<class 'pandas.core.frame.DataFrame'>\n",
      "RangeIndex: 9240 entries, 0 to 9239\n",
      "Data columns (total 37 columns):\n",
      " #   Column                                         Non-Null Count  Dtype  \n",
      "---  ------                                         --------------  -----  \n",
      " 0   Prospect ID                                    9240 non-null   object \n",
      " 1   Lead Number                                    9240 non-null   int64  \n",
      " 2   Lead Origin                                    9240 non-null   object \n",
      " 3   Lead Source                                    9204 non-null   object \n",
      " 4   Do Not Email                                   9240 non-null   object \n",
      " 5   Do Not Call                                    9240 non-null   object \n",
      " 6   Converted                                      9240 non-null   int64  \n",
      " 7   TotalVisits                                    9103 non-null   float64\n",
      " 8   Total Time Spent on Website                    9240 non-null   int64  \n",
      " 9   Page Views Per Visit                           9103 non-null   float64\n",
      " 10  Last Activity                                  9137 non-null   object \n",
      " 11  Country                                        6779 non-null   object \n",
      " 12  Specialization                                 7802 non-null   object \n",
      " 13  How did you hear about X Education             7033 non-null   object \n",
      " 14  What is your current occupation                6550 non-null   object \n",
      " 15  What matters most to you in choosing a course  6531 non-null   object \n",
      " 16  Search                                         9240 non-null   object \n",
      " 17  Magazine                                       9240 non-null   object \n",
      " 18  Newspaper Article                              9240 non-null   object \n",
      " 19  X Education Forums                             9240 non-null   object \n",
      " 20  Newspaper                                      9240 non-null   object \n",
      " 21  Digital Advertisement                          9240 non-null   object \n",
      " 22  Through Recommendations                        9240 non-null   object \n",
      " 23  Receive More Updates About Our Courses         9240 non-null   object \n",
      " 24  Tags                                           5887 non-null   object \n",
      " 25  Lead Quality                                   4473 non-null   object \n",
      " 26  Update me on Supply Chain Content              9240 non-null   object \n",
      " 27  Get updates on DM Content                      9240 non-null   object \n",
      " 28  Lead Profile                                   6531 non-null   object \n",
      " 29  City                                           7820 non-null   object \n",
      " 30  Asymmetrique Activity Index                    5022 non-null   object \n",
      " 31  Asymmetrique Profile Index                     5022 non-null   object \n",
      " 32  Asymmetrique Activity Score                    5022 non-null   float64\n",
      " 33  Asymmetrique Profile Score                     5022 non-null   float64\n",
      " 34  I agree to pay the amount through cheque       9240 non-null   object \n",
      " 35  A free copy of Mastering The Interview         9240 non-null   object \n",
      " 36  Last Notable Activity                          9240 non-null   object \n",
      "dtypes: float64(4), int64(3), object(30)\n",
      "memory usage: 2.6+ MB\n"
     ]
    }
   ],
   "source": [
    "df.info()"
   ]
  },
  {
   "cell_type": "code",
   "execution_count": 160,
   "id": "81b9767b",
   "metadata": {},
   "outputs": [
    {
     "data": {
      "text/html": [
       "<div>\n",
       "<style scoped>\n",
       "    .dataframe tbody tr th:only-of-type {\n",
       "        vertical-align: middle;\n",
       "    }\n",
       "\n",
       "    .dataframe tbody tr th {\n",
       "        vertical-align: top;\n",
       "    }\n",
       "\n",
       "    .dataframe thead th {\n",
       "        text-align: right;\n",
       "    }\n",
       "</style>\n",
       "<table border=\"1\" class=\"dataframe\">\n",
       "  <thead>\n",
       "    <tr style=\"text-align: right;\">\n",
       "      <th></th>\n",
       "      <th>Prospect ID</th>\n",
       "      <th>Lead Number</th>\n",
       "      <th>Lead Origin</th>\n",
       "      <th>Lead Source</th>\n",
       "      <th>Do Not Email</th>\n",
       "      <th>Do Not Call</th>\n",
       "      <th>Converted</th>\n",
       "      <th>TotalVisits</th>\n",
       "      <th>Total Time Spent on Website</th>\n",
       "      <th>Page Views Per Visit</th>\n",
       "      <th>...</th>\n",
       "      <th>Get updates on DM Content</th>\n",
       "      <th>Lead Profile</th>\n",
       "      <th>City</th>\n",
       "      <th>Asymmetrique Activity Index</th>\n",
       "      <th>Asymmetrique Profile Index</th>\n",
       "      <th>Asymmetrique Activity Score</th>\n",
       "      <th>Asymmetrique Profile Score</th>\n",
       "      <th>I agree to pay the amount through cheque</th>\n",
       "      <th>A free copy of Mastering The Interview</th>\n",
       "      <th>Last Notable Activity</th>\n",
       "    </tr>\n",
       "  </thead>\n",
       "  <tbody>\n",
       "    <tr>\n",
       "      <th>0</th>\n",
       "      <td>7927b2df-8bba-4d29-b9a2-b6e0beafe620</td>\n",
       "      <td>660737</td>\n",
       "      <td>API</td>\n",
       "      <td>Olark Chat</td>\n",
       "      <td>No</td>\n",
       "      <td>No</td>\n",
       "      <td>0</td>\n",
       "      <td>0.0</td>\n",
       "      <td>0</td>\n",
       "      <td>0.0</td>\n",
       "      <td>...</td>\n",
       "      <td>No</td>\n",
       "      <td>Select</td>\n",
       "      <td>Select</td>\n",
       "      <td>02.Medium</td>\n",
       "      <td>02.Medium</td>\n",
       "      <td>15.0</td>\n",
       "      <td>15.0</td>\n",
       "      <td>No</td>\n",
       "      <td>No</td>\n",
       "      <td>Modified</td>\n",
       "    </tr>\n",
       "    <tr>\n",
       "      <th>1</th>\n",
       "      <td>2a272436-5132-4136-86fa-dcc88c88f482</td>\n",
       "      <td>660728</td>\n",
       "      <td>API</td>\n",
       "      <td>Organic Search</td>\n",
       "      <td>No</td>\n",
       "      <td>No</td>\n",
       "      <td>0</td>\n",
       "      <td>5.0</td>\n",
       "      <td>674</td>\n",
       "      <td>2.5</td>\n",
       "      <td>...</td>\n",
       "      <td>No</td>\n",
       "      <td>Select</td>\n",
       "      <td>Select</td>\n",
       "      <td>02.Medium</td>\n",
       "      <td>02.Medium</td>\n",
       "      <td>15.0</td>\n",
       "      <td>15.0</td>\n",
       "      <td>No</td>\n",
       "      <td>No</td>\n",
       "      <td>Email Opened</td>\n",
       "    </tr>\n",
       "    <tr>\n",
       "      <th>2</th>\n",
       "      <td>8cc8c611-a219-4f35-ad23-fdfd2656bd8a</td>\n",
       "      <td>660727</td>\n",
       "      <td>Landing Page Submission</td>\n",
       "      <td>Direct Traffic</td>\n",
       "      <td>No</td>\n",
       "      <td>No</td>\n",
       "      <td>1</td>\n",
       "      <td>2.0</td>\n",
       "      <td>1532</td>\n",
       "      <td>2.0</td>\n",
       "      <td>...</td>\n",
       "      <td>No</td>\n",
       "      <td>Potential Lead</td>\n",
       "      <td>Mumbai</td>\n",
       "      <td>02.Medium</td>\n",
       "      <td>01.High</td>\n",
       "      <td>14.0</td>\n",
       "      <td>20.0</td>\n",
       "      <td>No</td>\n",
       "      <td>Yes</td>\n",
       "      <td>Email Opened</td>\n",
       "    </tr>\n",
       "    <tr>\n",
       "      <th>3</th>\n",
       "      <td>0cc2df48-7cf4-4e39-9de9-19797f9b38cc</td>\n",
       "      <td>660719</td>\n",
       "      <td>Landing Page Submission</td>\n",
       "      <td>Direct Traffic</td>\n",
       "      <td>No</td>\n",
       "      <td>No</td>\n",
       "      <td>0</td>\n",
       "      <td>1.0</td>\n",
       "      <td>305</td>\n",
       "      <td>1.0</td>\n",
       "      <td>...</td>\n",
       "      <td>No</td>\n",
       "      <td>Select</td>\n",
       "      <td>Mumbai</td>\n",
       "      <td>02.Medium</td>\n",
       "      <td>01.High</td>\n",
       "      <td>13.0</td>\n",
       "      <td>17.0</td>\n",
       "      <td>No</td>\n",
       "      <td>No</td>\n",
       "      <td>Modified</td>\n",
       "    </tr>\n",
       "    <tr>\n",
       "      <th>4</th>\n",
       "      <td>3256f628-e534-4826-9d63-4a8b88782852</td>\n",
       "      <td>660681</td>\n",
       "      <td>Landing Page Submission</td>\n",
       "      <td>Google</td>\n",
       "      <td>No</td>\n",
       "      <td>No</td>\n",
       "      <td>1</td>\n",
       "      <td>2.0</td>\n",
       "      <td>1428</td>\n",
       "      <td>1.0</td>\n",
       "      <td>...</td>\n",
       "      <td>No</td>\n",
       "      <td>Select</td>\n",
       "      <td>Mumbai</td>\n",
       "      <td>02.Medium</td>\n",
       "      <td>01.High</td>\n",
       "      <td>15.0</td>\n",
       "      <td>18.0</td>\n",
       "      <td>No</td>\n",
       "      <td>No</td>\n",
       "      <td>Modified</td>\n",
       "    </tr>\n",
       "  </tbody>\n",
       "</table>\n",
       "<p>5 rows × 37 columns</p>\n",
       "</div>"
      ],
      "text/plain": [
       "                            Prospect ID  Lead Number              Lead Origin  \\\n",
       "0  7927b2df-8bba-4d29-b9a2-b6e0beafe620       660737                      API   \n",
       "1  2a272436-5132-4136-86fa-dcc88c88f482       660728                      API   \n",
       "2  8cc8c611-a219-4f35-ad23-fdfd2656bd8a       660727  Landing Page Submission   \n",
       "3  0cc2df48-7cf4-4e39-9de9-19797f9b38cc       660719  Landing Page Submission   \n",
       "4  3256f628-e534-4826-9d63-4a8b88782852       660681  Landing Page Submission   \n",
       "\n",
       "      Lead Source Do Not Email Do Not Call  Converted  TotalVisits  \\\n",
       "0      Olark Chat           No          No          0          0.0   \n",
       "1  Organic Search           No          No          0          5.0   \n",
       "2  Direct Traffic           No          No          1          2.0   \n",
       "3  Direct Traffic           No          No          0          1.0   \n",
       "4          Google           No          No          1          2.0   \n",
       "\n",
       "   Total Time Spent on Website  Page Views Per Visit  ...  \\\n",
       "0                            0                   0.0  ...   \n",
       "1                          674                   2.5  ...   \n",
       "2                         1532                   2.0  ...   \n",
       "3                          305                   1.0  ...   \n",
       "4                         1428                   1.0  ...   \n",
       "\n",
       "  Get updates on DM Content    Lead Profile    City  \\\n",
       "0                        No          Select  Select   \n",
       "1                        No          Select  Select   \n",
       "2                        No  Potential Lead  Mumbai   \n",
       "3                        No          Select  Mumbai   \n",
       "4                        No          Select  Mumbai   \n",
       "\n",
       "  Asymmetrique Activity Index Asymmetrique Profile Index  \\\n",
       "0                   02.Medium                  02.Medium   \n",
       "1                   02.Medium                  02.Medium   \n",
       "2                   02.Medium                    01.High   \n",
       "3                   02.Medium                    01.High   \n",
       "4                   02.Medium                    01.High   \n",
       "\n",
       "  Asymmetrique Activity Score Asymmetrique Profile Score  \\\n",
       "0                        15.0                       15.0   \n",
       "1                        15.0                       15.0   \n",
       "2                        14.0                       20.0   \n",
       "3                        13.0                       17.0   \n",
       "4                        15.0                       18.0   \n",
       "\n",
       "  I agree to pay the amount through cheque  \\\n",
       "0                                       No   \n",
       "1                                       No   \n",
       "2                                       No   \n",
       "3                                       No   \n",
       "4                                       No   \n",
       "\n",
       "  A free copy of Mastering The Interview Last Notable Activity  \n",
       "0                                     No              Modified  \n",
       "1                                     No          Email Opened  \n",
       "2                                    Yes          Email Opened  \n",
       "3                                     No              Modified  \n",
       "4                                     No              Modified  \n",
       "\n",
       "[5 rows x 37 columns]"
      ]
     },
     "execution_count": 160,
     "metadata": {},
     "output_type": "execute_result"
    }
   ],
   "source": [
    "df.head()"
   ]
  },
  {
   "cell_type": "code",
   "execution_count": 161,
   "id": "7ec0ae7f",
   "metadata": {},
   "outputs": [
    {
     "data": {
      "text/plain": [
       "(9240, 37)"
      ]
     },
     "execution_count": 161,
     "metadata": {},
     "output_type": "execute_result"
    }
   ],
   "source": [
    "df.shape"
   ]
  },
  {
   "cell_type": "code",
   "execution_count": 162,
   "id": "58d34583",
   "metadata": {},
   "outputs": [
    {
     "data": {
      "text/plain": [
       "Lead Quality                                     51.590909\n",
       "Asymmetrique Activity Index                      45.649351\n",
       "Asymmetrique Profile Score                       45.649351\n",
       "Asymmetrique Activity Score                      45.649351\n",
       "Asymmetrique Profile Index                       45.649351\n",
       "Tags                                             36.287879\n",
       "Lead Profile                                     29.318182\n",
       "What matters most to you in choosing a course    29.318182\n",
       "What is your current occupation                  29.112554\n",
       "Country                                          26.634199\n",
       "How did you hear about X Education               23.885281\n",
       "Specialization                                   15.562771\n",
       "City                                             15.367965\n",
       "Page Views Per Visit                              1.482684\n",
       "TotalVisits                                       1.482684\n",
       "Last Activity                                     1.114719\n",
       "Lead Source                                       0.389610\n",
       "Receive More Updates About Our Courses            0.000000\n",
       "I agree to pay the amount through cheque          0.000000\n",
       "Get updates on DM Content                         0.000000\n",
       "Update me on Supply Chain Content                 0.000000\n",
       "A free copy of Mastering The Interview            0.000000\n",
       "Prospect ID                                       0.000000\n",
       "Newspaper Article                                 0.000000\n",
       "Through Recommendations                           0.000000\n",
       "Digital Advertisement                             0.000000\n",
       "Newspaper                                         0.000000\n",
       "X Education Forums                                0.000000\n",
       "Lead Number                                       0.000000\n",
       "Magazine                                          0.000000\n",
       "Search                                            0.000000\n",
       "Total Time Spent on Website                       0.000000\n",
       "Converted                                         0.000000\n",
       "Do Not Call                                       0.000000\n",
       "Do Not Email                                      0.000000\n",
       "Lead Origin                                       0.000000\n",
       "Last Notable Activity                             0.000000\n",
       "dtype: float64"
      ]
     },
     "execution_count": 162,
     "metadata": {},
     "output_type": "execute_result"
    }
   ],
   "source": [
    "# checking the null values\n",
    "((df.isnull().sum()/df.shape[0]) * 100).sort_values(ascending=False)"
   ]
  },
  {
   "cell_type": "markdown",
   "id": "29c2d9bf",
   "metadata": {},
   "source": [
    "'Lead Quality','Asymmetrique Activity Index','Asymmetrique Profile Score','Asymmetrique Activity Score','Asymmetrique Profile Index' these features have more than 45% missing values.  "
   ]
  },
  {
   "cell_type": "code",
   "execution_count": 163,
   "id": "ae8f5f6a",
   "metadata": {},
   "outputs": [],
   "source": [
    "# Removing columns with more than 45 % missing values\n",
    "df = df.drop(columns=['Lead Quality','Asymmetrique Activity Index','Asymmetrique Profile Score',\n",
    "                 'Asymmetrique Activity Score','Asymmetrique Profile Index'],axis=1)"
   ]
  },
  {
   "cell_type": "code",
   "execution_count": 164,
   "id": "64a989ba",
   "metadata": {},
   "outputs": [
    {
     "data": {
      "text/plain": [
       "(9240, 32)"
      ]
     },
     "execution_count": 164,
     "metadata": {},
     "output_type": "execute_result"
    }
   ],
   "source": [
    "df.shape"
   ]
  },
  {
   "cell_type": "code",
   "execution_count": 165,
   "id": "e00ded78",
   "metadata": {},
   "outputs": [
    {
     "name": "stdout",
     "output_type": "stream",
     "text": [
      "<class 'pandas.core.frame.DataFrame'>\n",
      "RangeIndex: 9240 entries, 0 to 9239\n",
      "Data columns (total 32 columns):\n",
      " #   Column                                         Non-Null Count  Dtype  \n",
      "---  ------                                         --------------  -----  \n",
      " 0   Prospect ID                                    9240 non-null   object \n",
      " 1   Lead Number                                    9240 non-null   int64  \n",
      " 2   Lead Origin                                    9240 non-null   object \n",
      " 3   Lead Source                                    9204 non-null   object \n",
      " 4   Do Not Email                                   9240 non-null   object \n",
      " 5   Do Not Call                                    9240 non-null   object \n",
      " 6   Converted                                      9240 non-null   int64  \n",
      " 7   TotalVisits                                    9103 non-null   float64\n",
      " 8   Total Time Spent on Website                    9240 non-null   int64  \n",
      " 9   Page Views Per Visit                           9103 non-null   float64\n",
      " 10  Last Activity                                  9137 non-null   object \n",
      " 11  Country                                        6779 non-null   object \n",
      " 12  Specialization                                 7802 non-null   object \n",
      " 13  How did you hear about X Education             7033 non-null   object \n",
      " 14  What is your current occupation                6550 non-null   object \n",
      " 15  What matters most to you in choosing a course  6531 non-null   object \n",
      " 16  Search                                         9240 non-null   object \n",
      " 17  Magazine                                       9240 non-null   object \n",
      " 18  Newspaper Article                              9240 non-null   object \n",
      " 19  X Education Forums                             9240 non-null   object \n",
      " 20  Newspaper                                      9240 non-null   object \n",
      " 21  Digital Advertisement                          9240 non-null   object \n",
      " 22  Through Recommendations                        9240 non-null   object \n",
      " 23  Receive More Updates About Our Courses         9240 non-null   object \n",
      " 24  Tags                                           5887 non-null   object \n",
      " 25  Update me on Supply Chain Content              9240 non-null   object \n",
      " 26  Get updates on DM Content                      9240 non-null   object \n",
      " 27  Lead Profile                                   6531 non-null   object \n",
      " 28  City                                           7820 non-null   object \n",
      " 29  I agree to pay the amount through cheque       9240 non-null   object \n",
      " 30  A free copy of Mastering The Interview         9240 non-null   object \n",
      " 31  Last Notable Activity                          9240 non-null   object \n",
      "dtypes: float64(2), int64(3), object(27)\n",
      "memory usage: 2.3+ MB\n"
     ]
    }
   ],
   "source": [
    "df.info()"
   ]
  },
  {
   "cell_type": "code",
   "execution_count": 166,
   "id": "90366f5a",
   "metadata": {},
   "outputs": [
    {
     "data": {
      "text/html": [
       "<div>\n",
       "<style scoped>\n",
       "    .dataframe tbody tr th:only-of-type {\n",
       "        vertical-align: middle;\n",
       "    }\n",
       "\n",
       "    .dataframe tbody tr th {\n",
       "        vertical-align: top;\n",
       "    }\n",
       "\n",
       "    .dataframe thead th {\n",
       "        text-align: right;\n",
       "    }\n",
       "</style>\n",
       "<table border=\"1\" class=\"dataframe\">\n",
       "  <thead>\n",
       "    <tr style=\"text-align: right;\">\n",
       "      <th></th>\n",
       "      <th>Prospect ID</th>\n",
       "      <th>Lead Number</th>\n",
       "      <th>Lead Origin</th>\n",
       "      <th>Lead Source</th>\n",
       "      <th>Do Not Email</th>\n",
       "      <th>Do Not Call</th>\n",
       "      <th>Converted</th>\n",
       "      <th>TotalVisits</th>\n",
       "      <th>Total Time Spent on Website</th>\n",
       "      <th>Page Views Per Visit</th>\n",
       "      <th>...</th>\n",
       "      <th>Through Recommendations</th>\n",
       "      <th>Receive More Updates About Our Courses</th>\n",
       "      <th>Tags</th>\n",
       "      <th>Update me on Supply Chain Content</th>\n",
       "      <th>Get updates on DM Content</th>\n",
       "      <th>Lead Profile</th>\n",
       "      <th>City</th>\n",
       "      <th>I agree to pay the amount through cheque</th>\n",
       "      <th>A free copy of Mastering The Interview</th>\n",
       "      <th>Last Notable Activity</th>\n",
       "    </tr>\n",
       "  </thead>\n",
       "  <tbody>\n",
       "    <tr>\n",
       "      <th>0</th>\n",
       "      <td>7927b2df-8bba-4d29-b9a2-b6e0beafe620</td>\n",
       "      <td>660737</td>\n",
       "      <td>API</td>\n",
       "      <td>Olark Chat</td>\n",
       "      <td>No</td>\n",
       "      <td>No</td>\n",
       "      <td>0</td>\n",
       "      <td>0.0</td>\n",
       "      <td>0</td>\n",
       "      <td>0.0</td>\n",
       "      <td>...</td>\n",
       "      <td>No</td>\n",
       "      <td>No</td>\n",
       "      <td>Interested in other courses</td>\n",
       "      <td>No</td>\n",
       "      <td>No</td>\n",
       "      <td>Select</td>\n",
       "      <td>Select</td>\n",
       "      <td>No</td>\n",
       "      <td>No</td>\n",
       "      <td>Modified</td>\n",
       "    </tr>\n",
       "    <tr>\n",
       "      <th>1</th>\n",
       "      <td>2a272436-5132-4136-86fa-dcc88c88f482</td>\n",
       "      <td>660728</td>\n",
       "      <td>API</td>\n",
       "      <td>Organic Search</td>\n",
       "      <td>No</td>\n",
       "      <td>No</td>\n",
       "      <td>0</td>\n",
       "      <td>5.0</td>\n",
       "      <td>674</td>\n",
       "      <td>2.5</td>\n",
       "      <td>...</td>\n",
       "      <td>No</td>\n",
       "      <td>No</td>\n",
       "      <td>Ringing</td>\n",
       "      <td>No</td>\n",
       "      <td>No</td>\n",
       "      <td>Select</td>\n",
       "      <td>Select</td>\n",
       "      <td>No</td>\n",
       "      <td>No</td>\n",
       "      <td>Email Opened</td>\n",
       "    </tr>\n",
       "  </tbody>\n",
       "</table>\n",
       "<p>2 rows × 32 columns</p>\n",
       "</div>"
      ],
      "text/plain": [
       "                            Prospect ID  Lead Number Lead Origin  \\\n",
       "0  7927b2df-8bba-4d29-b9a2-b6e0beafe620       660737         API   \n",
       "1  2a272436-5132-4136-86fa-dcc88c88f482       660728         API   \n",
       "\n",
       "      Lead Source Do Not Email Do Not Call  Converted  TotalVisits  \\\n",
       "0      Olark Chat           No          No          0          0.0   \n",
       "1  Organic Search           No          No          0          5.0   \n",
       "\n",
       "   Total Time Spent on Website  Page Views Per Visit  ...  \\\n",
       "0                            0                   0.0  ...   \n",
       "1                          674                   2.5  ...   \n",
       "\n",
       "  Through Recommendations Receive More Updates About Our Courses  \\\n",
       "0                      No                                     No   \n",
       "1                      No                                     No   \n",
       "\n",
       "                          Tags Update me on Supply Chain Content  \\\n",
       "0  Interested in other courses                                No   \n",
       "1                      Ringing                                No   \n",
       "\n",
       "  Get updates on DM Content Lead Profile    City  \\\n",
       "0                        No       Select  Select   \n",
       "1                        No       Select  Select   \n",
       "\n",
       "  I agree to pay the amount through cheque  \\\n",
       "0                                       No   \n",
       "1                                       No   \n",
       "\n",
       "  A free copy of Mastering The Interview Last Notable Activity  \n",
       "0                                     No              Modified  \n",
       "1                                     No          Email Opened  \n",
       "\n",
       "[2 rows x 32 columns]"
      ]
     },
     "execution_count": 166,
     "metadata": {},
     "output_type": "execute_result"
    }
   ],
   "source": [
    "df.head(2)"
   ]
  },
  {
   "cell_type": "code",
   "execution_count": 167,
   "id": "1ffeb012",
   "metadata": {},
   "outputs": [
    {
     "data": {
      "text/plain": [
       "0"
      ]
     },
     "execution_count": 167,
     "metadata": {},
     "output_type": "execute_result"
    }
   ],
   "source": [
    "# checking for duplicated values\n",
    "df.duplicated().sum()"
   ]
  },
  {
   "cell_type": "code",
   "execution_count": 168,
   "id": "803fe52a",
   "metadata": {},
   "outputs": [],
   "source": [
    "# droping Prospect ID and Lead Number as they are jus index columns\n",
    "df = df.drop(columns=['Prospect ID','Lead Number'],axis=1)"
   ]
  },
  {
   "cell_type": "code",
   "execution_count": 169,
   "id": "823fdf67",
   "metadata": {},
   "outputs": [
    {
     "data": {
      "text/plain": [
       "(9240, 30)"
      ]
     },
     "execution_count": 169,
     "metadata": {},
     "output_type": "execute_result"
    }
   ],
   "source": [
    "df.shape"
   ]
  },
  {
   "cell_type": "code",
   "execution_count": 170,
   "id": "bc8f95b0",
   "metadata": {},
   "outputs": [
    {
     "data": {
      "text/plain": [
       "1549"
      ]
     },
     "execution_count": 170,
     "metadata": {},
     "output_type": "execute_result"
    }
   ],
   "source": [
    "# checking for duplicated values\n",
    "df.duplicated().sum()"
   ]
  },
  {
   "cell_type": "markdown",
   "id": "4fd6971b",
   "metadata": {},
   "source": [
    "## <font color ='green'>Step2: Exploratory Data analysis"
   ]
  },
  {
   "cell_type": "markdown",
   "id": "23c4af5a",
   "metadata": {},
   "source": [
    "### 2.1 Univarite Analysis and Bivariate Analysis"
   ]
  },
  {
   "cell_type": "code",
   "execution_count": 171,
   "id": "cb11b6b4",
   "metadata": {},
   "outputs": [
    {
     "data": {
      "image/png": "[encoded data removed]",
      "text/plain": [
       "<Figure size 432x288 with 1 Axes>"
      ]
     },
     "metadata": {},
     "output_type": "display_data"
    }
   ],
   "source": [
    "# checking data inmbalance\n",
    "\n",
    "plt.pie(df['Converted'].value_counts(),labels=[0,1])\n",
    "plt.show()"
   ]
  },
  {
   "cell_type": "code",
   "execution_count": 172,
   "id": "5805bc4b",
   "metadata": {},
   "outputs": [
    {
     "data": {
      "text/plain": [
       "22.92207792207792"
      ]
     },
     "execution_count": 172,
     "metadata": {},
     "output_type": "execute_result"
    }
   ],
   "source": [
    "df['Converted'].value_counts()\n",
    "((df['Converted'].value_counts().values[0]-df['Converted'].value_counts().values[1])/df.shape[0])*100"
   ]
  },
  {
   "cell_type": "markdown",
   "id": "9cd34c22",
   "metadata": {},
   "source": [
    "__There isn't huge imbalance in the data__"
   ]
  },
  {
   "cell_type": "markdown",
   "id": "28b27a0e",
   "metadata": {},
   "source": [
    "### Numerical colums"
   ]
  },
  {
   "cell_type": "code",
   "execution_count": 173,
   "id": "b9272c72",
   "metadata": {},
   "outputs": [
    {
     "data": {
      "text/html": [
       "<div>\n",
       "<style scoped>\n",
       "    .dataframe tbody tr th:only-of-type {\n",
       "        vertical-align: middle;\n",
       "    }\n",
       "\n",
       "    .dataframe tbody tr th {\n",
       "        vertical-align: top;\n",
       "    }\n",
       "\n",
       "    .dataframe thead th {\n",
       "        text-align: right;\n",
       "    }\n",
       "</style>\n",
       "<table border=\"1\" class=\"dataframe\">\n",
       "  <thead>\n",
       "    <tr style=\"text-align: right;\">\n",
       "      <th></th>\n",
       "      <th>Converted</th>\n",
       "      <th>TotalVisits</th>\n",
       "      <th>Total Time Spent on Website</th>\n",
       "      <th>Page Views Per Visit</th>\n",
       "    </tr>\n",
       "  </thead>\n",
       "  <tbody>\n",
       "    <tr>\n",
       "      <th>count</th>\n",
       "      <td>9240.000000</td>\n",
       "      <td>9103.000000</td>\n",
       "      <td>9240.000000</td>\n",
       "      <td>9103.000000</td>\n",
       "    </tr>\n",
       "    <tr>\n",
       "      <th>mean</th>\n",
       "      <td>0.385390</td>\n",
       "      <td>3.445238</td>\n",
       "      <td>487.698268</td>\n",
       "      <td>2.362820</td>\n",
       "    </tr>\n",
       "    <tr>\n",
       "      <th>std</th>\n",
       "      <td>0.486714</td>\n",
       "      <td>4.854853</td>\n",
       "      <td>548.021466</td>\n",
       "      <td>2.161418</td>\n",
       "    </tr>\n",
       "    <tr>\n",
       "      <th>min</th>\n",
       "      <td>0.000000</td>\n",
       "      <td>0.000000</td>\n",
       "      <td>0.000000</td>\n",
       "      <td>0.000000</td>\n",
       "    </tr>\n",
       "    <tr>\n",
       "      <th>25%</th>\n",
       "      <td>0.000000</td>\n",
       "      <td>1.000000</td>\n",
       "      <td>12.000000</td>\n",
       "      <td>1.000000</td>\n",
       "    </tr>\n",
       "    <tr>\n",
       "      <th>50%</th>\n",
       "      <td>0.000000</td>\n",
       "      <td>3.000000</td>\n",
       "      <td>248.000000</td>\n",
       "      <td>2.000000</td>\n",
       "    </tr>\n",
       "    <tr>\n",
       "      <th>75%</th>\n",
       "      <td>1.000000</td>\n",
       "      <td>5.000000</td>\n",
       "      <td>936.000000</td>\n",
       "      <td>3.000000</td>\n",
       "    </tr>\n",
       "    <tr>\n",
       "      <th>max</th>\n",
       "      <td>1.000000</td>\n",
       "      <td>251.000000</td>\n",
       "      <td>2272.000000</td>\n",
       "      <td>55.000000</td>\n",
       "    </tr>\n",
       "  </tbody>\n",
       "</table>\n",
       "</div>"
      ],
      "text/plain": [
       "         Converted  TotalVisits  Total Time Spent on Website  \\\n",
       "count  9240.000000  9103.000000                  9240.000000   \n",
       "mean      0.385390     3.445238                   487.698268   \n",
       "std       0.486714     4.854853                   548.021466   \n",
       "min       0.000000     0.000000                     0.000000   \n",
       "25%       0.000000     1.000000                    12.000000   \n",
       "50%       0.000000     3.000000                   248.000000   \n",
       "75%       1.000000     5.000000                   936.000000   \n",
       "max       1.000000   251.000000                  2272.000000   \n",
       "\n",
       "       Page Views Per Visit  \n",
       "count           9103.000000  \n",
       "mean               2.362820  \n",
       "std                2.161418  \n",
       "min                0.000000  \n",
       "25%                1.000000  \n",
       "50%                2.000000  \n",
       "75%                3.000000  \n",
       "max               55.000000  "
      ]
     },
     "execution_count": 173,
     "metadata": {},
     "output_type": "execute_result"
    }
   ],
   "source": [
    "df.describe()"
   ]
  },
  {
   "cell_type": "markdown",
   "id": "050ef293",
   "metadata": {},
   "source": [
    "There are outliers in numerical features"
   ]
  },
  {
   "cell_type": "code",
   "execution_count": 174,
   "id": "12a98ea1",
   "metadata": {},
   "outputs": [
    {
     "data": {
      "image/png": "[encoded data removed]",
      "text/plain": [
       "<Figure size 1080x360 with 3 Axes>"
      ]
     },
     "metadata": {
      "needs_background": "light"
     },
     "output_type": "display_data"
    }
   ],
   "source": [
    "# plotting the boxplots to check for outliers\n",
    "plt.figure(figsize=(15,5))\n",
    "plt.subplot(1,3,1)\n",
    "plt.title('Univariate analysis of Totalvisits')\n",
    "sns.boxplot(df['TotalVisits'])\n",
    "plt.subplot(1,3,2)\n",
    "plt.title('Univariate analysis of Time Spent on website')\n",
    "sns.boxplot(df['Total Time Spent on Website'])\n",
    "plt.subplot(1,3,3)\n",
    "plt.title('Univariate analysis of Page views')\n",
    "sns.boxplot(df['Page Views Per Visit'])\n",
    "plt.show()"
   ]
  },
  {
   "cell_type": "markdown",
   "id": "0bb6d0a6",
   "metadata": {},
   "source": [
    "Clearly we can see there are outliers in Total vists and Page views"
   ]
  },
  {
   "cell_type": "code",
   "execution_count": 175,
   "id": "4ce5f007",
   "metadata": {},
   "outputs": [
    {
     "data": {
      "text/plain": [
       "<Figure size 720x360 with 0 Axes>"
      ]
     },
     "metadata": {},
     "output_type": "display_data"
    },
    {
     "data": {
      "image/png": "[encoded data removed]",
      "text/plain": [
       "<Figure size 720x720 with 20 Axes>"
      ]
     },
     "metadata": {
      "needs_background": "light"
     },
     "output_type": "display_data"
    }
   ],
   "source": [
    "# Plotting numerical values on scatter plot \n",
    "\n",
    "plt.figure(figsize=(10,5))\n",
    "sns.pairplot(df)\n",
    "plt.show()"
   ]
  },
  {
   "cell_type": "markdown",
   "id": "f024b97d",
   "metadata": {},
   "source": [
    "After remal of outliers we might get better results"
   ]
  },
  {
   "cell_type": "markdown",
   "id": "10774ece",
   "metadata": {},
   "source": [
    "### Categorical Features"
   ]
  },
  {
   "cell_type": "code",
   "execution_count": 176,
   "id": "7d40b1d3",
   "metadata": {},
   "outputs": [],
   "source": [
    "# extracting the categorical data\n",
    "df_cat = df.drop(df._get_numeric_data().columns,axis = 1)"
   ]
  },
  {
   "cell_type": "code",
   "execution_count": 177,
   "id": "9cf9ba42",
   "metadata": {},
   "outputs": [
    {
     "data": {
      "text/plain": [
       "Index(['Lead Origin', 'Lead Source', 'Do Not Email', 'Do Not Call',\n",
       "       'Last Activity', 'Country', 'Specialization',\n",
       "       'How did you hear about X Education', 'What is your current occupation',\n",
       "       'What matters most to you in choosing a course', 'Search', 'Magazine',\n",
       "       'Newspaper Article', 'X Education Forums', 'Newspaper',\n",
       "       'Digital Advertisement', 'Through Recommendations',\n",
       "       'Receive More Updates About Our Courses', 'Tags',\n",
       "       'Update me on Supply Chain Content', 'Get updates on DM Content',\n",
       "       'Lead Profile', 'City', 'I agree to pay the amount through cheque',\n",
       "       'A free copy of Mastering The Interview', 'Last Notable Activity'],\n",
       "      dtype='object')"
      ]
     },
     "execution_count": 177,
     "metadata": {},
     "output_type": "execute_result"
    }
   ],
   "source": [
    "df_cat.columns"
   ]
  },
  {
   "cell_type": "code",
   "execution_count": 178,
   "id": "8b21be9e",
   "metadata": {},
   "outputs": [
    {
     "name": "stdout",
     "output_type": "stream",
     "text": [
      "Landing Page Submission    4886\n",
      "API                        3580\n",
      "Lead Add Form               718\n",
      "Lead Import                  55\n",
      "Quick Add Form                1\n",
      "Name: Lead Origin, dtype: int64\n",
      "No. of Unique values: 5\n",
      "\n",
      "\n",
      "Google               2868\n",
      "Direct Traffic       2543\n",
      "Olark Chat           1755\n",
      "Organic Search       1154\n",
      "Reference             534\n",
      "Welingak Website      142\n",
      "Referral Sites        125\n",
      "Facebook               55\n",
      "bing                    6\n",
      "google                  5\n",
      "Click2call              4\n",
      "Press_Release           2\n",
      "Social Media            2\n",
      "Live Chat               2\n",
      "youtubechannel          1\n",
      "testone                 1\n",
      "Pay per Click Ads       1\n",
      "welearnblog_Home        1\n",
      "WeLearn                 1\n",
      "blog                    1\n",
      "NC_EDM                  1\n",
      "Name: Lead Source, dtype: int64\n",
      "No. of Unique values: 22\n",
      "\n",
      "\n",
      "No     8506\n",
      "Yes     734\n",
      "Name: Do Not Email, dtype: int64\n",
      "No. of Unique values: 2\n",
      "\n",
      "\n",
      "No     9238\n",
      "Yes       2\n",
      "Name: Do Not Call, dtype: int64\n",
      "No. of Unique values: 2\n",
      "\n",
      "\n",
      "Email Opened                    3437\n",
      "SMS Sent                        2745\n",
      "Olark Chat Conversation          973\n",
      "Page Visited on Website          640\n",
      "Converted to Lead                428\n",
      "Email Bounced                    326\n",
      "Email Link Clicked               267\n",
      "Form Submitted on Website        116\n",
      "Unreachable                       93\n",
      "Unsubscribed                      61\n",
      "Had a Phone Conversation          30\n",
      "Approached upfront                 9\n",
      "View in browser link Clicked       6\n",
      "Email Received                     2\n",
      "Email Marked Spam                  2\n",
      "Visited Booth in Tradeshow         1\n",
      "Resubscribed to emails             1\n",
      "Name: Last Activity, dtype: int64\n",
      "No. of Unique values: 18\n",
      "\n",
      "\n",
      "India                   6492\n",
      "United States             69\n",
      "United Arab Emirates      53\n",
      "Singapore                 24\n",
      "Saudi Arabia              21\n",
      "United Kingdom            15\n",
      "Australia                 13\n",
      "Qatar                     10\n",
      "Hong Kong                  7\n",
      "Bahrain                    7\n",
      "Oman                       6\n",
      "France                     6\n",
      "unknown                    5\n",
      "South Africa               4\n",
      "Nigeria                    4\n",
      "Germany                    4\n",
      "Kuwait                     4\n",
      "Canada                     4\n",
      "Sweden                     3\n",
      "China                      2\n",
      "Asia/Pacific Region        2\n",
      "Uganda                     2\n",
      "Bangladesh                 2\n",
      "Italy                      2\n",
      "Belgium                    2\n",
      "Netherlands                2\n",
      "Ghana                      2\n",
      "Philippines                2\n",
      "Russia                     1\n",
      "Switzerland                1\n",
      "Vietnam                    1\n",
      "Denmark                    1\n",
      "Tanzania                   1\n",
      "Liberia                    1\n",
      "Malaysia                   1\n",
      "Kenya                      1\n",
      "Sri Lanka                  1\n",
      "Indonesia                  1\n",
      "Name: Country, dtype: int64\n",
      "No. of Unique values: 39\n",
      "\n",
      "\n",
      "Select                               1942\n",
      "Finance Management                    976\n",
      "Human Resource Management             848\n",
      "Marketing Management                  838\n",
      "Operations Management                 503\n",
      "Business Administration               403\n",
      "IT Projects Management                366\n",
      "Supply Chain Management               349\n",
      "Banking, Investment And Insurance     338\n",
      "Travel and Tourism                    203\n",
      "Media and Advertising                 203\n",
      "International Business                178\n",
      "Healthcare Management                 159\n",
      "Hospitality Management                114\n",
      "E-COMMERCE                            112\n",
      "Retail Management                     100\n",
      "Rural and Agribusiness                 73\n",
      "E-Business                             57\n",
      "Services Excellence                    40\n",
      "Name: Specialization, dtype: int64\n",
      "No. of Unique values: 20\n",
      "\n",
      "\n",
      "Select                   5043\n",
      "Online Search             808\n",
      "Word Of Mouth             348\n",
      "Student of SomeSchool     310\n",
      "Other                     186\n",
      "Multiple Sources          152\n",
      "Advertisements             70\n",
      "Social Media               67\n",
      "Email                      26\n",
      "SMS                        23\n",
      "Name: How did you hear about X Education, dtype: int64\n",
      "No. of Unique values: 11\n",
      "\n",
      "\n",
      "Unemployed              5600\n",
      "Working Professional     706\n",
      "Student                  210\n",
      "Other                     16\n",
      "Housewife                 10\n",
      "Businessman                8\n",
      "Name: What is your current occupation, dtype: int64\n",
      "No. of Unique values: 7\n",
      "\n",
      "\n",
      "Better Career Prospects      6528\n",
      "Flexibility & Convenience       2\n",
      "Other                           1\n",
      "Name: What matters most to you in choosing a course, dtype: int64\n",
      "No. of Unique values: 4\n",
      "\n",
      "\n",
      "No     9226\n",
      "Yes      14\n",
      "Name: Search, dtype: int64\n",
      "No. of Unique values: 2\n",
      "\n",
      "\n",
      "No    9240\n",
      "Name: Magazine, dtype: int64\n",
      "No. of Unique values: 1\n",
      "\n",
      "\n",
      "No     9238\n",
      "Yes       2\n",
      "Name: Newspaper Article, dtype: int64\n",
      "No. of Unique values: 2\n",
      "\n",
      "\n",
      "No     9239\n",
      "Yes       1\n",
      "Name: X Education Forums, dtype: int64\n",
      "No. of Unique values: 2\n",
      "\n",
      "\n",
      "No     9239\n",
      "Yes       1\n",
      "Name: Newspaper, dtype: int64\n",
      "No. of Unique values: 2\n",
      "\n",
      "\n",
      "No     9236\n",
      "Yes       4\n",
      "Name: Digital Advertisement, dtype: int64\n",
      "No. of Unique values: 2\n",
      "\n",
      "\n",
      "No     9233\n",
      "Yes       7\n",
      "Name: Through Recommendations, dtype: int64\n",
      "No. of Unique values: 2\n",
      "\n",
      "\n",
      "No    9240\n",
      "Name: Receive More Updates About Our Courses, dtype: int64\n",
      "No. of Unique values: 1\n",
      "\n",
      "\n",
      "Will revert after reading the email                  2072\n",
      "Ringing                                              1203\n",
      "Interested in other courses                           513\n",
      "Already a student                                     465\n",
      "Closed by Horizzon                                    358\n",
      "switched off                                          240\n",
      "Busy                                                  186\n",
      "Lost to EINS                                          175\n",
      "Not doing further education                           145\n",
      "Interested  in full time MBA                          117\n",
      "Graduation in progress                                111\n",
      "invalid number                                         83\n",
      "Diploma holder (Not Eligible)                          63\n",
      "wrong number given                                     47\n",
      "opp hangup                                             33\n",
      "number not provided                                    27\n",
      "in touch with EINS                                     12\n",
      "Lost to Others                                          7\n",
      "Still Thinking                                          6\n",
      "Want to take admission but has financial problems       6\n",
      "In confusion whether part time or DLP                   5\n",
      "Interested in Next batch                                5\n",
      "Lateral student                                         3\n",
      "Shall take in the next coming month                     2\n",
      "University not recognized                               2\n",
      "Recognition issue (DEC approval)                        1\n",
      "Name: Tags, dtype: int64\n",
      "No. of Unique values: 27\n",
      "\n",
      "\n",
      "No    9240\n",
      "Name: Update me on Supply Chain Content, dtype: int64\n",
      "No. of Unique values: 1\n",
      "\n",
      "\n",
      "No    9240\n",
      "Name: Get updates on DM Content, dtype: int64\n",
      "No. of Unique values: 1\n",
      "\n",
      "\n",
      "Select                         4146\n",
      "Potential Lead                 1613\n",
      "Other Leads                     487\n",
      "Student of SomeSchool           241\n",
      "Lateral Student                  24\n",
      "Dual Specialization Student      20\n",
      "Name: Lead Profile, dtype: int64\n",
      "No. of Unique values: 7\n",
      "\n",
      "\n",
      "Mumbai                         3222\n",
      "Select                         2249\n",
      "Thane & Outskirts               752\n",
      "Other Cities                    686\n",
      "Other Cities of Maharashtra     457\n",
      "Other Metro Cities              380\n",
      "Tier II Cities                   74\n",
      "Name: City, dtype: int64\n",
      "No. of Unique values: 8\n",
      "\n",
      "\n",
      "No    9240\n",
      "Name: I agree to pay the amount through cheque, dtype: int64\n",
      "No. of Unique values: 1\n",
      "\n",
      "\n",
      "No     6352\n",
      "Yes    2888\n",
      "Name: A free copy of Mastering The Interview, dtype: int64\n",
      "No. of Unique values: 2\n",
      "\n",
      "\n",
      "Modified                        3407\n",
      "Email Opened                    2827\n",
      "SMS Sent                        2172\n",
      "Page Visited on Website          318\n",
      "Olark Chat Conversation          183\n",
      "Email Link Clicked               173\n",
      "Email Bounced                     60\n",
      "Unsubscribed                      47\n",
      "Unreachable                       32\n",
      "Had a Phone Conversation          14\n",
      "Email Marked Spam                  2\n",
      "Approached upfront                 1\n",
      "Resubscribed to emails             1\n",
      "View in browser link Clicked       1\n",
      "Form Submitted on Website          1\n",
      "Email Received                     1\n",
      "Name: Last Notable Activity, dtype: int64\n",
      "No. of Unique values: 16\n",
      "\n",
      "\n"
     ]
    }
   ],
   "source": [
    "# checking the value counts of each feature\n",
    "for i in df_cat.columns:\n",
    "    print(df_cat[i].value_counts())\n",
    "    print('No. of Unique values:',len(df_cat[i].unique()))\n",
    "    print('\\n')"
   ]
  },
  {
   "cell_type": "markdown",
   "id": "ffd71854",
   "metadata": {},
   "source": [
    "- there 13 binary value features \n",
    "- few features have unique value as select, which implies the user didn't mention that value. So, that can be treated as null value\n",
    "- Lead source has value correction google to Google"
   ]
  },
  {
   "cell_type": "code",
   "execution_count": 179,
   "id": "8cea0f38",
   "metadata": {},
   "outputs": [],
   "source": [
    "# correcting the value in Lead source\n",
    "df['Lead Source'] = df['Lead Source'].replace('google','Google')"
   ]
  },
  {
   "cell_type": "code",
   "execution_count": 180,
   "id": "7dd1bf41",
   "metadata": {},
   "outputs": [
    {
     "data": {
      "text/plain": [
       "['Do Not Email',\n",
       " 'Do Not Call',\n",
       " 'Search',\n",
       " 'Magazine',\n",
       " 'Newspaper Article',\n",
       " 'X Education Forums',\n",
       " 'Newspaper',\n",
       " 'Digital Advertisement',\n",
       " 'Through Recommendations',\n",
       " 'Receive More Updates About Our Courses',\n",
       " 'Update me on Supply Chain Content',\n",
       " 'Get updates on DM Content',\n",
       " 'I agree to pay the amount through cheque',\n",
       " 'A free copy of Mastering The Interview']"
      ]
     },
     "execution_count": 180,
     "metadata": {},
     "output_type": "execute_result"
    }
   ],
   "source": [
    "# univariate analysis of binary features\n",
    "\n",
    "# Extracting the list of columns\n",
    "bin_cols = [i for i in df_cat.columns if len(df_cat[i].unique()) <=2 ]\n",
    "bin_cols\n"
   ]
  },
  {
   "cell_type": "code",
   "execution_count": 181,
   "id": "b63e6188",
   "metadata": {
    "scrolled": true
   },
   "outputs": [
    {
     "data": {
      "image/png": "[encoded data removed]",
      "text/plain": [
       "<Figure size 1080x1800 with 14 Axes>"
      ]
     },
     "metadata": {
      "needs_background": "light"
     },
     "output_type": "display_data"
    }
   ],
   "source": [
    "# plot the values on count plot\n",
    "list_1=list(enumerate(bin_cols))\n",
    "\n",
    "plt.figure(figsize=(15,25))\n",
    "for i in list_1:\n",
    "    plt.subplot(7,3,(i[0]+1))\n",
    "    plt.xlabel(i[1])\n",
    "    sns.countplot(x=i[1],data=df)"
   ]
  },
  {
   "cell_type": "markdown",
   "id": "08209b77",
   "metadata": {},
   "source": [
    "As we can see except copy of mastering the interview, most the values are no. So these features doesn't really effect the target column. We can drop them."
   ]
  },
  {
   "cell_type": "code",
   "execution_count": 182,
   "id": "6f3da547",
   "metadata": {},
   "outputs": [],
   "source": [
    "# analysis on remaining columns with respective target column\n",
    "\n",
    "df_cat_1 = df_cat.drop(bin_cols,axis=1)"
   ]
  },
  {
   "cell_type": "code",
   "execution_count": 183,
   "id": "aa7bb01d",
   "metadata": {},
   "outputs": [
    {
     "data": {
      "image/png": "[encoded data removed]",
      "text/plain": [
       "<Figure size 1080x360 with 3 Axes>"
      ]
     },
     "metadata": {
      "needs_background": "light"
     },
     "output_type": "display_data"
    }
   ],
   "source": [
    "list_2=list(enumerate(df_cat_1.columns))\n",
    "\n",
    "plt.figure(figsize=(15,5))\n",
    "for i in list_2[:3]:\n",
    "    plt.subplot(1,3,(i[0]+1))\n",
    "    plt.xlabel(i[1])\n",
    "    plt.xticks(rotation=90)\n",
    "    sns.countplot(x=i[1],data=df,hue='Converted')\n",
    "    \n",
    "\n"
   ]
  },
  {
   "cell_type": "markdown",
   "id": "0e0d95c9",
   "metadata": {},
   "source": [
    "#### Inferences:\n",
    "- Sending sms and email have more convertion rate compared to other activities\n",
    "- Most of the traffic is from Google and direct source. The company should concentrate on marketing through Facebook and Youtube\n",
    "- Most the lead are coming for Landing page which have low conversion rate. The company should concetrate on accquiring lead from exciting customers."
   ]
  },
  {
   "cell_type": "code",
   "execution_count": 184,
   "id": "15fd46a6",
   "metadata": {},
   "outputs": [
    {
     "data": {
      "image/png": "[encoded data removed]",
      "text/plain": [
       "<Figure size 1224x360 with 3 Axes>"
      ]
     },
     "metadata": {
      "needs_background": "light"
     },
     "output_type": "display_data"
    }
   ],
   "source": [
    "plt.figure(figsize=(17,5))\n",
    "for i in list_2[3:6]:\n",
    "    plt.subplot(1,3,(i[0]+1-3))\n",
    "    plt.xlabel(i[1])\n",
    "    plt.xticks(rotation=90)\n",
    "    sns.countplot(x=i[1],data=df,hue='Converted')\n",
    "    "
   ]
  },
  {
   "cell_type": "markdown",
   "id": "95b92a2a",
   "metadata": {},
   "source": [
    "#### Inferences:\n",
    "- most of the applications are from India \n",
    "- Specialization and How did you features have high Select values which implies as null\n",
    "- But interesting people now will to specify their specialization have high conversion rate\n",
    "- Out of all specialization customers with Finance, Human Resource, Marketing specialization have opted the course mostly.\n",
    "- Online search is the major get on \n",
    "- the company should invest more into marketing strategies. \n"
   ]
  },
  {
   "cell_type": "code",
   "execution_count": 185,
   "id": "1a9755cd",
   "metadata": {},
   "outputs": [
    {
     "data": {
      "image/png": "[encoded data removed]",
      "text/plain": [
       "<Figure size 1224x360 with 3 Axes>"
      ]
     },
     "metadata": {
      "needs_background": "light"
     },
     "output_type": "display_data"
    }
   ],
   "source": [
    "plt.figure(figsize=(17,5))\n",
    "for i in list_2[6:9]:\n",
    "    plt.subplot(1,3,(i[0]+1-6))\n",
    "    plt.xlabel(i[1])\n",
    "    plt.xticks(rotation=90)\n",
    "    sns.countplot(x=i[1],data=df,hue='Converted')"
   ]
  },
  {
   "cell_type": "markdown",
   "id": "5ef2c562",
   "metadata": {},
   "source": [
    "#### Inferences:\n",
    "- most of the people opt this course for better career prospects.\n",
    "- people who have reverted after the email have higher chance of converting to the program.\n",
    "- Most of the customers are unemployed. Students and working proffesion are not showing much interest in the courses. \n",
    "- Either the company can make the courses flexible to both students and Working professionals.\n",
    "- Also can concentrate more on Unemployed customers."
   ]
  },
  {
   "cell_type": "code",
   "execution_count": 186,
   "id": "0bf0c913",
   "metadata": {},
   "outputs": [
    {
     "data": {
      "image/png": "[encoded data removed]",
      "text/plain": [
       "<Figure size 1224x360 with 3 Axes>"
      ]
     },
     "metadata": {
      "needs_background": "light"
     },
     "output_type": "display_data"
    }
   ],
   "source": [
    "plt.figure(figsize=(17,5))\n",
    "for i in list_2[9:12]:\n",
    "    plt.subplot(1,3,(i[0]+1-9))\n",
    "    plt.xlabel(i[1])\n",
    "    plt.xticks(rotation=90)\n",
    "    sns.countplot(x=i[1],data=df,hue='Converted')"
   ]
  },
  {
   "cell_type": "markdown",
   "id": "59a707ed",
   "metadata": {},
   "source": [
    "#### Inferences:\n",
    "- there are many missing values in city\n",
    "- Most of the users are from mumbai city \n",
    "- Potential lead have converted "
   ]
  },
  {
   "cell_type": "markdown",
   "id": "12ac4500",
   "metadata": {},
   "source": [
    "\n"
   ]
  },
  {
   "cell_type": "code",
   "execution_count": 187,
   "id": "8c5686f9",
   "metadata": {},
   "outputs": [
    {
     "data": {
      "text/html": [
       "<div>\n",
       "<style scoped>\n",
       "    .dataframe tbody tr th:only-of-type {\n",
       "        vertical-align: middle;\n",
       "    }\n",
       "\n",
       "    .dataframe tbody tr th {\n",
       "        vertical-align: top;\n",
       "    }\n",
       "\n",
       "    .dataframe thead th {\n",
       "        text-align: right;\n",
       "    }\n",
       "</style>\n",
       "<table border=\"1\" class=\"dataframe\">\n",
       "  <thead>\n",
       "    <tr style=\"text-align: right;\">\n",
       "      <th></th>\n",
       "      <th>Converted</th>\n",
       "      <th>TotalVisits</th>\n",
       "      <th>Total Time Spent on Website</th>\n",
       "      <th>Page Views Per Visit</th>\n",
       "    </tr>\n",
       "  </thead>\n",
       "  <tbody>\n",
       "    <tr>\n",
       "      <th>Converted</th>\n",
       "      <td>1.000000</td>\n",
       "      <td>0.030395</td>\n",
       "      <td>0.362483</td>\n",
       "      <td>-0.003328</td>\n",
       "    </tr>\n",
       "    <tr>\n",
       "      <th>TotalVisits</th>\n",
       "      <td>0.030395</td>\n",
       "      <td>1.000000</td>\n",
       "      <td>0.221240</td>\n",
       "      <td>0.512125</td>\n",
       "    </tr>\n",
       "    <tr>\n",
       "      <th>Total Time Spent on Website</th>\n",
       "      <td>0.362483</td>\n",
       "      <td>0.221240</td>\n",
       "      <td>1.000000</td>\n",
       "      <td>0.320361</td>\n",
       "    </tr>\n",
       "    <tr>\n",
       "      <th>Page Views Per Visit</th>\n",
       "      <td>-0.003328</td>\n",
       "      <td>0.512125</td>\n",
       "      <td>0.320361</td>\n",
       "      <td>1.000000</td>\n",
       "    </tr>\n",
       "  </tbody>\n",
       "</table>\n",
       "</div>"
      ],
      "text/plain": [
       "                             Converted  TotalVisits  \\\n",
       "Converted                     1.000000     0.030395   \n",
       "TotalVisits                   0.030395     1.000000   \n",
       "Total Time Spent on Website   0.362483     0.221240   \n",
       "Page Views Per Visit         -0.003328     0.512125   \n",
       "\n",
       "                             Total Time Spent on Website  Page Views Per Visit  \n",
       "Converted                                       0.362483             -0.003328  \n",
       "TotalVisits                                     0.221240              0.512125  \n",
       "Total Time Spent on Website                     1.000000              0.320361  \n",
       "Page Views Per Visit                            0.320361              1.000000  "
      ]
     },
     "execution_count": 187,
     "metadata": {},
     "output_type": "execute_result"
    }
   ],
   "source": [
    "# checking the correlation with numeric variables\n",
    "df.corr()"
   ]
  },
  {
   "cell_type": "code",
   "execution_count": 188,
   "id": "041bcd62",
   "metadata": {},
   "outputs": [
    {
     "data": {
      "image/png": "[encoded data removed]",
      "text/plain": [
       "<Figure size 720x432 with 2 Axes>"
      ]
     },
     "metadata": {
      "needs_background": "light"
     },
     "output_type": "display_data"
    }
   ],
   "source": [
    "# plotting the correlation on heatmap\n",
    "\n",
    "plt.figure(figsize=(10,6))\n",
    "sns.heatmap(df.corr(),annot=True,cmap='viridis')\n",
    "plt.show()"
   ]
  },
  {
   "cell_type": "markdown",
   "id": "f7228224",
   "metadata": {},
   "source": [
    "## Inferences:\n",
    "- __Total time spent__ has maximum correlation with convertion rate\n",
    "- there corraltion between page views per visit and total visits\n"
   ]
  },
  {
   "cell_type": "markdown",
   "id": "06ac220a",
   "metadata": {},
   "source": [
    "## <font color ='green'>Step3: Data preprocessing"
   ]
  },
  {
   "cell_type": "code",
   "execution_count": 189,
   "id": "1364b365",
   "metadata": {},
   "outputs": [
    {
     "data": {
      "text/plain": [
       "(9240, 30)"
      ]
     },
     "execution_count": 189,
     "metadata": {},
     "output_type": "execute_result"
    }
   ],
   "source": [
    "df.shape"
   ]
  },
  {
   "cell_type": "markdown",
   "id": "b055982e",
   "metadata": {},
   "source": [
    "### Deleting unwanted columns"
   ]
  },
  {
   "cell_type": "code",
   "execution_count": 190,
   "id": "bb1808fc",
   "metadata": {},
   "outputs": [],
   "source": [
    "# dropping the binary columns which have no influence on target\n",
    "\n",
    "df = df.drop(bin_cols,axis=1)"
   ]
  },
  {
   "cell_type": "code",
   "execution_count": 191,
   "id": "6dcb6b22",
   "metadata": {},
   "outputs": [
    {
     "data": {
      "text/plain": [
       "(9240, 16)"
      ]
     },
     "execution_count": 191,
     "metadata": {},
     "output_type": "execute_result"
    }
   ],
   "source": [
    "df.shape"
   ]
  },
  {
   "cell_type": "markdown",
   "id": "b0b45cca",
   "metadata": {},
   "source": [
    "### Replacing the 'Select' with Nan"
   ]
  },
  {
   "cell_type": "code",
   "execution_count": 192,
   "id": "fcbd8336",
   "metadata": {},
   "outputs": [],
   "source": [
    "# Replacing 'Select' with Nan columns: 'City','Lead profile','Specialization','How did you hear about X Education'\n",
    "\n",
    "df[['City','Lead Profile','Specialization','How did you hear about X Education']] = df[['City','Lead Profile','Specialization','How did you hear about X Education']].replace('Select',np.nan)"
   ]
  },
  {
   "cell_type": "markdown",
   "id": "156d1249",
   "metadata": {},
   "source": [
    "#### Handling missing values"
   ]
  },
  {
   "cell_type": "code",
   "execution_count": 193,
   "id": "77695fbf",
   "metadata": {},
   "outputs": [
    {
     "data": {
      "text/plain": [
       "How did you hear about X Education               78.463203\n",
       "Lead Profile                                     74.188312\n",
       "City                                             39.707792\n",
       "Specialization                                   36.580087\n",
       "Tags                                             36.287879\n",
       "What matters most to you in choosing a course    29.318182\n",
       "What is your current occupation                  29.112554\n",
       "Country                                          26.634199\n",
       "TotalVisits                                       1.482684\n",
       "Page Views Per Visit                              1.482684\n",
       "Last Activity                                     1.114719\n",
       "Lead Source                                       0.389610\n",
       "Lead Origin                                       0.000000\n",
       "Converted                                         0.000000\n",
       "Total Time Spent on Website                       0.000000\n",
       "Last Notable Activity                             0.000000\n",
       "dtype: float64"
      ]
     },
     "execution_count": 193,
     "metadata": {},
     "output_type": "execute_result"
    }
   ],
   "source": [
    "((df.isnull().sum()/df.shape[0])*100).sort_values(ascending=False)"
   ]
  },
  {
   "cell_type": "markdown",
   "id": "4d380cfe",
   "metadata": {},
   "source": [
    "'How did you hear about X Education','Lead Profile' have more than 50% missing values"
   ]
  },
  {
   "cell_type": "code",
   "execution_count": 194,
   "id": "47a1131f",
   "metadata": {},
   "outputs": [],
   "source": [
    "# dropping columns \n",
    "df = df.drop(['How did you hear about X Education','Lead Profile'],axis=1)"
   ]
  },
  {
   "cell_type": "code",
   "execution_count": 195,
   "id": "2bb7705a",
   "metadata": {},
   "outputs": [],
   "source": [
    "# droppin rows for columns having less than 5% missing values\n",
    "df = df.dropna(subset=['TotalVisits','Page Views Per Visit','Lead Source'])"
   ]
  },
  {
   "cell_type": "code",
   "execution_count": 196,
   "id": "5665afd6",
   "metadata": {},
   "outputs": [
    {
     "data": {
      "text/plain": [
       "Lead Origin                                         0\n",
       "Lead Source                                         0\n",
       "Converted                                           0\n",
       "TotalVisits                                         0\n",
       "Total Time Spent on Website                         0\n",
       "Page Views Per Visit                                0\n",
       "Last Activity                                       0\n",
       "Country                                          2296\n",
       "Specialization                                   3282\n",
       "What is your current occupation                  2683\n",
       "What matters most to you in choosing a course    2702\n",
       "Tags                                             3327\n",
       "City                                             3575\n",
       "Last Notable Activity                               0\n",
       "dtype: int64"
      ]
     },
     "execution_count": 196,
     "metadata": {},
     "output_type": "execute_result"
    }
   ],
   "source": [
    "df.isnull().sum()"
   ]
  },
  {
   "cell_type": "markdown",
   "id": "a298840d",
   "metadata": {},
   "source": [
    "__the remaining missing values can be imputed with random values from the columns__"
   ]
  },
  {
   "cell_type": "markdown",
   "id": "5a42548f",
   "metadata": {},
   "source": [
    "### Imputing missing values with random values\n",
    "- col : 'City','What is your current occupation','Specialization','Country'"
   ]
  },
  {
   "cell_type": "code",
   "execution_count": 197,
   "id": "587fe9c2",
   "metadata": {},
   "outputs": [],
   "source": [
    "df['City_imputed'] = df['City']\n",
    "df['Current_occupation_imputed'] = df['What is your current occupation']\n",
    "df['Specialization_imputed'] = df['Specialization']\n",
    "df['Country_imputed'] = df['Country']"
   ]
  },
  {
   "cell_type": "code",
   "execution_count": 198,
   "id": "bd167633",
   "metadata": {},
   "outputs": [],
   "source": [
    "df['City_imputed'][df['City_imputed'].isnull()] = df['City'].dropna().sample(df['City'].isnull().sum()).values\n",
    "df['Current_occupation_imputed'][df['Current_occupation_imputed'].isnull()] = df['What is your current occupation'].dropna().sample(df['What is your current occupation'].isnull().sum()).values\n",
    "df['Specialization_imputed'][df['Specialization_imputed'].isnull()] = df['Specialization'].dropna().sample(df['Specialization'].isnull().sum()).values\n",
    "df['Country_imputed'][df['Country_imputed'].isnull()] = df['Country'].dropna().sample(df['Country'].isnull().sum()).values"
   ]
  },
  {
   "cell_type": "code",
   "execution_count": 199,
   "id": "cda16243",
   "metadata": {},
   "outputs": [],
   "source": [
    "# dropping the columns with null values\n",
    "df = df.drop(['City','What is your current occupation','Specialization','Country'],axis =1)"
   ]
  },
  {
   "cell_type": "code",
   "execution_count": 200,
   "id": "509e15d1",
   "metadata": {},
   "outputs": [
    {
     "data": {
      "text/plain": [
       "Lead Origin                                         0\n",
       "Lead Source                                         0\n",
       "Converted                                           0\n",
       "TotalVisits                                         0\n",
       "Total Time Spent on Website                         0\n",
       "Page Views Per Visit                                0\n",
       "Last Activity                                       0\n",
       "What matters most to you in choosing a course    2702\n",
       "Tags                                             3327\n",
       "Last Notable Activity                               0\n",
       "City_imputed                                        0\n",
       "Current_occupation_imputed                          0\n",
       "Specialization_imputed                              0\n",
       "Country_imputed                                     0\n",
       "dtype: int64"
      ]
     },
     "execution_count": 200,
     "metadata": {},
     "output_type": "execute_result"
    }
   ],
   "source": [
    "df.isnull().sum()"
   ]
  },
  {
   "cell_type": "markdown",
   "id": "314fa5de",
   "metadata": {},
   "source": [
    "Tags are assigned by the company, so we cannot replace that with random values. So The null values are replaced by 'not given'\n",
    "and What matters to you can be replaced by mode value."
   ]
  },
  {
   "cell_type": "code",
   "execution_count": 201,
   "id": "072028fe",
   "metadata": {},
   "outputs": [
    {
     "data": {
      "text/plain": [
       "0    Better Career Prospects\n",
       "Name: What matters most to you in choosing a course, dtype: object"
      ]
     },
     "execution_count": 201,
     "metadata": {},
     "output_type": "execute_result"
    }
   ],
   "source": [
    "df['What matters most to you in choosing a course'].mode()"
   ]
  },
  {
   "cell_type": "code",
   "execution_count": 202,
   "id": "60607b09",
   "metadata": {},
   "outputs": [],
   "source": [
    "# fill NAs\n",
    "df['Tags'] = df['Tags'].fillna('Not given')\n",
    "\n",
    "df['What matters most to you in choosing a course'] = df['What matters most to you in choosing a course'].fillna('Better Career Prospects')"
   ]
  },
  {
   "cell_type": "code",
   "execution_count": 203,
   "id": "db913e6a",
   "metadata": {},
   "outputs": [
    {
     "data": {
      "text/plain": [
       "Lead Origin                                      0\n",
       "Lead Source                                      0\n",
       "Converted                                        0\n",
       "TotalVisits                                      0\n",
       "Total Time Spent on Website                      0\n",
       "Page Views Per Visit                             0\n",
       "Last Activity                                    0\n",
       "What matters most to you in choosing a course    0\n",
       "Tags                                             0\n",
       "Last Notable Activity                            0\n",
       "City_imputed                                     0\n",
       "Current_occupation_imputed                       0\n",
       "Specialization_imputed                           0\n",
       "Country_imputed                                  0\n",
       "dtype: int64"
      ]
     },
     "execution_count": 203,
     "metadata": {},
     "output_type": "execute_result"
    }
   ],
   "source": [
    "df.isnull().sum()"
   ]
  },
  {
   "cell_type": "code",
   "execution_count": 204,
   "id": "a1cedac0",
   "metadata": {},
   "outputs": [
    {
     "data": {
      "text/plain": [
       "(9074, 14)"
      ]
     },
     "execution_count": 204,
     "metadata": {},
     "output_type": "execute_result"
    }
   ],
   "source": [
    "df.shape"
   ]
  },
  {
   "cell_type": "markdown",
   "id": "1cc03c1c",
   "metadata": {},
   "source": [
    "### Handling outliers"
   ]
  },
  {
   "cell_type": "code",
   "execution_count": 205,
   "id": "616539ff",
   "metadata": {},
   "outputs": [
    {
     "data": {
      "text/html": [
       "<div>\n",
       "<style scoped>\n",
       "    .dataframe tbody tr th:only-of-type {\n",
       "        vertical-align: middle;\n",
       "    }\n",
       "\n",
       "    .dataframe tbody tr th {\n",
       "        vertical-align: top;\n",
       "    }\n",
       "\n",
       "    .dataframe thead th {\n",
       "        text-align: right;\n",
       "    }\n",
       "</style>\n",
       "<table border=\"1\" class=\"dataframe\">\n",
       "  <thead>\n",
       "    <tr style=\"text-align: right;\">\n",
       "      <th></th>\n",
       "      <th>Converted</th>\n",
       "      <th>TotalVisits</th>\n",
       "      <th>Total Time Spent on Website</th>\n",
       "      <th>Page Views Per Visit</th>\n",
       "    </tr>\n",
       "  </thead>\n",
       "  <tbody>\n",
       "    <tr>\n",
       "      <th>count</th>\n",
       "      <td>9074.000000</td>\n",
       "      <td>9074.000000</td>\n",
       "      <td>9074.000000</td>\n",
       "      <td>9074.000000</td>\n",
       "    </tr>\n",
       "    <tr>\n",
       "      <th>mean</th>\n",
       "      <td>0.378554</td>\n",
       "      <td>3.456028</td>\n",
       "      <td>482.887481</td>\n",
       "      <td>2.370151</td>\n",
       "    </tr>\n",
       "    <tr>\n",
       "      <th>std</th>\n",
       "      <td>0.485053</td>\n",
       "      <td>4.858802</td>\n",
       "      <td>545.256560</td>\n",
       "      <td>2.160871</td>\n",
       "    </tr>\n",
       "    <tr>\n",
       "      <th>min</th>\n",
       "      <td>0.000000</td>\n",
       "      <td>0.000000</td>\n",
       "      <td>0.000000</td>\n",
       "      <td>0.000000</td>\n",
       "    </tr>\n",
       "    <tr>\n",
       "      <th>25%</th>\n",
       "      <td>0.000000</td>\n",
       "      <td>1.000000</td>\n",
       "      <td>11.000000</td>\n",
       "      <td>1.000000</td>\n",
       "    </tr>\n",
       "    <tr>\n",
       "      <th>50%</th>\n",
       "      <td>0.000000</td>\n",
       "      <td>3.000000</td>\n",
       "      <td>246.000000</td>\n",
       "      <td>2.000000</td>\n",
       "    </tr>\n",
       "    <tr>\n",
       "      <th>75%</th>\n",
       "      <td>1.000000</td>\n",
       "      <td>5.000000</td>\n",
       "      <td>922.750000</td>\n",
       "      <td>3.200000</td>\n",
       "    </tr>\n",
       "    <tr>\n",
       "      <th>max</th>\n",
       "      <td>1.000000</td>\n",
       "      <td>251.000000</td>\n",
       "      <td>2272.000000</td>\n",
       "      <td>55.000000</td>\n",
       "    </tr>\n",
       "  </tbody>\n",
       "</table>\n",
       "</div>"
      ],
      "text/plain": [
       "         Converted  TotalVisits  Total Time Spent on Website  \\\n",
       "count  9074.000000  9074.000000                  9074.000000   \n",
       "mean      0.378554     3.456028                   482.887481   \n",
       "std       0.485053     4.858802                   545.256560   \n",
       "min       0.000000     0.000000                     0.000000   \n",
       "25%       0.000000     1.000000                    11.000000   \n",
       "50%       0.000000     3.000000                   246.000000   \n",
       "75%       1.000000     5.000000                   922.750000   \n",
       "max       1.000000   251.000000                  2272.000000   \n",
       "\n",
       "       Page Views Per Visit  \n",
       "count           9074.000000  \n",
       "mean               2.370151  \n",
       "std                2.160871  \n",
       "min                0.000000  \n",
       "25%                1.000000  \n",
       "50%                2.000000  \n",
       "75%                3.200000  \n",
       "max               55.000000  "
      ]
     },
     "execution_count": 205,
     "metadata": {},
     "output_type": "execute_result"
    }
   ],
   "source": [
    "df.describe()"
   ]
  },
  {
   "cell_type": "code",
   "execution_count": 206,
   "id": "b59585d2",
   "metadata": {},
   "outputs": [],
   "source": [
    "# Keeping the values in 95th quatile range\n",
    "df = df[df['TotalVisits']<df['TotalVisits'].quantile(0.99)]\n",
    "df = df[df['Page Views Per Visit']<df['Page Views Per Visit'].quantile(0.99)]\n"
   ]
  },
  {
   "cell_type": "code",
   "execution_count": 207,
   "id": "c256cb83",
   "metadata": {},
   "outputs": [
    {
     "data": {
      "text/html": [
       "<div>\n",
       "<style scoped>\n",
       "    .dataframe tbody tr th:only-of-type {\n",
       "        vertical-align: middle;\n",
       "    }\n",
       "\n",
       "    .dataframe tbody tr th {\n",
       "        vertical-align: top;\n",
       "    }\n",
       "\n",
       "    .dataframe thead th {\n",
       "        text-align: right;\n",
       "    }\n",
       "</style>\n",
       "<table border=\"1\" class=\"dataframe\">\n",
       "  <thead>\n",
       "    <tr style=\"text-align: right;\">\n",
       "      <th></th>\n",
       "      <th>Converted</th>\n",
       "      <th>TotalVisits</th>\n",
       "      <th>Total Time Spent on Website</th>\n",
       "      <th>Page Views Per Visit</th>\n",
       "    </tr>\n",
       "  </thead>\n",
       "  <tbody>\n",
       "    <tr>\n",
       "      <th>count</th>\n",
       "      <td>8863.000000</td>\n",
       "      <td>8863.000000</td>\n",
       "      <td>8863.000000</td>\n",
       "      <td>8863.000000</td>\n",
       "    </tr>\n",
       "    <tr>\n",
       "      <th>mean</th>\n",
       "      <td>0.378089</td>\n",
       "      <td>3.098387</td>\n",
       "      <td>478.122193</td>\n",
       "      <td>2.236941</td>\n",
       "    </tr>\n",
       "    <tr>\n",
       "      <th>std</th>\n",
       "      <td>0.484937</td>\n",
       "      <td>2.821961</td>\n",
       "      <td>544.532372</td>\n",
       "      <td>1.835885</td>\n",
       "    </tr>\n",
       "    <tr>\n",
       "      <th>min</th>\n",
       "      <td>0.000000</td>\n",
       "      <td>0.000000</td>\n",
       "      <td>0.000000</td>\n",
       "      <td>0.000000</td>\n",
       "    </tr>\n",
       "    <tr>\n",
       "      <th>25%</th>\n",
       "      <td>0.000000</td>\n",
       "      <td>1.000000</td>\n",
       "      <td>5.000000</td>\n",
       "      <td>1.000000</td>\n",
       "    </tr>\n",
       "    <tr>\n",
       "      <th>50%</th>\n",
       "      <td>0.000000</td>\n",
       "      <td>3.000000</td>\n",
       "      <td>240.000000</td>\n",
       "      <td>2.000000</td>\n",
       "    </tr>\n",
       "    <tr>\n",
       "      <th>75%</th>\n",
       "      <td>1.000000</td>\n",
       "      <td>4.000000</td>\n",
       "      <td>913.000000</td>\n",
       "      <td>3.000000</td>\n",
       "    </tr>\n",
       "    <tr>\n",
       "      <th>max</th>\n",
       "      <td>1.000000</td>\n",
       "      <td>16.000000</td>\n",
       "      <td>2272.000000</td>\n",
       "      <td>8.000000</td>\n",
       "    </tr>\n",
       "  </tbody>\n",
       "</table>\n",
       "</div>"
      ],
      "text/plain": [
       "         Converted  TotalVisits  Total Time Spent on Website  \\\n",
       "count  8863.000000  8863.000000                  8863.000000   \n",
       "mean      0.378089     3.098387                   478.122193   \n",
       "std       0.484937     2.821961                   544.532372   \n",
       "min       0.000000     0.000000                     0.000000   \n",
       "25%       0.000000     1.000000                     5.000000   \n",
       "50%       0.000000     3.000000                   240.000000   \n",
       "75%       1.000000     4.000000                   913.000000   \n",
       "max       1.000000    16.000000                  2272.000000   \n",
       "\n",
       "       Page Views Per Visit  \n",
       "count           8863.000000  \n",
       "mean               2.236941  \n",
       "std                1.835885  \n",
       "min                0.000000  \n",
       "25%                1.000000  \n",
       "50%                2.000000  \n",
       "75%                3.000000  \n",
       "max                8.000000  "
      ]
     },
     "execution_count": 207,
     "metadata": {},
     "output_type": "execute_result"
    }
   ],
   "source": [
    "df.describe()"
   ]
  },
  {
   "cell_type": "code",
   "execution_count": 208,
   "id": "1461bca2",
   "metadata": {},
   "outputs": [
    {
     "data": {
      "text/plain": [
       "(8863, 14)"
      ]
     },
     "execution_count": 208,
     "metadata": {},
     "output_type": "execute_result"
    }
   ],
   "source": [
    "df.shape"
   ]
  },
  {
   "cell_type": "code",
   "execution_count": 209,
   "id": "78db1c6c",
   "metadata": {},
   "outputs": [
    {
     "data": {
      "image/png": "[encoded data removed]",
      "text/plain": [
       "<Figure size 720x720 with 20 Axes>"
      ]
     },
     "metadata": {
      "needs_background": "light"
     },
     "output_type": "display_data"
    }
   ],
   "source": [
    "# plotting the numerical data after outliers removed\n",
    "sns.pairplot(df)\n",
    "plt.show()"
   ]
  },
  {
   "cell_type": "markdown",
   "id": "f5357136",
   "metadata": {},
   "source": [
    "Numerical feature data distribution is right skewed, applying log transformation or standardizing might give better results."
   ]
  },
  {
   "cell_type": "markdown",
   "id": "5de13b15",
   "metadata": {},
   "source": [
    "#### Shuffling the Data set for final view"
   ]
  },
  {
   "cell_type": "code",
   "execution_count": 210,
   "id": "95d4ee3f",
   "metadata": {},
   "outputs": [
    {
     "data": {
      "text/html": [
       "<div>\n",
       "<style scoped>\n",
       "    .dataframe tbody tr th:only-of-type {\n",
       "        vertical-align: middle;\n",
       "    }\n",
       "\n",
       "    .dataframe tbody tr th {\n",
       "        vertical-align: top;\n",
       "    }\n",
       "\n",
       "    .dataframe thead th {\n",
       "        text-align: right;\n",
       "    }\n",
       "</style>\n",
       "<table border=\"1\" class=\"dataframe\">\n",
       "  <thead>\n",
       "    <tr style=\"text-align: right;\">\n",
       "      <th></th>\n",
       "      <th>Lead Origin</th>\n",
       "      <th>Lead Source</th>\n",
       "      <th>Converted</th>\n",
       "      <th>TotalVisits</th>\n",
       "      <th>Total Time Spent on Website</th>\n",
       "      <th>Page Views Per Visit</th>\n",
       "      <th>Last Activity</th>\n",
       "      <th>What matters most to you in choosing a course</th>\n",
       "      <th>Tags</th>\n",
       "      <th>Last Notable Activity</th>\n",
       "      <th>City_imputed</th>\n",
       "      <th>Current_occupation_imputed</th>\n",
       "      <th>Specialization_imputed</th>\n",
       "      <th>Country_imputed</th>\n",
       "    </tr>\n",
       "  </thead>\n",
       "  <tbody>\n",
       "    <tr>\n",
       "      <th>0</th>\n",
       "      <td>API</td>\n",
       "      <td>Olark Chat</td>\n",
       "      <td>0</td>\n",
       "      <td>0.0</td>\n",
       "      <td>0</td>\n",
       "      <td>0.0</td>\n",
       "      <td>Page Visited on Website</td>\n",
       "      <td>Better Career Prospects</td>\n",
       "      <td>Interested in other courses</td>\n",
       "      <td>Modified</td>\n",
       "      <td>Thane &amp; Outskirts</td>\n",
       "      <td>Unemployed</td>\n",
       "      <td>Operations Management</td>\n",
       "      <td>India</td>\n",
       "    </tr>\n",
       "    <tr>\n",
       "      <th>1</th>\n",
       "      <td>API</td>\n",
       "      <td>Organic Search</td>\n",
       "      <td>0</td>\n",
       "      <td>5.0</td>\n",
       "      <td>674</td>\n",
       "      <td>2.5</td>\n",
       "      <td>Email Opened</td>\n",
       "      <td>Better Career Prospects</td>\n",
       "      <td>Ringing</td>\n",
       "      <td>Email Opened</td>\n",
       "      <td>Thane &amp; Outskirts</td>\n",
       "      <td>Unemployed</td>\n",
       "      <td>International Business</td>\n",
       "      <td>India</td>\n",
       "    </tr>\n",
       "  </tbody>\n",
       "</table>\n",
       "</div>"
      ],
      "text/plain": [
       "  Lead Origin     Lead Source  Converted  TotalVisits  \\\n",
       "0         API      Olark Chat          0          0.0   \n",
       "1         API  Organic Search          0          5.0   \n",
       "\n",
       "   Total Time Spent on Website  Page Views Per Visit            Last Activity  \\\n",
       "0                            0                   0.0  Page Visited on Website   \n",
       "1                          674                   2.5             Email Opened   \n",
       "\n",
       "  What matters most to you in choosing a course                         Tags  \\\n",
       "0                       Better Career Prospects  Interested in other courses   \n",
       "1                       Better Career Prospects                      Ringing   \n",
       "\n",
       "  Last Notable Activity       City_imputed Current_occupation_imputed  \\\n",
       "0              Modified  Thane & Outskirts                 Unemployed   \n",
       "1          Email Opened  Thane & Outskirts                 Unemployed   \n",
       "\n",
       "   Specialization_imputed Country_imputed  \n",
       "0   Operations Management           India  \n",
       "1  International Business           India  "
      ]
     },
     "execution_count": 210,
     "metadata": {},
     "output_type": "execute_result"
    }
   ],
   "source": [
    "df.head(2)"
   ]
  },
  {
   "cell_type": "markdown",
   "id": "45e3ea52",
   "metadata": {},
   "source": [
    "__As Tags are given by the company to potentail leads this column can be dropped which might not be useful to solve our problem.__"
   ]
  },
  {
   "cell_type": "code",
   "execution_count": 211,
   "id": "a80866d2",
   "metadata": {},
   "outputs": [],
   "source": [
    "df = df.drop('Tags',axis=1)"
   ]
  },
  {
   "cell_type": "code",
   "execution_count": 212,
   "id": "ce2a3435",
   "metadata": {},
   "outputs": [
    {
     "name": "stdout",
     "output_type": "stream",
     "text": [
      "['Converted', 'TotalVisits', 'Total Time Spent on Website', 'Page Views Per Visit']\n"
     ]
    }
   ],
   "source": [
    "# getting the numerical and categorical columns\n",
    "num = list(df._get_numeric_data().columns)\n",
    "\n",
    "print(num)"
   ]
  },
  {
   "cell_type": "code",
   "execution_count": 213,
   "id": "8bbf7a07",
   "metadata": {},
   "outputs": [
    {
     "name": "stdout",
     "output_type": "stream",
     "text": [
      "['Lead Origin', 'Lead Source', 'Last Activity', 'What matters most to you in choosing a course', 'Last Notable Activity', 'City_imputed', 'Current_occupation_imputed', 'Specialization_imputed', 'Country_imputed']\n"
     ]
    }
   ],
   "source": [
    "cat = list(df.drop(num,axis=1))\n",
    "print(cat)"
   ]
  },
  {
   "cell_type": "code",
   "execution_count": 214,
   "id": "88c0dd7e",
   "metadata": {},
   "outputs": [],
   "source": [
    "# bring the numerical column towards end to make the column transformatio easy\n",
    "\n",
    "df_final = df[cat]\n",
    "df_final[num] = df[num]\n"
   ]
  },
  {
   "cell_type": "code",
   "execution_count": 215,
   "id": "83f9a461",
   "metadata": {},
   "outputs": [
    {
     "data": {
      "text/plain": [
       "(8863, 13)"
      ]
     },
     "execution_count": 215,
     "metadata": {},
     "output_type": "execute_result"
    }
   ],
   "source": [
    "df_final.shape"
   ]
  },
  {
   "cell_type": "code",
   "execution_count": 216,
   "id": "2bf888a5",
   "metadata": {},
   "outputs": [
    {
     "data": {
      "text/html": [
       "<div>\n",
       "<style scoped>\n",
       "    .dataframe tbody tr th:only-of-type {\n",
       "        vertical-align: middle;\n",
       "    }\n",
       "\n",
       "    .dataframe tbody tr th {\n",
       "        vertical-align: top;\n",
       "    }\n",
       "\n",
       "    .dataframe thead th {\n",
       "        text-align: right;\n",
       "    }\n",
       "</style>\n",
       "<table border=\"1\" class=\"dataframe\">\n",
       "  <thead>\n",
       "    <tr style=\"text-align: right;\">\n",
       "      <th></th>\n",
       "      <th>Lead Origin</th>\n",
       "      <th>Lead Source</th>\n",
       "      <th>Last Activity</th>\n",
       "      <th>What matters most to you in choosing a course</th>\n",
       "      <th>Last Notable Activity</th>\n",
       "      <th>City_imputed</th>\n",
       "      <th>Current_occupation_imputed</th>\n",
       "      <th>Specialization_imputed</th>\n",
       "      <th>Country_imputed</th>\n",
       "      <th>Converted</th>\n",
       "      <th>TotalVisits</th>\n",
       "      <th>Total Time Spent on Website</th>\n",
       "      <th>Page Views Per Visit</th>\n",
       "    </tr>\n",
       "  </thead>\n",
       "  <tbody>\n",
       "    <tr>\n",
       "      <th>0</th>\n",
       "      <td>API</td>\n",
       "      <td>Olark Chat</td>\n",
       "      <td>Page Visited on Website</td>\n",
       "      <td>Better Career Prospects</td>\n",
       "      <td>Modified</td>\n",
       "      <td>Thane &amp; Outskirts</td>\n",
       "      <td>Unemployed</td>\n",
       "      <td>Operations Management</td>\n",
       "      <td>India</td>\n",
       "      <td>0</td>\n",
       "      <td>0.0</td>\n",
       "      <td>0</td>\n",
       "      <td>0.0</td>\n",
       "    </tr>\n",
       "    <tr>\n",
       "      <th>1</th>\n",
       "      <td>API</td>\n",
       "      <td>Organic Search</td>\n",
       "      <td>Email Opened</td>\n",
       "      <td>Better Career Prospects</td>\n",
       "      <td>Email Opened</td>\n",
       "      <td>Thane &amp; Outskirts</td>\n",
       "      <td>Unemployed</td>\n",
       "      <td>International Business</td>\n",
       "      <td>India</td>\n",
       "      <td>0</td>\n",
       "      <td>5.0</td>\n",
       "      <td>674</td>\n",
       "      <td>2.5</td>\n",
       "    </tr>\n",
       "    <tr>\n",
       "      <th>2</th>\n",
       "      <td>Landing Page Submission</td>\n",
       "      <td>Direct Traffic</td>\n",
       "      <td>Email Opened</td>\n",
       "      <td>Better Career Prospects</td>\n",
       "      <td>Email Opened</td>\n",
       "      <td>Mumbai</td>\n",
       "      <td>Student</td>\n",
       "      <td>Business Administration</td>\n",
       "      <td>India</td>\n",
       "      <td>1</td>\n",
       "      <td>2.0</td>\n",
       "      <td>1532</td>\n",
       "      <td>2.0</td>\n",
       "    </tr>\n",
       "    <tr>\n",
       "      <th>3</th>\n",
       "      <td>Landing Page Submission</td>\n",
       "      <td>Direct Traffic</td>\n",
       "      <td>Unreachable</td>\n",
       "      <td>Better Career Prospects</td>\n",
       "      <td>Modified</td>\n",
       "      <td>Mumbai</td>\n",
       "      <td>Unemployed</td>\n",
       "      <td>Media and Advertising</td>\n",
       "      <td>India</td>\n",
       "      <td>0</td>\n",
       "      <td>1.0</td>\n",
       "      <td>305</td>\n",
       "      <td>1.0</td>\n",
       "    </tr>\n",
       "    <tr>\n",
       "      <th>4</th>\n",
       "      <td>Landing Page Submission</td>\n",
       "      <td>Google</td>\n",
       "      <td>Converted to Lead</td>\n",
       "      <td>Better Career Prospects</td>\n",
       "      <td>Modified</td>\n",
       "      <td>Mumbai</td>\n",
       "      <td>Unemployed</td>\n",
       "      <td>Supply Chain Management</td>\n",
       "      <td>India</td>\n",
       "      <td>1</td>\n",
       "      <td>2.0</td>\n",
       "      <td>1428</td>\n",
       "      <td>1.0</td>\n",
       "    </tr>\n",
       "  </tbody>\n",
       "</table>\n",
       "</div>"
      ],
      "text/plain": [
       "               Lead Origin     Lead Source            Last Activity  \\\n",
       "0                      API      Olark Chat  Page Visited on Website   \n",
       "1                      API  Organic Search             Email Opened   \n",
       "2  Landing Page Submission  Direct Traffic             Email Opened   \n",
       "3  Landing Page Submission  Direct Traffic              Unreachable   \n",
       "4  Landing Page Submission          Google        Converted to Lead   \n",
       "\n",
       "  What matters most to you in choosing a course Last Notable Activity  \\\n",
       "0                       Better Career Prospects              Modified   \n",
       "1                       Better Career Prospects          Email Opened   \n",
       "2                       Better Career Prospects          Email Opened   \n",
       "3                       Better Career Prospects              Modified   \n",
       "4                       Better Career Prospects              Modified   \n",
       "\n",
       "        City_imputed Current_occupation_imputed   Specialization_imputed  \\\n",
       "0  Thane & Outskirts                 Unemployed    Operations Management   \n",
       "1  Thane & Outskirts                 Unemployed   International Business   \n",
       "2             Mumbai                    Student  Business Administration   \n",
       "3             Mumbai                 Unemployed    Media and Advertising   \n",
       "4             Mumbai                 Unemployed  Supply Chain Management   \n",
       "\n",
       "  Country_imputed  Converted  TotalVisits  Total Time Spent on Website  \\\n",
       "0           India          0          0.0                            0   \n",
       "1           India          0          5.0                          674   \n",
       "2           India          1          2.0                         1532   \n",
       "3           India          0          1.0                          305   \n",
       "4           India          1          2.0                         1428   \n",
       "\n",
       "   Page Views Per Visit  \n",
       "0                   0.0  \n",
       "1                   2.5  \n",
       "2                   2.0  \n",
       "3                   1.0  \n",
       "4                   1.0  "
      ]
     },
     "execution_count": 216,
     "metadata": {},
     "output_type": "execute_result"
    }
   ],
   "source": [
    "df_final.head()"
   ]
  },
  {
   "cell_type": "markdown",
   "id": "5f960375",
   "metadata": {},
   "source": [
    "## <font color ='green'>Step4: Model training"
   ]
  },
  {
   "cell_type": "markdown",
   "id": "7bebdfbf",
   "metadata": {},
   "source": [
    "### Steps :\n",
    "1. Define X,y\n",
    "2. Splitting the data to train and test with ratio (70/30)\n",
    "3. Creating columns transform:\n",
    "    - scaling the numerical features using standard scalar\n",
    "    - encoding the categorical data\n",
    "4. Extracting the important features using Random forest\n",
    "5. Train and evaluate the model with all the features\n",
    "6. Apply RFE - Train and evaluate the model \n",
    "7. Check the values and VIF of features for further elemination \n",
    "8. Train and Evaluate the final model\n",
    "9. plot the ROC \n",
    "10. change the cutt-off to achieve Precission Recall Tradeoff\n",
    "\n"
   ]
  },
  {
   "cell_type": "markdown",
   "id": "921531d1",
   "metadata": {},
   "source": [
    "### Import sklearn libraries"
   ]
  },
  {
   "cell_type": "code",
   "execution_count": 217,
   "id": "a6c1dded",
   "metadata": {},
   "outputs": [],
   "source": [
    "from sklearn.model_selection import train_test_split,cross_val_score\n",
    "from sklearn.linear_model import LogisticRegression\n",
    "from sklearn.metrics import accuracy_score,recall_score,precision_score\n",
    "from sklearn.metrics import confusion_matrix,classification_report,roc_curve,roc_auc_score\n",
    "from sklearn.preprocessing import OneHotEncoder,StandardScaler\n",
    "from sklearn.pipeline import make_pipeline\n",
    "from sklearn.compose import ColumnTransformer\n",
    "from sklearn.feature_selection import RFE\n",
    "import statsmodels.api as sm\n",
    "from statsmodels.stats.outliers_influence import variance_inflation_factor"
   ]
  },
  {
   "cell_type": "markdown",
   "id": "649393c7",
   "metadata": {},
   "source": [
    "### Defining X,y"
   ]
  },
  {
   "cell_type": "code",
   "execution_count": 218,
   "id": "2f270a49",
   "metadata": {},
   "outputs": [],
   "source": [
    "# extracting target and independet data\n",
    "X = df_final.drop('Converted',axis=1)\n",
    "y = df_final['Converted']"
   ]
  },
  {
   "cell_type": "code",
   "execution_count": 219,
   "id": "89587583",
   "metadata": {},
   "outputs": [
    {
     "data": {
      "text/html": [
       "<div>\n",
       "<style scoped>\n",
       "    .dataframe tbody tr th:only-of-type {\n",
       "        vertical-align: middle;\n",
       "    }\n",
       "\n",
       "    .dataframe tbody tr th {\n",
       "        vertical-align: top;\n",
       "    }\n",
       "\n",
       "    .dataframe thead th {\n",
       "        text-align: right;\n",
       "    }\n",
       "</style>\n",
       "<table border=\"1\" class=\"dataframe\">\n",
       "  <thead>\n",
       "    <tr style=\"text-align: right;\">\n",
       "      <th></th>\n",
       "      <th>Lead Origin</th>\n",
       "      <th>Lead Source</th>\n",
       "      <th>Last Activity</th>\n",
       "      <th>What matters most to you in choosing a course</th>\n",
       "      <th>Last Notable Activity</th>\n",
       "      <th>City_imputed</th>\n",
       "      <th>Current_occupation_imputed</th>\n",
       "      <th>Specialization_imputed</th>\n",
       "      <th>Country_imputed</th>\n",
       "      <th>TotalVisits</th>\n",
       "      <th>Total Time Spent on Website</th>\n",
       "      <th>Page Views Per Visit</th>\n",
       "    </tr>\n",
       "  </thead>\n",
       "  <tbody>\n",
       "    <tr>\n",
       "      <th>0</th>\n",
       "      <td>API</td>\n",
       "      <td>Olark Chat</td>\n",
       "      <td>Page Visited on Website</td>\n",
       "      <td>Better Career Prospects</td>\n",
       "      <td>Modified</td>\n",
       "      <td>Thane &amp; Outskirts</td>\n",
       "      <td>Unemployed</td>\n",
       "      <td>Operations Management</td>\n",
       "      <td>India</td>\n",
       "      <td>0.0</td>\n",
       "      <td>0</td>\n",
       "      <td>0.0</td>\n",
       "    </tr>\n",
       "    <tr>\n",
       "      <th>1</th>\n",
       "      <td>API</td>\n",
       "      <td>Organic Search</td>\n",
       "      <td>Email Opened</td>\n",
       "      <td>Better Career Prospects</td>\n",
       "      <td>Email Opened</td>\n",
       "      <td>Thane &amp; Outskirts</td>\n",
       "      <td>Unemployed</td>\n",
       "      <td>International Business</td>\n",
       "      <td>India</td>\n",
       "      <td>5.0</td>\n",
       "      <td>674</td>\n",
       "      <td>2.5</td>\n",
       "    </tr>\n",
       "    <tr>\n",
       "      <th>2</th>\n",
       "      <td>Landing Page Submission</td>\n",
       "      <td>Direct Traffic</td>\n",
       "      <td>Email Opened</td>\n",
       "      <td>Better Career Prospects</td>\n",
       "      <td>Email Opened</td>\n",
       "      <td>Mumbai</td>\n",
       "      <td>Student</td>\n",
       "      <td>Business Administration</td>\n",
       "      <td>India</td>\n",
       "      <td>2.0</td>\n",
       "      <td>1532</td>\n",
       "      <td>2.0</td>\n",
       "    </tr>\n",
       "    <tr>\n",
       "      <th>3</th>\n",
       "      <td>Landing Page Submission</td>\n",
       "      <td>Direct Traffic</td>\n",
       "      <td>Unreachable</td>\n",
       "      <td>Better Career Prospects</td>\n",
       "      <td>Modified</td>\n",
       "      <td>Mumbai</td>\n",
       "      <td>Unemployed</td>\n",
       "      <td>Media and Advertising</td>\n",
       "      <td>India</td>\n",
       "      <td>1.0</td>\n",
       "      <td>305</td>\n",
       "      <td>1.0</td>\n",
       "    </tr>\n",
       "    <tr>\n",
       "      <th>4</th>\n",
       "      <td>Landing Page Submission</td>\n",
       "      <td>Google</td>\n",
       "      <td>Converted to Lead</td>\n",
       "      <td>Better Career Prospects</td>\n",
       "      <td>Modified</td>\n",
       "      <td>Mumbai</td>\n",
       "      <td>Unemployed</td>\n",
       "      <td>Supply Chain Management</td>\n",
       "      <td>India</td>\n",
       "      <td>2.0</td>\n",
       "      <td>1428</td>\n",
       "      <td>1.0</td>\n",
       "    </tr>\n",
       "  </tbody>\n",
       "</table>\n",
       "</div>"
      ],
      "text/plain": [
       "               Lead Origin     Lead Source            Last Activity  \\\n",
       "0                      API      Olark Chat  Page Visited on Website   \n",
       "1                      API  Organic Search             Email Opened   \n",
       "2  Landing Page Submission  Direct Traffic             Email Opened   \n",
       "3  Landing Page Submission  Direct Traffic              Unreachable   \n",
       "4  Landing Page Submission          Google        Converted to Lead   \n",
       "\n",
       "  What matters most to you in choosing a course Last Notable Activity  \\\n",
       "0                       Better Career Prospects              Modified   \n",
       "1                       Better Career Prospects          Email Opened   \n",
       "2                       Better Career Prospects          Email Opened   \n",
       "3                       Better Career Prospects              Modified   \n",
       "4                       Better Career Prospects              Modified   \n",
       "\n",
       "        City_imputed Current_occupation_imputed   Specialization_imputed  \\\n",
       "0  Thane & Outskirts                 Unemployed    Operations Management   \n",
       "1  Thane & Outskirts                 Unemployed   International Business   \n",
       "2             Mumbai                    Student  Business Administration   \n",
       "3             Mumbai                 Unemployed    Media and Advertising   \n",
       "4             Mumbai                 Unemployed  Supply Chain Management   \n",
       "\n",
       "  Country_imputed  TotalVisits  Total Time Spent on Website  \\\n",
       "0           India          0.0                            0   \n",
       "1           India          5.0                          674   \n",
       "2           India          2.0                         1532   \n",
       "3           India          1.0                          305   \n",
       "4           India          2.0                         1428   \n",
       "\n",
       "   Page Views Per Visit  \n",
       "0                   0.0  \n",
       "1                   2.5  \n",
       "2                   2.0  \n",
       "3                   1.0  \n",
       "4                   1.0  "
      ]
     },
     "execution_count": 219,
     "metadata": {},
     "output_type": "execute_result"
    }
   ],
   "source": [
    "X.head()"
   ]
  },
  {
   "cell_type": "markdown",
   "id": "ac70f94b",
   "metadata": {},
   "source": [
    "### Splitting the data in train and test"
   ]
  },
  {
   "cell_type": "code",
   "execution_count": 220,
   "id": "eb146e48",
   "metadata": {},
   "outputs": [],
   "source": [
    "X_train,X_test,y_train,y_test = train_test_split(X,y,test_size=0.3,random_state=42)"
   ]
  },
  {
   "cell_type": "code",
   "execution_count": 221,
   "id": "ba86649b",
   "metadata": {},
   "outputs": [
    {
     "name": "stdout",
     "output_type": "stream",
     "text": [
      "(6204, 12)\n",
      "(2659, 12)\n"
     ]
    }
   ],
   "source": [
    "print(X_train.shape)\n",
    "print(X_test.shape)"
   ]
  },
  {
   "cell_type": "markdown",
   "id": "fd6046ec",
   "metadata": {},
   "source": [
    "### Creating Column Transformer"
   ]
  },
  {
   "cell_type": "markdown",
   "id": "96b7e897",
   "metadata": {},
   "source": [
    "Column transformation to be done:\n",
    "- scaling values\n",
    "- onehot encoding cat columns"
   ]
  },
  {
   "cell_type": "code",
   "execution_count": 222,
   "id": "2cdb734d",
   "metadata": {},
   "outputs": [],
   "source": [
    "# creating trandformer object \n",
    "\n",
    "scalar = StandardScaler()\n",
    "\n",
    "encod = OneHotEncoder(drop='first',sparse=False,handle_unknown='ignore')\n",
    "\n",
    "transformer = ColumnTransformer([('tnf1',encod,['Lead Origin', 'Lead Source', 'Last Activity', \n",
    "                                                'What matters most to you in choosing a course',\n",
    "                                                'Last Notable Activity', 'City_imputed', \n",
    "                                                'Current_occupation_imputed', 'Specialization_imputed', 'Country_imputed']),\n",
    "                               ('tnf2',scalar,['TotalVisits', 'Total Time Spent on Website', \n",
    "                                               'Page Views Per Visit'])],remainder='drop')\n",
    "\n"
   ]
  },
  {
   "cell_type": "code",
   "execution_count": 223,
   "id": "a64b7cb6",
   "metadata": {},
   "outputs": [],
   "source": [
    "# Transforming X_train and X_test\n",
    "X_train_trans = transformer.fit_transform(X_train)\n",
    "X_test_trans = transformer.transform(X_test)\n"
   ]
  },
  {
   "cell_type": "code",
   "execution_count": 224,
   "id": "e7387771",
   "metadata": {},
   "outputs": [],
   "source": [
    "# Extracting the feature names\n",
    "cat_features = list(transformer.transformers_[0][1].get_feature_names(cat))\n",
    "\n",
    "num_features = list(transformer.transformers_[1][1].get_feature_names_out())\n",
    "\n",
    "features = cat_features+num_features"
   ]
  },
  {
   "cell_type": "code",
   "execution_count": 225,
   "id": "00e207d9",
   "metadata": {},
   "outputs": [
    {
     "data": {
      "text/plain": [
       "(6204, 113)"
      ]
     },
     "execution_count": 225,
     "metadata": {},
     "output_type": "execute_result"
    }
   ],
   "source": [
    "X_train_trans.shape"
   ]
  },
  {
   "cell_type": "code",
   "execution_count": 226,
   "id": "63522b94",
   "metadata": {},
   "outputs": [],
   "source": [
    "X_train_final = pd.DataFrame(data = X_train_trans,columns=features)\n",
    "X_test_final = pd.DataFrame(data = X_test_trans,columns=features)"
   ]
  },
  {
   "cell_type": "code",
   "execution_count": 227,
   "id": "c2cda7d5",
   "metadata": {},
   "outputs": [
    {
     "data": {
      "text/plain": [
       "(6204, 113)"
      ]
     },
     "execution_count": 227,
     "metadata": {},
     "output_type": "execute_result"
    }
   ],
   "source": [
    "X_train_final.shape"
   ]
  },
  {
   "cell_type": "code",
   "execution_count": 228,
   "id": "0a70f243",
   "metadata": {},
   "outputs": [
    {
     "data": {
      "text/plain": [
       "(2659, 113)"
      ]
     },
     "execution_count": 228,
     "metadata": {},
     "output_type": "execute_result"
    }
   ],
   "source": [
    "X_test_final.shape"
   ]
  },
  {
   "cell_type": "markdown",
   "id": "dbcb90fb",
   "metadata": {},
   "source": [
    "### <font color ='darkblue'>Model1: Fitting the model with all the features"
   ]
  },
  {
   "cell_type": "code",
   "execution_count": 229,
   "id": "17111b5f",
   "metadata": {},
   "outputs": [
    {
     "data": {
      "text/plain": [
       "LogisticRegression()"
      ]
     },
     "execution_count": 229,
     "metadata": {},
     "output_type": "execute_result"
    }
   ],
   "source": [
    "# creating regression object\n",
    "reg = LogisticRegression()\n",
    "\n",
    "# fitting the data\n",
    "reg.fit(X_train_final,y_train)"
   ]
  },
  {
   "cell_type": "code",
   "execution_count": 230,
   "id": "48ce7a5a",
   "metadata": {},
   "outputs": [
    {
     "name": "stdout",
     "output_type": "stream",
     "text": [
      "accuracy score for train set: 0.811411992263056\n",
      "accuracy score for test set: 0.8066942459571267\n"
     ]
    }
   ],
   "source": [
    "y_pred_tr = reg.predict(X_train_final)\n",
    "\n",
    "print('accuracy score for train set:',accuracy_score(y_train,y_pred_tr))\n",
    "\n",
    "y_pred_tes = reg.predict(X_test_final)\n",
    "\n",
    "print('accuracy score for test set:',accuracy_score(y_test,y_pred_tes))"
   ]
  },
  {
   "cell_type": "code",
   "execution_count": 231,
   "id": "9aaca6ea",
   "metadata": {},
   "outputs": [
    {
     "data": {
      "text/plain": [
       "0.6880829015544041"
      ]
     },
     "execution_count": 231,
     "metadata": {},
     "output_type": "execute_result"
    }
   ],
   "source": [
    "recall_score(y_test,y_pred_tes)"
   ]
  },
  {
   "cell_type": "code",
   "execution_count": 232,
   "id": "ec752d34",
   "metadata": {},
   "outputs": [
    {
     "data": {
      "text/plain": [
       "0.7571265678449259"
      ]
     },
     "execution_count": 232,
     "metadata": {},
     "output_type": "execute_result"
    }
   ],
   "source": [
    "precision_score(y_test,y_pred_tes)"
   ]
  },
  {
   "cell_type": "code",
   "execution_count": 233,
   "id": "c441017d",
   "metadata": {},
   "outputs": [
    {
     "data": {
      "text/plain": [
       "0.8040000259936055"
      ]
     },
     "execution_count": 233,
     "metadata": {},
     "output_type": "execute_result"
    }
   ],
   "source": [
    "cross_val_score(reg,X_train_final,y_train,cv=5,scoring='accuracy').mean()"
   ]
  },
  {
   "cell_type": "code",
   "execution_count": 234,
   "id": "1805106e",
   "metadata": {},
   "outputs": [
    {
     "data": {
      "text/plain": [
       "0.804053920111012"
      ]
     },
     "execution_count": 234,
     "metadata": {},
     "output_type": "execute_result"
    }
   ],
   "source": [
    "cross_val_score(reg,X_test_final,y_test,cv=5,scoring='accuracy').mean()"
   ]
  },
  {
   "cell_type": "code",
   "execution_count": 235,
   "id": "df7288e0",
   "metadata": {},
   "outputs": [
    {
     "data": {
      "text/plain": [
       "array([[1481,  213],\n",
       "       [ 301,  664]], dtype=int64)"
      ]
     },
     "execution_count": 235,
     "metadata": {},
     "output_type": "execute_result"
    }
   ],
   "source": [
    "confusion_matrix(y_test,y_pred_tes)"
   ]
  },
  {
   "cell_type": "code",
   "execution_count": 236,
   "id": "e21fdc9e",
   "metadata": {},
   "outputs": [
    {
     "data": {
      "text/plain": [
       "array([[3361,  457],\n",
       "       [ 713, 1673]], dtype=int64)"
      ]
     },
     "execution_count": 236,
     "metadata": {},
     "output_type": "execute_result"
    }
   ],
   "source": [
    "confusion_matrix(y_train,y_pred_tr)"
   ]
  },
  {
   "cell_type": "markdown",
   "id": "ea7801f3",
   "metadata": {},
   "source": [
    "<font color= red>__Accuracy score of the model is 80% though it is good model we have low recall value. We can check eliminating the features might improve the model__"
   ]
  },
  {
   "cell_type": "markdown",
   "id": "03ba7bbe",
   "metadata": {},
   "source": [
    "### Feature Selection with RFE"
   ]
  },
  {
   "cell_type": "code",
   "execution_count": 237,
   "id": "16f588f5",
   "metadata": {},
   "outputs": [
    {
     "data": {
      "text/plain": [
       "RFE(estimator=LogisticRegression(), n_features_to_select=15)"
      ]
     },
     "execution_count": 237,
     "metadata": {},
     "output_type": "execute_result"
    }
   ],
   "source": [
    "# creating the RFE object\n",
    "rfe = RFE(reg,n_features_to_select=15)\n",
    "rfe.fit(X_train_final,y_train)"
   ]
  },
  {
   "cell_type": "code",
   "execution_count": 238,
   "id": "8e016911",
   "metadata": {},
   "outputs": [
    {
     "data": {
      "text/plain": [
       "['Lead Origin_Lead Add Form',\n",
       " 'Lead Source_Olark Chat',\n",
       " 'Lead Source_Welingak Website',\n",
       " 'Last Activity_Email Bounced',\n",
       " 'Last Activity_Had a Phone Conversation',\n",
       " 'Last Activity_Olark Chat Conversation',\n",
       " 'Last Activity_Unsubscribed',\n",
       " 'Last Notable Activity_Email Link Clicked',\n",
       " 'Last Notable Activity_Email Opened',\n",
       " 'Last Notable Activity_Modified',\n",
       " 'Last Notable Activity_Olark Chat Conversation',\n",
       " 'Last Notable Activity_Page Visited on Website',\n",
       " 'Current_occupation_imputed_Housewife',\n",
       " 'Current_occupation_imputed_Working Professional',\n",
       " 'Country_imputed_Italy']"
      ]
     },
     "execution_count": 238,
     "metadata": {},
     "output_type": "execute_result"
    }
   ],
   "source": [
    "# Extracting the features selected by RFE\n",
    "\n",
    "col = list(X_train_final.columns[rfe.support_])\n",
    "col"
   ]
  },
  {
   "cell_type": "markdown",
   "id": "0a05c379",
   "metadata": {},
   "source": [
    "### <font color ='darkblue'>Model 2: with features selected in RFE"
   ]
  },
  {
   "cell_type": "code",
   "execution_count": 239,
   "id": "f3433e77",
   "metadata": {},
   "outputs": [],
   "source": [
    "y_pred_rfe = rfe.predict(X_test_final)"
   ]
  },
  {
   "cell_type": "code",
   "execution_count": 240,
   "id": "3430a7cf",
   "metadata": {},
   "outputs": [
    {
     "data": {
      "text/plain": [
       "0.7547950357277172"
      ]
     },
     "execution_count": 240,
     "metadata": {},
     "output_type": "execute_result"
    }
   ],
   "source": [
    "accuracy_score(y_test,y_pred_rfe)"
   ]
  },
  {
   "cell_type": "code",
   "execution_count": 241,
   "id": "4bea2bdb",
   "metadata": {},
   "outputs": [
    {
     "data": {
      "text/plain": [
       "0.6155440414507772"
      ]
     },
     "execution_count": 241,
     "metadata": {},
     "output_type": "execute_result"
    }
   ],
   "source": [
    "recall_score(y_test,y_pred_rfe)"
   ]
  },
  {
   "cell_type": "code",
   "execution_count": 242,
   "id": "843673be",
   "metadata": {},
   "outputs": [
    {
     "data": {
      "text/plain": [
       "0.6788571428571428"
      ]
     },
     "execution_count": 242,
     "metadata": {},
     "output_type": "execute_result"
    }
   ],
   "source": [
    "precision_score(y_test,y_pred_rfe)"
   ]
  },
  {
   "cell_type": "markdown",
   "id": "7b7df2fd",
   "metadata": {},
   "source": [
    "<font color= red>__There isn't much improvement in the model accuracy. We can reevaluate the model with stats model to check for significance and multicollinearity__"
   ]
  },
  {
   "cell_type": "markdown",
   "id": "dfcc7a18",
   "metadata": {},
   "source": [
    "### Evaluating the model using Stats model"
   ]
  },
  {
   "cell_type": "code",
   "execution_count": 243,
   "id": "15bcf2c4",
   "metadata": {},
   "outputs": [],
   "source": [
    "X_train_rfe = X_train_final[col]"
   ]
  },
  {
   "cell_type": "code",
   "execution_count": 244,
   "id": "b4c20c72",
   "metadata": {},
   "outputs": [
    {
     "data": {
      "text/plain": [
       "(6204, 15)"
      ]
     },
     "execution_count": 244,
     "metadata": {},
     "output_type": "execute_result"
    }
   ],
   "source": [
    "X_train_rfe.shape"
   ]
  },
  {
   "cell_type": "code",
   "execution_count": 245,
   "id": "98f1bf08",
   "metadata": {},
   "outputs": [
    {
     "data": {
      "text/plain": [
       "(6204, 1)"
      ]
     },
     "execution_count": 245,
     "metadata": {},
     "output_type": "execute_result"
    }
   ],
   "source": [
    "y_train.values.reshape(-1,1).shape"
   ]
  },
  {
   "cell_type": "code",
   "execution_count": 249,
   "id": "2678518b",
   "metadata": {},
   "outputs": [],
   "source": [
    "# creating function to fit the model and get the summary\n",
    "def get_summary(X_train):\n",
    "    X_train = sm.add_constant(X_train)\n",
    "    logm1 = sm.GLM(y_train.values.reshape(-1,1), X_train, family = sm.families.Binomial())\n",
    "    res = logm1.fit()\n",
    "    return res.summary()\n",
    "\n",
    "# creating function to check VIF\n",
    "def check_vif(X_train):\n",
    "    vif = pd.DataFrame()\n",
    "    vif['Features'] = X_train.columns\n",
    "    vif['VIF'] = [variance_inflation_factor(X_train.values, i) for i in range(X_train.shape[1])]\n",
    "    vif['VIF'] = round(vif['VIF'], 2)\n",
    "    vif = vif.sort_values(by = \"VIF\", ascending = False)\n",
    "    return vif"
   ]
  },
  {
   "cell_type": "code",
   "execution_count": 250,
   "id": "2ae0f8c3",
   "metadata": {},
   "outputs": [
    {
     "data": {
      "text/html": [
       "<table class=\"simpletable\">\n",
       "<caption>Generalized Linear Model Regression Results</caption>\n",
       "<tr>\n",
       "  <th>Dep. Variable:</th>           <td>y</td>        <th>  No. Observations:  </th>  <td>  6204</td> \n",
       "</tr>\n",
       "<tr>\n",
       "  <th>Model:</th>                  <td>GLM</td>       <th>  Df Residuals:      </th>  <td>  6188</td> \n",
       "</tr>\n",
       "<tr>\n",
       "  <th>Model Family:</th>        <td>Binomial</td>     <th>  Df Model:          </th>  <td>    15</td> \n",
       "</tr>\n",
       "<tr>\n",
       "  <th>Link Function:</th>         <td>Logit</td>      <th>  Scale:             </th> <td>  1.0000</td>\n",
       "</tr>\n",
       "<tr>\n",
       "  <th>Method:</th>                <td>IRLS</td>       <th>  Log-Likelihood:    </th> <td> -3200.5</td>\n",
       "</tr>\n",
       "<tr>\n",
       "  <th>Date:</th>            <td>Sat, 22 Oct 2022</td> <th>  Deviance:          </th> <td>  6401.1</td>\n",
       "</tr>\n",
       "<tr>\n",
       "  <th>Time:</th>                <td>11:31:47</td>     <th>  Pearson chi2:      </th> <td>6.32e+03</td>\n",
       "</tr>\n",
       "<tr>\n",
       "  <th>No. Iterations:</th>         <td>19</td>        <th>  Pseudo R-squ. (CS):</th>  <td>0.2598</td> \n",
       "</tr>\n",
       "<tr>\n",
       "  <th>Covariance Type:</th>     <td>nonrobust</td>    <th>                     </th>     <td> </td>   \n",
       "</tr>\n",
       "</table>\n",
       "<table class=\"simpletable\">\n",
       "<tr>\n",
       "                         <td></td>                            <th>coef</th>     <th>std err</th>      <th>z</th>      <th>P>|z|</th>  <th>[0.025</th>    <th>0.975]</th>  \n",
       "</tr>\n",
       "<tr>\n",
       "  <th>const</th>                                           <td>    0.5787</td> <td>    0.060</td> <td>    9.599</td> <td> 0.000</td> <td>    0.461</td> <td>    0.697</td>\n",
       "</tr>\n",
       "<tr>\n",
       "  <th>Lead Origin_Lead Add Form</th>                       <td>    2.6949</td> <td>    0.211</td> <td>   12.745</td> <td> 0.000</td> <td>    2.280</td> <td>    3.109</td>\n",
       "</tr>\n",
       "<tr>\n",
       "  <th>Lead Source_Olark Chat</th>                          <td>    0.0118</td> <td>    0.086</td> <td>    0.137</td> <td> 0.891</td> <td>   -0.157</td> <td>    0.180</td>\n",
       "</tr>\n",
       "<tr>\n",
       "  <th>Lead Source_Welingak Website</th>                    <td>    2.3720</td> <td>    1.032</td> <td>    2.297</td> <td> 0.022</td> <td>    0.348</td> <td>    4.396</td>\n",
       "</tr>\n",
       "<tr>\n",
       "  <th>Last Activity_Email Bounced</th>                     <td>   -2.9165</td> <td>    0.393</td> <td>   -7.424</td> <td> 0.000</td> <td>   -3.687</td> <td>   -2.147</td>\n",
       "</tr>\n",
       "<tr>\n",
       "  <th>Last Activity_Had a Phone Conversation</th>          <td>    1.6204</td> <td>    0.697</td> <td>    2.324</td> <td> 0.020</td> <td>    0.254</td> <td>    2.987</td>\n",
       "</tr>\n",
       "<tr>\n",
       "  <th>Last Activity_Olark Chat Conversation</th>           <td>   -1.4743</td> <td>    0.185</td> <td>   -7.980</td> <td> 0.000</td> <td>   -1.836</td> <td>   -1.112</td>\n",
       "</tr>\n",
       "<tr>\n",
       "  <th>Last Activity_Unsubscribed</th>                      <td>   -1.4403</td> <td>    0.384</td> <td>   -3.748</td> <td> 0.000</td> <td>   -2.194</td> <td>   -0.687</td>\n",
       "</tr>\n",
       "<tr>\n",
       "  <th>Last Notable Activity_Email Link Clicked</th>        <td>   -2.1701</td> <td>    0.253</td> <td>   -8.591</td> <td> 0.000</td> <td>   -2.665</td> <td>   -1.675</td>\n",
       "</tr>\n",
       "<tr>\n",
       "  <th>Last Notable Activity_Email Opened</th>              <td>   -1.4077</td> <td>    0.077</td> <td>  -18.291</td> <td> 0.000</td> <td>   -1.559</td> <td>   -1.257</td>\n",
       "</tr>\n",
       "<tr>\n",
       "  <th>Last Notable Activity_Modified</th>                  <td>   -1.8312</td> <td>    0.085</td> <td>  -21.503</td> <td> 0.000</td> <td>   -1.998</td> <td>   -1.664</td>\n",
       "</tr>\n",
       "<tr>\n",
       "  <th>Last Notable Activity_Olark Chat Conversation</th>   <td>   -1.2131</td> <td>    0.332</td> <td>   -3.654</td> <td> 0.000</td> <td>   -1.864</td> <td>   -0.562</td>\n",
       "</tr>\n",
       "<tr>\n",
       "  <th>Last Notable Activity_Page Visited on Website</th>   <td>   -1.7055</td> <td>    0.175</td> <td>   -9.743</td> <td> 0.000</td> <td>   -2.049</td> <td>   -1.362</td>\n",
       "</tr>\n",
       "<tr>\n",
       "  <th>Current_occupation_imputed_Housewife</th>            <td>    2.2154</td> <td>    0.878</td> <td>    2.522</td> <td> 0.012</td> <td>    0.494</td> <td>    3.937</td>\n",
       "</tr>\n",
       "<tr>\n",
       "  <th>Current_occupation_imputed_Working Professional</th> <td>    1.3266</td> <td>    0.102</td> <td>   13.065</td> <td> 0.000</td> <td>    1.128</td> <td>    1.526</td>\n",
       "</tr>\n",
       "<tr>\n",
       "  <th>Country_imputed_Italy</th>                           <td>  -21.9094</td> <td> 1.19e+04</td> <td>   -0.002</td> <td> 0.999</td> <td>-2.33e+04</td> <td> 2.33e+04</td>\n",
       "</tr>\n",
       "</table>"
      ],
      "text/plain": [
       "<class 'statsmodels.iolib.summary.Summary'>\n",
       "\"\"\"\n",
       "                 Generalized Linear Model Regression Results                  \n",
       "==============================================================================\n",
       "Dep. Variable:                      y   No. Observations:                 6204\n",
       "Model:                            GLM   Df Residuals:                     6188\n",
       "Model Family:                Binomial   Df Model:                           15\n",
       "Link Function:                  Logit   Scale:                          1.0000\n",
       "Method:                          IRLS   Log-Likelihood:                -3200.5\n",
       "Date:                Sat, 22 Oct 2022   Deviance:                       6401.1\n",
       "Time:                        11:31:47   Pearson chi2:                 6.32e+03\n",
       "No. Iterations:                    19   Pseudo R-squ. (CS):             0.2598\n",
       "Covariance Type:            nonrobust                                         \n",
       "===================================================================================================================\n",
       "                                                      coef    std err          z      P>|z|      [0.025      0.975]\n",
       "-------------------------------------------------------------------------------------------------------------------\n",
       "const                                               0.5787      0.060      9.599      0.000       0.461       0.697\n",
       "Lead Origin_Lead Add Form                           2.6949      0.211     12.745      0.000       2.280       3.109\n",
       "Lead Source_Olark Chat                              0.0118      0.086      0.137      0.891      -0.157       0.180\n",
       "Lead Source_Welingak Website                        2.3720      1.032      2.297      0.022       0.348       4.396\n",
       "Last Activity_Email Bounced                        -2.9165      0.393     -7.424      0.000      -3.687      -2.147\n",
       "Last Activity_Had a Phone Conversation              1.6204      0.697      2.324      0.020       0.254       2.987\n",
       "Last Activity_Olark Chat Conversation              -1.4743      0.185     -7.980      0.000      -1.836      -1.112\n",
       "Last Activity_Unsubscribed                         -1.4403      0.384     -3.748      0.000      -2.194      -0.687\n",
       "Last Notable Activity_Email Link Clicked           -2.1701      0.253     -8.591      0.000      -2.665      -1.675\n",
       "Last Notable Activity_Email Opened                 -1.4077      0.077    -18.291      0.000      -1.559      -1.257\n",
       "Last Notable Activity_Modified                     -1.8312      0.085    -21.503      0.000      -1.998      -1.664\n",
       "Last Notable Activity_Olark Chat Conversation      -1.2131      0.332     -3.654      0.000      -1.864      -0.562\n",
       "Last Notable Activity_Page Visited on Website      -1.7055      0.175     -9.743      0.000      -2.049      -1.362\n",
       "Current_occupation_imputed_Housewife                2.2154      0.878      2.522      0.012       0.494       3.937\n",
       "Current_occupation_imputed_Working Professional     1.3266      0.102     13.065      0.000       1.128       1.526\n",
       "Country_imputed_Italy                             -21.9094   1.19e+04     -0.002      0.999   -2.33e+04    2.33e+04\n",
       "===================================================================================================================\n",
       "\"\"\""
      ]
     },
     "execution_count": 250,
     "metadata": {},
     "output_type": "execute_result"
    }
   ],
   "source": [
    "get_summary(X_train_rfe)"
   ]
  },
  {
   "cell_type": "code",
   "execution_count": 251,
   "id": "2755ce70",
   "metadata": {},
   "outputs": [
    {
     "data": {
      "text/html": [
       "<div>\n",
       "<style scoped>\n",
       "    .dataframe tbody tr th:only-of-type {\n",
       "        vertical-align: middle;\n",
       "    }\n",
       "\n",
       "    .dataframe tbody tr th {\n",
       "        vertical-align: top;\n",
       "    }\n",
       "\n",
       "    .dataframe thead th {\n",
       "        text-align: right;\n",
       "    }\n",
       "</style>\n",
       "<table border=\"1\" class=\"dataframe\">\n",
       "  <thead>\n",
       "    <tr style=\"text-align: right;\">\n",
       "      <th></th>\n",
       "      <th>Features</th>\n",
       "      <th>VIF</th>\n",
       "    </tr>\n",
       "  </thead>\n",
       "  <tbody>\n",
       "    <tr>\n",
       "      <th>5</th>\n",
       "      <td>Last Activity_Olark Chat Conversation</td>\n",
       "      <td>1.94</td>\n",
       "    </tr>\n",
       "    <tr>\n",
       "      <th>9</th>\n",
       "      <td>Last Notable Activity_Modified</td>\n",
       "      <td>1.54</td>\n",
       "    </tr>\n",
       "    <tr>\n",
       "      <th>1</th>\n",
       "      <td>Lead Source_Olark Chat</td>\n",
       "      <td>1.50</td>\n",
       "    </tr>\n",
       "    <tr>\n",
       "      <th>0</th>\n",
       "      <td>Lead Origin_Lead Add Form</td>\n",
       "      <td>1.36</td>\n",
       "    </tr>\n",
       "    <tr>\n",
       "      <th>10</th>\n",
       "      <td>Last Notable Activity_Olark Chat Conversation</td>\n",
       "      <td>1.30</td>\n",
       "    </tr>\n",
       "    <tr>\n",
       "      <th>2</th>\n",
       "      <td>Lead Source_Welingak Website</td>\n",
       "      <td>1.27</td>\n",
       "    </tr>\n",
       "    <tr>\n",
       "      <th>8</th>\n",
       "      <td>Last Notable Activity_Email Opened</td>\n",
       "      <td>1.11</td>\n",
       "    </tr>\n",
       "    <tr>\n",
       "      <th>13</th>\n",
       "      <td>Current_occupation_imputed_Working Professional</td>\n",
       "      <td>1.11</td>\n",
       "    </tr>\n",
       "    <tr>\n",
       "      <th>3</th>\n",
       "      <td>Last Activity_Email Bounced</td>\n",
       "      <td>1.10</td>\n",
       "    </tr>\n",
       "    <tr>\n",
       "      <th>7</th>\n",
       "      <td>Last Notable Activity_Email Link Clicked</td>\n",
       "      <td>1.02</td>\n",
       "    </tr>\n",
       "    <tr>\n",
       "      <th>11</th>\n",
       "      <td>Last Notable Activity_Page Visited on Website</td>\n",
       "      <td>1.01</td>\n",
       "    </tr>\n",
       "    <tr>\n",
       "      <th>4</th>\n",
       "      <td>Last Activity_Had a Phone Conversation</td>\n",
       "      <td>1.00</td>\n",
       "    </tr>\n",
       "    <tr>\n",
       "      <th>6</th>\n",
       "      <td>Last Activity_Unsubscribed</td>\n",
       "      <td>1.00</td>\n",
       "    </tr>\n",
       "    <tr>\n",
       "      <th>12</th>\n",
       "      <td>Current_occupation_imputed_Housewife</td>\n",
       "      <td>1.00</td>\n",
       "    </tr>\n",
       "    <tr>\n",
       "      <th>14</th>\n",
       "      <td>Country_imputed_Italy</td>\n",
       "      <td>1.00</td>\n",
       "    </tr>\n",
       "  </tbody>\n",
       "</table>\n",
       "</div>"
      ],
      "text/plain": [
       "                                           Features   VIF\n",
       "5             Last Activity_Olark Chat Conversation  1.94\n",
       "9                    Last Notable Activity_Modified  1.54\n",
       "1                            Lead Source_Olark Chat  1.50\n",
       "0                         Lead Origin_Lead Add Form  1.36\n",
       "10    Last Notable Activity_Olark Chat Conversation  1.30\n",
       "2                      Lead Source_Welingak Website  1.27\n",
       "8                Last Notable Activity_Email Opened  1.11\n",
       "13  Current_occupation_imputed_Working Professional  1.11\n",
       "3                       Last Activity_Email Bounced  1.10\n",
       "7          Last Notable Activity_Email Link Clicked  1.02\n",
       "11    Last Notable Activity_Page Visited on Website  1.01\n",
       "4            Last Activity_Had a Phone Conversation  1.00\n",
       "6                        Last Activity_Unsubscribed  1.00\n",
       "12             Current_occupation_imputed_Housewife  1.00\n",
       "14                            Country_imputed_Italy  1.00"
      ]
     },
     "execution_count": 251,
     "metadata": {},
     "output_type": "execute_result"
    }
   ],
   "source": [
    "check_vif(X_train_rfe)"
   ]
  },
  {
   "cell_type": "markdown",
   "id": "0a483648",
   "metadata": {},
   "source": [
    "<font color= red>__All the features look significant and VIF are also not so high. We can further get feature importance with Tree classifier and train the model with best to check for any improvement__"
   ]
  },
  {
   "cell_type": "markdown",
   "id": "83f0987a",
   "metadata": {},
   "source": [
    "### Feature Importance with Random Forest  classifier"
   ]
  },
  {
   "cell_type": "code",
   "execution_count": 252,
   "id": "c78fa89b",
   "metadata": {},
   "outputs": [],
   "source": [
    "from sklearn.ensemble import RandomForestClassifier"
   ]
  },
  {
   "cell_type": "code",
   "execution_count": 253,
   "id": "333e7243",
   "metadata": {},
   "outputs": [
    {
     "data": {
      "text/plain": [
       "RandomForestClassifier(max_depth=20, n_estimators=5)"
      ]
     },
     "execution_count": 253,
     "metadata": {},
     "output_type": "execute_result"
    }
   ],
   "source": [
    "# creating the object \n",
    "rf = RandomForestClassifier(n_estimators=5,max_depth=20)\n",
    "\n",
    "rf.fit(X_train_final,y_train)"
   ]
  },
  {
   "cell_type": "code",
   "execution_count": 254,
   "id": "7397c4a5",
   "metadata": {},
   "outputs": [
    {
     "data": {
      "text/plain": [
       "(113,)"
      ]
     },
     "execution_count": 254,
     "metadata": {},
     "output_type": "execute_result"
    }
   ],
   "source": [
    "f = X_train_final.columns\n",
    "f.shape"
   ]
  },
  {
   "cell_type": "code",
   "execution_count": 255,
   "id": "abcc41a4",
   "metadata": {},
   "outputs": [],
   "source": [
    "l = pd.DataFrame(data = rf.feature_importances_, columns=['Importance'])\n",
    "\n",
    "l['Features'] = X_train_final.columns\n"
   ]
  },
  {
   "cell_type": "code",
   "execution_count": 256,
   "id": "40baf34f",
   "metadata": {},
   "outputs": [
    {
     "data": {
      "text/html": [
       "<div>\n",
       "<style scoped>\n",
       "    .dataframe tbody tr th:only-of-type {\n",
       "        vertical-align: middle;\n",
       "    }\n",
       "\n",
       "    .dataframe tbody tr th {\n",
       "        vertical-align: top;\n",
       "    }\n",
       "\n",
       "    .dataframe thead th {\n",
       "        text-align: right;\n",
       "    }\n",
       "</style>\n",
       "<table border=\"1\" class=\"dataframe\">\n",
       "  <thead>\n",
       "    <tr style=\"text-align: right;\">\n",
       "      <th></th>\n",
       "      <th>Importance</th>\n",
       "      <th>Features</th>\n",
       "    </tr>\n",
       "  </thead>\n",
       "  <tbody>\n",
       "    <tr>\n",
       "      <th>0</th>\n",
       "      <td>0.255912</td>\n",
       "      <td>Total Time Spent on Website</td>\n",
       "    </tr>\n",
       "    <tr>\n",
       "      <th>1</th>\n",
       "      <td>0.064240</td>\n",
       "      <td>Last Notable Activity_SMS Sent</td>\n",
       "    </tr>\n",
       "    <tr>\n",
       "      <th>2</th>\n",
       "      <td>0.061893</td>\n",
       "      <td>Last Activity_SMS Sent</td>\n",
       "    </tr>\n",
       "    <tr>\n",
       "      <th>3</th>\n",
       "      <td>0.056211</td>\n",
       "      <td>Lead Source_Reference</td>\n",
       "    </tr>\n",
       "    <tr>\n",
       "      <th>4</th>\n",
       "      <td>0.055977</td>\n",
       "      <td>TotalVisits</td>\n",
       "    </tr>\n",
       "    <tr>\n",
       "      <th>5</th>\n",
       "      <td>0.046906</td>\n",
       "      <td>Page Views Per Visit</td>\n",
       "    </tr>\n",
       "    <tr>\n",
       "      <th>6</th>\n",
       "      <td>0.042690</td>\n",
       "      <td>Last Activity_Olark Chat Conversation</td>\n",
       "    </tr>\n",
       "    <tr>\n",
       "      <th>7</th>\n",
       "      <td>0.030368</td>\n",
       "      <td>Last Notable Activity_Modified</td>\n",
       "    </tr>\n",
       "    <tr>\n",
       "      <th>8</th>\n",
       "      <td>0.022113</td>\n",
       "      <td>Lead Origin_Landing Page Submission</td>\n",
       "    </tr>\n",
       "    <tr>\n",
       "      <th>9</th>\n",
       "      <td>0.021894</td>\n",
       "      <td>Lead Origin_Lead Add Form</td>\n",
       "    </tr>\n",
       "    <tr>\n",
       "      <th>10</th>\n",
       "      <td>0.021071</td>\n",
       "      <td>Last Activity_Email Opened</td>\n",
       "    </tr>\n",
       "    <tr>\n",
       "      <th>11</th>\n",
       "      <td>0.019886</td>\n",
       "      <td>Current_occupation_imputed_Working Professional</td>\n",
       "    </tr>\n",
       "    <tr>\n",
       "      <th>12</th>\n",
       "      <td>0.016286</td>\n",
       "      <td>Current_occupation_imputed_Unemployed</td>\n",
       "    </tr>\n",
       "    <tr>\n",
       "      <th>13</th>\n",
       "      <td>0.015080</td>\n",
       "      <td>Lead Source_Welingak Website</td>\n",
       "    </tr>\n",
       "    <tr>\n",
       "      <th>14</th>\n",
       "      <td>0.014932</td>\n",
       "      <td>City_imputed_Other Cities</td>\n",
       "    </tr>\n",
       "  </tbody>\n",
       "</table>\n",
       "</div>"
      ],
      "text/plain": [
       "    Importance                                         Features\n",
       "0     0.255912                      Total Time Spent on Website\n",
       "1     0.064240                   Last Notable Activity_SMS Sent\n",
       "2     0.061893                           Last Activity_SMS Sent\n",
       "3     0.056211                            Lead Source_Reference\n",
       "4     0.055977                                      TotalVisits\n",
       "5     0.046906                             Page Views Per Visit\n",
       "6     0.042690            Last Activity_Olark Chat Conversation\n",
       "7     0.030368                   Last Notable Activity_Modified\n",
       "8     0.022113              Lead Origin_Landing Page Submission\n",
       "9     0.021894                        Lead Origin_Lead Add Form\n",
       "10    0.021071                       Last Activity_Email Opened\n",
       "11    0.019886  Current_occupation_imputed_Working Professional\n",
       "12    0.016286            Current_occupation_imputed_Unemployed\n",
       "13    0.015080                     Lead Source_Welingak Website\n",
       "14    0.014932                        City_imputed_Other Cities"
      ]
     },
     "execution_count": 256,
     "metadata": {},
     "output_type": "execute_result"
    }
   ],
   "source": [
    "top_15 = l.sort_values(by = 'Importance',ascending = False,ignore_index=True).head(15)\n",
    "top_15"
   ]
  },
  {
   "cell_type": "markdown",
   "id": "d1bf91b7",
   "metadata": {},
   "source": [
    "## <font color ='darkblue'> Model 3: Training model with top 15 features"
   ]
  },
  {
   "cell_type": "code",
   "execution_count": 257,
   "id": "7573186e",
   "metadata": {},
   "outputs": [],
   "source": [
    "X_train_15 = X_train_final[list(top_15['Features'])]\n",
    "X_test_15 = X_test_final[list(top_15['Features'])]"
   ]
  },
  {
   "cell_type": "code",
   "execution_count": 258,
   "id": "fdfc3082",
   "metadata": {},
   "outputs": [
    {
     "data": {
      "text/plain": [
       "(6204, 15)"
      ]
     },
     "execution_count": 258,
     "metadata": {},
     "output_type": "execute_result"
    }
   ],
   "source": [
    "X_train_15.shape"
   ]
  },
  {
   "cell_type": "code",
   "execution_count": 259,
   "id": "d70785c0",
   "metadata": {},
   "outputs": [
    {
     "data": {
      "text/plain": [
       "(6204,)"
      ]
     },
     "execution_count": 259,
     "metadata": {},
     "output_type": "execute_result"
    }
   ],
   "source": [
    "y_train.shape"
   ]
  },
  {
   "cell_type": "code",
   "execution_count": 260,
   "id": "b5d0a29b",
   "metadata": {},
   "outputs": [
    {
     "data": {
      "text/plain": [
       "LogisticRegression()"
      ]
     },
     "execution_count": 260,
     "metadata": {},
     "output_type": "execute_result"
    }
   ],
   "source": [
    "# training the model\n",
    "reg_15 = LogisticRegression()\n",
    "reg_15.fit(X_train_15,y_train)"
   ]
  },
  {
   "cell_type": "code",
   "execution_count": 261,
   "id": "a0ed0822",
   "metadata": {},
   "outputs": [
    {
     "name": "stdout",
     "output_type": "stream",
     "text": [
      "Accuracy score of the model: 0.805189921022941\n",
      "Recall score of the model: 0.6849740932642487\n",
      "Precision of the model: 0.7554285714285714\n"
     ]
    }
   ],
   "source": [
    "# Evaluation model\n",
    "y_pred_15 = reg_15.predict(X_test_15)\n",
    "\n",
    "print('Accuracy score of the model:',accuracy_score(y_test,y_pred_15))\n",
    "print('Recall score of the model:',recall_score(y_test,y_pred_15))\n",
    "print('Precision of the model:',precision_score(y_test,y_pred_15))"
   ]
  },
  {
   "cell_type": "markdown",
   "id": "02ef694c",
   "metadata": {},
   "source": [
    "<font color= red>__There isn't much improvement. Need to check the significance of the features and multicollinearity with stats model__"
   ]
  },
  {
   "cell_type": "code",
   "execution_count": 262,
   "id": "694046e8",
   "metadata": {
    "scrolled": true
   },
   "outputs": [
    {
     "data": {
      "text/html": [
       "<table class=\"simpletable\">\n",
       "<caption>Generalized Linear Model Regression Results</caption>\n",
       "<tr>\n",
       "  <th>Dep. Variable:</th>           <td>y</td>        <th>  No. Observations:  </th>  <td>  6204</td> \n",
       "</tr>\n",
       "<tr>\n",
       "  <th>Model:</th>                  <td>GLM</td>       <th>  Df Residuals:      </th>  <td>  6188</td> \n",
       "</tr>\n",
       "<tr>\n",
       "  <th>Model Family:</th>        <td>Binomial</td>     <th>  Df Model:          </th>  <td>    15</td> \n",
       "</tr>\n",
       "<tr>\n",
       "  <th>Link Function:</th>         <td>Logit</td>      <th>  Scale:             </th> <td>  1.0000</td>\n",
       "</tr>\n",
       "<tr>\n",
       "  <th>Method:</th>                <td>IRLS</td>       <th>  Log-Likelihood:    </th> <td> -2759.8</td>\n",
       "</tr>\n",
       "<tr>\n",
       "  <th>Date:</th>            <td>Sat, 22 Oct 2022</td> <th>  Deviance:          </th> <td>  5519.6</td>\n",
       "</tr>\n",
       "<tr>\n",
       "  <th>Time:</th>                <td>11:32:05</td>     <th>  Pearson chi2:      </th> <td>6.25e+03</td>\n",
       "</tr>\n",
       "<tr>\n",
       "  <th>No. Iterations:</th>         <td>20</td>        <th>  Pseudo R-squ. (CS):</th>  <td>0.3578</td> \n",
       "</tr>\n",
       "<tr>\n",
       "  <th>Covariance Type:</th>     <td>nonrobust</td>    <th>                     </th>     <td> </td>   \n",
       "</tr>\n",
       "</table>\n",
       "<table class=\"simpletable\">\n",
       "<tr>\n",
       "                         <td></td>                            <th>coef</th>     <th>std err</th>      <th>z</th>      <th>P>|z|</th>  <th>[0.025</th>    <th>0.975]</th>  \n",
       "</tr>\n",
       "<tr>\n",
       "  <th>const</th>                                           <td>   -1.2651</td> <td>    0.208</td> <td>   -6.076</td> <td> 0.000</td> <td>   -1.673</td> <td>   -0.857</td>\n",
       "</tr>\n",
       "<tr>\n",
       "  <th>Total Time Spent on Website</th>                     <td>    1.0115</td> <td>    0.037</td> <td>   27.213</td> <td> 0.000</td> <td>    0.939</td> <td>    1.084</td>\n",
       "</tr>\n",
       "<tr>\n",
       "  <th>Last Notable Activity_SMS Sent</th>                  <td>    1.0784</td> <td>    0.177</td> <td>    6.089</td> <td> 0.000</td> <td>    0.731</td> <td>    1.426</td>\n",
       "</tr>\n",
       "<tr>\n",
       "  <th>Last Activity_SMS Sent</th>                          <td>    0.9472</td> <td>    0.156</td> <td>    6.074</td> <td> 0.000</td> <td>    0.642</td> <td>    1.253</td>\n",
       "</tr>\n",
       "<tr>\n",
       "  <th>Lead Source_Reference</th>                           <td>  -17.8857</td> <td> 1.63e+04</td> <td>   -0.001</td> <td> 0.999</td> <td>-3.19e+04</td> <td> 3.19e+04</td>\n",
       "</tr>\n",
       "<tr>\n",
       "  <th>TotalVisits</th>                                     <td>    0.2223</td> <td>    0.047</td> <td>    4.763</td> <td> 0.000</td> <td>    0.131</td> <td>    0.314</td>\n",
       "</tr>\n",
       "<tr>\n",
       "  <th>Page Views Per Visit</th>                            <td>   -0.2858</td> <td>    0.052</td> <td>   -5.540</td> <td> 0.000</td> <td>   -0.387</td> <td>   -0.185</td>\n",
       "</tr>\n",
       "<tr>\n",
       "  <th>Last Activity_Olark Chat Conversation</th>           <td>   -0.7729</td> <td>    0.176</td> <td>   -4.383</td> <td> 0.000</td> <td>   -1.119</td> <td>   -0.427</td>\n",
       "</tr>\n",
       "<tr>\n",
       "  <th>Last Notable Activity_Modified</th>                  <td>   -0.3925</td> <td>    0.103</td> <td>   -3.803</td> <td> 0.000</td> <td>   -0.595</td> <td>   -0.190</td>\n",
       "</tr>\n",
       "<tr>\n",
       "  <th>Lead Origin_Landing Page Submission</th>             <td>   -0.5848</td> <td>    0.081</td> <td>   -7.177</td> <td> 0.000</td> <td>   -0.745</td> <td>   -0.425</td>\n",
       "</tr>\n",
       "<tr>\n",
       "  <th>Lead Origin_Lead Add Form</th>                       <td>   21.0368</td> <td> 1.63e+04</td> <td>    0.001</td> <td> 0.999</td> <td>-3.19e+04</td> <td> 3.19e+04</td>\n",
       "</tr>\n",
       "<tr>\n",
       "  <th>Last Activity_Email Opened</th>                      <td>    0.6269</td> <td>    0.107</td> <td>    5.879</td> <td> 0.000</td> <td>    0.418</td> <td>    0.836</td>\n",
       "</tr>\n",
       "<tr>\n",
       "  <th>Current_occupation_imputed_Working Professional</th> <td>    1.3585</td> <td>    0.203</td> <td>    6.695</td> <td> 0.000</td> <td>    0.961</td> <td>    1.756</td>\n",
       "</tr>\n",
       "<tr>\n",
       "  <th>Current_occupation_imputed_Unemployed</th>           <td>    0.0641</td> <td>    0.179</td> <td>    0.358</td> <td> 0.720</td> <td>   -0.286</td> <td>    0.415</td>\n",
       "</tr>\n",
       "<tr>\n",
       "  <th>Lead Source_Welingak Website</th>                    <td>  -15.6056</td> <td> 1.63e+04</td> <td>   -0.001</td> <td> 0.999</td> <td>-3.19e+04</td> <td> 3.19e+04</td>\n",
       "</tr>\n",
       "<tr>\n",
       "  <th>City_imputed_Other Cities</th>                       <td>   -0.0940</td> <td>    0.101</td> <td>   -0.928</td> <td> 0.354</td> <td>   -0.293</td> <td>    0.105</td>\n",
       "</tr>\n",
       "</table>"
      ],
      "text/plain": [
       "<class 'statsmodels.iolib.summary.Summary'>\n",
       "\"\"\"\n",
       "                 Generalized Linear Model Regression Results                  \n",
       "==============================================================================\n",
       "Dep. Variable:                      y   No. Observations:                 6204\n",
       "Model:                            GLM   Df Residuals:                     6188\n",
       "Model Family:                Binomial   Df Model:                           15\n",
       "Link Function:                  Logit   Scale:                          1.0000\n",
       "Method:                          IRLS   Log-Likelihood:                -2759.8\n",
       "Date:                Sat, 22 Oct 2022   Deviance:                       5519.6\n",
       "Time:                        11:32:05   Pearson chi2:                 6.25e+03\n",
       "No. Iterations:                    20   Pseudo R-squ. (CS):             0.3578\n",
       "Covariance Type:            nonrobust                                         \n",
       "===================================================================================================================\n",
       "                                                      coef    std err          z      P>|z|      [0.025      0.975]\n",
       "-------------------------------------------------------------------------------------------------------------------\n",
       "const                                              -1.2651      0.208     -6.076      0.000      -1.673      -0.857\n",
       "Total Time Spent on Website                         1.0115      0.037     27.213      0.000       0.939       1.084\n",
       "Last Notable Activity_SMS Sent                      1.0784      0.177      6.089      0.000       0.731       1.426\n",
       "Last Activity_SMS Sent                              0.9472      0.156      6.074      0.000       0.642       1.253\n",
       "Lead Source_Reference                             -17.8857   1.63e+04     -0.001      0.999   -3.19e+04    3.19e+04\n",
       "TotalVisits                                         0.2223      0.047      4.763      0.000       0.131       0.314\n",
       "Page Views Per Visit                               -0.2858      0.052     -5.540      0.000      -0.387      -0.185\n",
       "Last Activity_Olark Chat Conversation              -0.7729      0.176     -4.383      0.000      -1.119      -0.427\n",
       "Last Notable Activity_Modified                     -0.3925      0.103     -3.803      0.000      -0.595      -0.190\n",
       "Lead Origin_Landing Page Submission                -0.5848      0.081     -7.177      0.000      -0.745      -0.425\n",
       "Lead Origin_Lead Add Form                          21.0368   1.63e+04      0.001      0.999   -3.19e+04    3.19e+04\n",
       "Last Activity_Email Opened                          0.6269      0.107      5.879      0.000       0.418       0.836\n",
       "Current_occupation_imputed_Working Professional     1.3585      0.203      6.695      0.000       0.961       1.756\n",
       "Current_occupation_imputed_Unemployed               0.0641      0.179      0.358      0.720      -0.286       0.415\n",
       "Lead Source_Welingak Website                      -15.6056   1.63e+04     -0.001      0.999   -3.19e+04    3.19e+04\n",
       "City_imputed_Other Cities                          -0.0940      0.101     -0.928      0.354      -0.293       0.105\n",
       "===================================================================================================================\n",
       "\"\"\""
      ]
     },
     "execution_count": 262,
     "metadata": {},
     "output_type": "execute_result"
    }
   ],
   "source": [
    "get_summary(X_train_15)"
   ]
  },
  {
   "cell_type": "code",
   "execution_count": 263,
   "id": "ae068b3f",
   "metadata": {
    "scrolled": true
   },
   "outputs": [
    {
     "data": {
      "text/html": [
       "<div>\n",
       "<style scoped>\n",
       "    .dataframe tbody tr th:only-of-type {\n",
       "        vertical-align: middle;\n",
       "    }\n",
       "\n",
       "    .dataframe tbody tr th {\n",
       "        vertical-align: top;\n",
       "    }\n",
       "\n",
       "    .dataframe thead th {\n",
       "        text-align: right;\n",
       "    }\n",
       "</style>\n",
       "<table border=\"1\" class=\"dataframe\">\n",
       "  <thead>\n",
       "    <tr style=\"text-align: right;\">\n",
       "      <th></th>\n",
       "      <th>Features</th>\n",
       "      <th>VIF</th>\n",
       "    </tr>\n",
       "  </thead>\n",
       "  <tbody>\n",
       "    <tr>\n",
       "      <th>9</th>\n",
       "      <td>Lead Origin_Lead Add Form</td>\n",
       "      <td>133.78</td>\n",
       "    </tr>\n",
       "    <tr>\n",
       "      <th>3</th>\n",
       "      <td>Lead Source_Reference</td>\n",
       "      <td>106.44</td>\n",
       "    </tr>\n",
       "    <tr>\n",
       "      <th>13</th>\n",
       "      <td>Lead Source_Welingak Website</td>\n",
       "      <td>28.43</td>\n",
       "    </tr>\n",
       "    <tr>\n",
       "      <th>12</th>\n",
       "      <td>Current_occupation_imputed_Unemployed</td>\n",
       "      <td>7.32</td>\n",
       "    </tr>\n",
       "    <tr>\n",
       "      <th>1</th>\n",
       "      <td>Last Notable Activity_SMS Sent</td>\n",
       "      <td>6.72</td>\n",
       "    </tr>\n",
       "    <tr>\n",
       "      <th>2</th>\n",
       "      <td>Last Activity_SMS Sent</td>\n",
       "      <td>6.55</td>\n",
       "    </tr>\n",
       "    <tr>\n",
       "      <th>8</th>\n",
       "      <td>Lead Origin_Landing Page Submission</td>\n",
       "      <td>3.11</td>\n",
       "    </tr>\n",
       "    <tr>\n",
       "      <th>10</th>\n",
       "      <td>Last Activity_Email Opened</td>\n",
       "      <td>3.01</td>\n",
       "    </tr>\n",
       "    <tr>\n",
       "      <th>7</th>\n",
       "      <td>Last Notable Activity_Modified</td>\n",
       "      <td>2.82</td>\n",
       "    </tr>\n",
       "    <tr>\n",
       "      <th>5</th>\n",
       "      <td>Page Views Per Visit</td>\n",
       "      <td>2.48</td>\n",
       "    </tr>\n",
       "    <tr>\n",
       "      <th>4</th>\n",
       "      <td>TotalVisits</td>\n",
       "      <td>2.23</td>\n",
       "    </tr>\n",
       "    <tr>\n",
       "      <th>11</th>\n",
       "      <td>Current_occupation_imputed_Working Professional</td>\n",
       "      <td>1.88</td>\n",
       "    </tr>\n",
       "    <tr>\n",
       "      <th>6</th>\n",
       "      <td>Last Activity_Olark Chat Conversation</td>\n",
       "      <td>1.62</td>\n",
       "    </tr>\n",
       "    <tr>\n",
       "      <th>0</th>\n",
       "      <td>Total Time Spent on Website</td>\n",
       "      <td>1.24</td>\n",
       "    </tr>\n",
       "    <tr>\n",
       "      <th>14</th>\n",
       "      <td>City_imputed_Other Cities</td>\n",
       "      <td>1.14</td>\n",
       "    </tr>\n",
       "  </tbody>\n",
       "</table>\n",
       "</div>"
      ],
      "text/plain": [
       "                                           Features     VIF\n",
       "9                         Lead Origin_Lead Add Form  133.78\n",
       "3                             Lead Source_Reference  106.44\n",
       "13                     Lead Source_Welingak Website   28.43\n",
       "12            Current_occupation_imputed_Unemployed    7.32\n",
       "1                    Last Notable Activity_SMS Sent    6.72\n",
       "2                            Last Activity_SMS Sent    6.55\n",
       "8               Lead Origin_Landing Page Submission    3.11\n",
       "10                       Last Activity_Email Opened    3.01\n",
       "7                    Last Notable Activity_Modified    2.82\n",
       "5                              Page Views Per Visit    2.48\n",
       "4                                       TotalVisits    2.23\n",
       "11  Current_occupation_imputed_Working Professional    1.88\n",
       "6             Last Activity_Olark Chat Conversation    1.62\n",
       "0                       Total Time Spent on Website    1.24\n",
       "14                        City_imputed_Other Cities    1.14"
      ]
     },
     "execution_count": 263,
     "metadata": {},
     "output_type": "execute_result"
    }
   ],
   "source": [
    "check_vif(X_train_15)"
   ]
  },
  {
   "cell_type": "markdown",
   "id": "c221d656",
   "metadata": {},
   "source": [
    "__there are insignificant and correlated features.Dropping these features and checking the model peformance__"
   ]
  },
  {
   "cell_type": "code",
   "execution_count": 264,
   "id": "371e33b5",
   "metadata": {},
   "outputs": [
    {
     "data": {
      "text/html": [
       "<table class=\"simpletable\">\n",
       "<caption>Generalized Linear Model Regression Results</caption>\n",
       "<tr>\n",
       "  <th>Dep. Variable:</th>           <td>y</td>        <th>  No. Observations:  </th>  <td>  6204</td> \n",
       "</tr>\n",
       "<tr>\n",
       "  <th>Model:</th>                  <td>GLM</td>       <th>  Df Residuals:      </th>  <td>  6189</td> \n",
       "</tr>\n",
       "<tr>\n",
       "  <th>Model Family:</th>        <td>Binomial</td>     <th>  Df Model:          </th>  <td>    14</td> \n",
       "</tr>\n",
       "<tr>\n",
       "  <th>Link Function:</th>         <td>Logit</td>      <th>  Scale:             </th> <td>  1.0000</td>\n",
       "</tr>\n",
       "<tr>\n",
       "  <th>Method:</th>                <td>IRLS</td>       <th>  Log-Likelihood:    </th> <td> -2759.9</td>\n",
       "</tr>\n",
       "<tr>\n",
       "  <th>Date:</th>            <td>Sat, 22 Oct 2022</td> <th>  Deviance:          </th> <td>  5519.7</td>\n",
       "</tr>\n",
       "<tr>\n",
       "  <th>Time:</th>                <td>11:32:07</td>     <th>  Pearson chi2:      </th> <td>6.25e+03</td>\n",
       "</tr>\n",
       "<tr>\n",
       "  <th>No. Iterations:</th>          <td>7</td>        <th>  Pseudo R-squ. (CS):</th>  <td>0.3578</td> \n",
       "</tr>\n",
       "<tr>\n",
       "  <th>Covariance Type:</th>     <td>nonrobust</td>    <th>                     </th>     <td> </td>   \n",
       "</tr>\n",
       "</table>\n",
       "<table class=\"simpletable\">\n",
       "<tr>\n",
       "                         <td></td>                            <th>coef</th>     <th>std err</th>      <th>z</th>      <th>P>|z|</th>  <th>[0.025</th>    <th>0.975]</th>  \n",
       "</tr>\n",
       "<tr>\n",
       "  <th>const</th>                                           <td>   -1.2651</td> <td>    0.208</td> <td>   -6.076</td> <td> 0.000</td> <td>   -1.673</td> <td>   -0.857</td>\n",
       "</tr>\n",
       "<tr>\n",
       "  <th>Total Time Spent on Website</th>                     <td>    1.0116</td> <td>    0.037</td> <td>   27.218</td> <td> 0.000</td> <td>    0.939</td> <td>    1.084</td>\n",
       "</tr>\n",
       "<tr>\n",
       "  <th>Last Notable Activity_SMS Sent</th>                  <td>    1.0788</td> <td>    0.177</td> <td>    6.091</td> <td> 0.000</td> <td>    0.732</td> <td>    1.426</td>\n",
       "</tr>\n",
       "<tr>\n",
       "  <th>Last Activity_SMS Sent</th>                          <td>    0.9469</td> <td>    0.156</td> <td>    6.072</td> <td> 0.000</td> <td>    0.641</td> <td>    1.253</td>\n",
       "</tr>\n",
       "<tr>\n",
       "  <th>TotalVisits</th>                                     <td>    0.2224</td> <td>    0.047</td> <td>    4.765</td> <td> 0.000</td> <td>    0.131</td> <td>    0.314</td>\n",
       "</tr>\n",
       "<tr>\n",
       "  <th>Page Views Per Visit</th>                            <td>   -0.2858</td> <td>    0.052</td> <td>   -5.541</td> <td> 0.000</td> <td>   -0.387</td> <td>   -0.185</td>\n",
       "</tr>\n",
       "<tr>\n",
       "  <th>Last Activity_Olark Chat Conversation</th>           <td>   -0.7730</td> <td>    0.176</td> <td>   -4.384</td> <td> 0.000</td> <td>   -1.119</td> <td>   -0.427</td>\n",
       "</tr>\n",
       "<tr>\n",
       "  <th>Last Notable Activity_Modified</th>                  <td>   -0.3924</td> <td>    0.103</td> <td>   -3.802</td> <td> 0.000</td> <td>   -0.595</td> <td>   -0.190</td>\n",
       "</tr>\n",
       "<tr>\n",
       "  <th>Lead Origin_Landing Page Submission</th>             <td>   -0.5850</td> <td>    0.081</td> <td>   -7.179</td> <td> 0.000</td> <td>   -0.745</td> <td>   -0.425</td>\n",
       "</tr>\n",
       "<tr>\n",
       "  <th>Lead Origin_Lead Add Form</th>                       <td>    3.1547</td> <td>    0.220</td> <td>   14.321</td> <td> 0.000</td> <td>    2.723</td> <td>    3.586</td>\n",
       "</tr>\n",
       "<tr>\n",
       "  <th>Last Activity_Email Opened</th>                      <td>    0.6268</td> <td>    0.107</td> <td>    5.878</td> <td> 0.000</td> <td>    0.418</td> <td>    0.836</td>\n",
       "</tr>\n",
       "<tr>\n",
       "  <th>Current_occupation_imputed_Working Professional</th> <td>    1.3585</td> <td>    0.203</td> <td>    6.695</td> <td> 0.000</td> <td>    0.961</td> <td>    1.756</td>\n",
       "</tr>\n",
       "<tr>\n",
       "  <th>Current_occupation_imputed_Unemployed</th>           <td>    0.0643</td> <td>    0.179</td> <td>    0.359</td> <td> 0.719</td> <td>   -0.286</td> <td>    0.415</td>\n",
       "</tr>\n",
       "<tr>\n",
       "  <th>Lead Source_Welingak Website</th>                    <td>    2.2766</td> <td>    1.033</td> <td>    2.205</td> <td> 0.027</td> <td>    0.253</td> <td>    4.301</td>\n",
       "</tr>\n",
       "<tr>\n",
       "  <th>City_imputed_Other Cities</th>                       <td>   -0.0941</td> <td>    0.101</td> <td>   -0.929</td> <td> 0.353</td> <td>   -0.293</td> <td>    0.104</td>\n",
       "</tr>\n",
       "</table>"
      ],
      "text/plain": [
       "<class 'statsmodels.iolib.summary.Summary'>\n",
       "\"\"\"\n",
       "                 Generalized Linear Model Regression Results                  \n",
       "==============================================================================\n",
       "Dep. Variable:                      y   No. Observations:                 6204\n",
       "Model:                            GLM   Df Residuals:                     6189\n",
       "Model Family:                Binomial   Df Model:                           14\n",
       "Link Function:                  Logit   Scale:                          1.0000\n",
       "Method:                          IRLS   Log-Likelihood:                -2759.9\n",
       "Date:                Sat, 22 Oct 2022   Deviance:                       5519.7\n",
       "Time:                        11:32:07   Pearson chi2:                 6.25e+03\n",
       "No. Iterations:                     7   Pseudo R-squ. (CS):             0.3578\n",
       "Covariance Type:            nonrobust                                         \n",
       "===================================================================================================================\n",
       "                                                      coef    std err          z      P>|z|      [0.025      0.975]\n",
       "-------------------------------------------------------------------------------------------------------------------\n",
       "const                                              -1.2651      0.208     -6.076      0.000      -1.673      -0.857\n",
       "Total Time Spent on Website                         1.0116      0.037     27.218      0.000       0.939       1.084\n",
       "Last Notable Activity_SMS Sent                      1.0788      0.177      6.091      0.000       0.732       1.426\n",
       "Last Activity_SMS Sent                              0.9469      0.156      6.072      0.000       0.641       1.253\n",
       "TotalVisits                                         0.2224      0.047      4.765      0.000       0.131       0.314\n",
       "Page Views Per Visit                               -0.2858      0.052     -5.541      0.000      -0.387      -0.185\n",
       "Last Activity_Olark Chat Conversation              -0.7730      0.176     -4.384      0.000      -1.119      -0.427\n",
       "Last Notable Activity_Modified                     -0.3924      0.103     -3.802      0.000      -0.595      -0.190\n",
       "Lead Origin_Landing Page Submission                -0.5850      0.081     -7.179      0.000      -0.745      -0.425\n",
       "Lead Origin_Lead Add Form                           3.1547      0.220     14.321      0.000       2.723       3.586\n",
       "Last Activity_Email Opened                          0.6268      0.107      5.878      0.000       0.418       0.836\n",
       "Current_occupation_imputed_Working Professional     1.3585      0.203      6.695      0.000       0.961       1.756\n",
       "Current_occupation_imputed_Unemployed               0.0643      0.179      0.359      0.719      -0.286       0.415\n",
       "Lead Source_Welingak Website                        2.2766      1.033      2.205      0.027       0.253       4.301\n",
       "City_imputed_Other Cities                          -0.0941      0.101     -0.929      0.353      -0.293       0.104\n",
       "===================================================================================================================\n",
       "\"\"\""
      ]
     },
     "execution_count": 264,
     "metadata": {},
     "output_type": "execute_result"
    }
   ],
   "source": [
    "# dropping high p-value features\n",
    "\n",
    "X_train_sm_1 = X_train_15.drop('Lead Source_Reference',axis=1)\n",
    "\n",
    "# checking the summary\n",
    "get_summary(X_train_sm_1)"
   ]
  },
  {
   "cell_type": "code",
   "execution_count": 265,
   "id": "cb96c6d6",
   "metadata": {},
   "outputs": [
    {
     "data": {
      "text/html": [
       "<table class=\"simpletable\">\n",
       "<caption>Generalized Linear Model Regression Results</caption>\n",
       "<tr>\n",
       "  <th>Dep. Variable:</th>           <td>y</td>        <th>  No. Observations:  </th>  <td>  6204</td> \n",
       "</tr>\n",
       "<tr>\n",
       "  <th>Model:</th>                  <td>GLM</td>       <th>  Df Residuals:      </th>  <td>  6190</td> \n",
       "</tr>\n",
       "<tr>\n",
       "  <th>Model Family:</th>        <td>Binomial</td>     <th>  Df Model:          </th>  <td>    13</td> \n",
       "</tr>\n",
       "<tr>\n",
       "  <th>Link Function:</th>         <td>Logit</td>      <th>  Scale:             </th> <td>  1.0000</td>\n",
       "</tr>\n",
       "<tr>\n",
       "  <th>Method:</th>                <td>IRLS</td>       <th>  Log-Likelihood:    </th> <td> -2760.3</td>\n",
       "</tr>\n",
       "<tr>\n",
       "  <th>Date:</th>            <td>Sat, 22 Oct 2022</td> <th>  Deviance:          </th> <td>  5520.6</td>\n",
       "</tr>\n",
       "<tr>\n",
       "  <th>Time:</th>                <td>11:32:14</td>     <th>  Pearson chi2:      </th> <td>6.26e+03</td>\n",
       "</tr>\n",
       "<tr>\n",
       "  <th>No. Iterations:</th>          <td>7</td>        <th>  Pseudo R-squ. (CS):</th>  <td>0.3577</td> \n",
       "</tr>\n",
       "<tr>\n",
       "  <th>Covariance Type:</th>     <td>nonrobust</td>    <th>                     </th>     <td> </td>   \n",
       "</tr>\n",
       "</table>\n",
       "<table class=\"simpletable\">\n",
       "<tr>\n",
       "                         <td></td>                            <th>coef</th>     <th>std err</th>      <th>z</th>      <th>P>|z|</th>  <th>[0.025</th>    <th>0.975]</th>  \n",
       "</tr>\n",
       "<tr>\n",
       "  <th>const</th>                                           <td>   -1.2788</td> <td>    0.208</td> <td>   -6.155</td> <td> 0.000</td> <td>   -1.686</td> <td>   -0.872</td>\n",
       "</tr>\n",
       "<tr>\n",
       "  <th>Total Time Spent on Website</th>                     <td>    1.0116</td> <td>    0.037</td> <td>   27.228</td> <td> 0.000</td> <td>    0.939</td> <td>    1.084</td>\n",
       "</tr>\n",
       "<tr>\n",
       "  <th>Last Notable Activity_SMS Sent</th>                  <td>    1.0830</td> <td>    0.177</td> <td>    6.115</td> <td> 0.000</td> <td>    0.736</td> <td>    1.430</td>\n",
       "</tr>\n",
       "<tr>\n",
       "  <th>Last Activity_SMS Sent</th>                          <td>    0.9434</td> <td>    0.156</td> <td>    6.049</td> <td> 0.000</td> <td>    0.638</td> <td>    1.249</td>\n",
       "</tr>\n",
       "<tr>\n",
       "  <th>TotalVisits</th>                                     <td>    0.2227</td> <td>    0.047</td> <td>    4.771</td> <td> 0.000</td> <td>    0.131</td> <td>    0.314</td>\n",
       "</tr>\n",
       "<tr>\n",
       "  <th>Page Views Per Visit</th>                            <td>   -0.2852</td> <td>    0.052</td> <td>   -5.530</td> <td> 0.000</td> <td>   -0.386</td> <td>   -0.184</td>\n",
       "</tr>\n",
       "<tr>\n",
       "  <th>Last Activity_Olark Chat Conversation</th>           <td>   -0.7715</td> <td>    0.176</td> <td>   -4.375</td> <td> 0.000</td> <td>   -1.117</td> <td>   -0.426</td>\n",
       "</tr>\n",
       "<tr>\n",
       "  <th>Last Notable Activity_Modified</th>                  <td>   -0.3914</td> <td>    0.103</td> <td>   -3.792</td> <td> 0.000</td> <td>   -0.594</td> <td>   -0.189</td>\n",
       "</tr>\n",
       "<tr>\n",
       "  <th>Lead Origin_Landing Page Submission</th>             <td>   -0.5843</td> <td>    0.081</td> <td>   -7.174</td> <td> 0.000</td> <td>   -0.744</td> <td>   -0.425</td>\n",
       "</tr>\n",
       "<tr>\n",
       "  <th>Lead Origin_Lead Add Form</th>                       <td>    3.1571</td> <td>    0.220</td> <td>   14.331</td> <td> 0.000</td> <td>    2.725</td> <td>    3.589</td>\n",
       "</tr>\n",
       "<tr>\n",
       "  <th>Last Activity_Email Opened</th>                      <td>    0.6273</td> <td>    0.107</td> <td>    5.883</td> <td> 0.000</td> <td>    0.418</td> <td>    0.836</td>\n",
       "</tr>\n",
       "<tr>\n",
       "  <th>Current_occupation_imputed_Working Professional</th> <td>    1.3598</td> <td>    0.203</td> <td>    6.699</td> <td> 0.000</td> <td>    0.962</td> <td>    1.758</td>\n",
       "</tr>\n",
       "<tr>\n",
       "  <th>Current_occupation_imputed_Unemployed</th>           <td>    0.0649</td> <td>    0.179</td> <td>    0.363</td> <td> 0.717</td> <td>   -0.286</td> <td>    0.416</td>\n",
       "</tr>\n",
       "<tr>\n",
       "  <th>Lead Source_Welingak Website</th>                    <td>    2.2744</td> <td>    1.033</td> <td>    2.202</td> <td> 0.028</td> <td>    0.250</td> <td>    4.299</td>\n",
       "</tr>\n",
       "</table>"
      ],
      "text/plain": [
       "<class 'statsmodels.iolib.summary.Summary'>\n",
       "\"\"\"\n",
       "                 Generalized Linear Model Regression Results                  \n",
       "==============================================================================\n",
       "Dep. Variable:                      y   No. Observations:                 6204\n",
       "Model:                            GLM   Df Residuals:                     6190\n",
       "Model Family:                Binomial   Df Model:                           13\n",
       "Link Function:                  Logit   Scale:                          1.0000\n",
       "Method:                          IRLS   Log-Likelihood:                -2760.3\n",
       "Date:                Sat, 22 Oct 2022   Deviance:                       5520.6\n",
       "Time:                        11:32:14   Pearson chi2:                 6.26e+03\n",
       "No. Iterations:                     7   Pseudo R-squ. (CS):             0.3577\n",
       "Covariance Type:            nonrobust                                         \n",
       "===================================================================================================================\n",
       "                                                      coef    std err          z      P>|z|      [0.025      0.975]\n",
       "-------------------------------------------------------------------------------------------------------------------\n",
       "const                                              -1.2788      0.208     -6.155      0.000      -1.686      -0.872\n",
       "Total Time Spent on Website                         1.0116      0.037     27.228      0.000       0.939       1.084\n",
       "Last Notable Activity_SMS Sent                      1.0830      0.177      6.115      0.000       0.736       1.430\n",
       "Last Activity_SMS Sent                              0.9434      0.156      6.049      0.000       0.638       1.249\n",
       "TotalVisits                                         0.2227      0.047      4.771      0.000       0.131       0.314\n",
       "Page Views Per Visit                               -0.2852      0.052     -5.530      0.000      -0.386      -0.184\n",
       "Last Activity_Olark Chat Conversation              -0.7715      0.176     -4.375      0.000      -1.117      -0.426\n",
       "Last Notable Activity_Modified                     -0.3914      0.103     -3.792      0.000      -0.594      -0.189\n",
       "Lead Origin_Landing Page Submission                -0.5843      0.081     -7.174      0.000      -0.744      -0.425\n",
       "Lead Origin_Lead Add Form                           3.1571      0.220     14.331      0.000       2.725       3.589\n",
       "Last Activity_Email Opened                          0.6273      0.107      5.883      0.000       0.418       0.836\n",
       "Current_occupation_imputed_Working Professional     1.3598      0.203      6.699      0.000       0.962       1.758\n",
       "Current_occupation_imputed_Unemployed               0.0649      0.179      0.363      0.717      -0.286       0.416\n",
       "Lead Source_Welingak Website                        2.2744      1.033      2.202      0.028       0.250       4.299\n",
       "===================================================================================================================\n",
       "\"\"\""
      ]
     },
     "execution_count": 265,
     "metadata": {},
     "output_type": "execute_result"
    }
   ],
   "source": [
    "# dropping Specialization_imputed_Human Resource Management\n",
    "X_train_sm_2 = X_train_sm_1.drop('City_imputed_Other Cities',axis=1)\n",
    "\n",
    "get_summary(X_train_sm_2)"
   ]
  },
  {
   "cell_type": "code",
   "execution_count": 266,
   "id": "d8500935",
   "metadata": {},
   "outputs": [
    {
     "data": {
      "text/html": [
       "<table class=\"simpletable\">\n",
       "<caption>Generalized Linear Model Regression Results</caption>\n",
       "<tr>\n",
       "  <th>Dep. Variable:</th>           <td>y</td>        <th>  No. Observations:  </th>  <td>  6204</td> \n",
       "</tr>\n",
       "<tr>\n",
       "  <th>Model:</th>                  <td>GLM</td>       <th>  Df Residuals:      </th>  <td>  6191</td> \n",
       "</tr>\n",
       "<tr>\n",
       "  <th>Model Family:</th>        <td>Binomial</td>     <th>  Df Model:          </th>  <td>    12</td> \n",
       "</tr>\n",
       "<tr>\n",
       "  <th>Link Function:</th>         <td>Logit</td>      <th>  Scale:             </th> <td>  1.0000</td>\n",
       "</tr>\n",
       "<tr>\n",
       "  <th>Method:</th>                <td>IRLS</td>       <th>  Log-Likelihood:    </th> <td> -2760.4</td>\n",
       "</tr>\n",
       "<tr>\n",
       "  <th>Date:</th>            <td>Sat, 22 Oct 2022</td> <th>  Deviance:          </th> <td>  5520.7</td>\n",
       "</tr>\n",
       "<tr>\n",
       "  <th>Time:</th>                <td>11:32:15</td>     <th>  Pearson chi2:      </th> <td>6.26e+03</td>\n",
       "</tr>\n",
       "<tr>\n",
       "  <th>No. Iterations:</th>          <td>7</td>        <th>  Pseudo R-squ. (CS):</th>  <td>0.3577</td> \n",
       "</tr>\n",
       "<tr>\n",
       "  <th>Covariance Type:</th>     <td>nonrobust</td>    <th>                     </th>     <td> </td>   \n",
       "</tr>\n",
       "</table>\n",
       "<table class=\"simpletable\">\n",
       "<tr>\n",
       "                         <td></td>                            <th>coef</th>     <th>std err</th>      <th>z</th>      <th>P>|z|</th>  <th>[0.025</th>    <th>0.975]</th>  \n",
       "</tr>\n",
       "<tr>\n",
       "  <th>const</th>                                           <td>   -1.2160</td> <td>    0.115</td> <td>  -10.571</td> <td> 0.000</td> <td>   -1.442</td> <td>   -0.991</td>\n",
       "</tr>\n",
       "<tr>\n",
       "  <th>Total Time Spent on Website</th>                     <td>    1.0117</td> <td>    0.037</td> <td>   27.230</td> <td> 0.000</td> <td>    0.939</td> <td>    1.085</td>\n",
       "</tr>\n",
       "<tr>\n",
       "  <th>Last Notable Activity_SMS Sent</th>                  <td>    1.0832</td> <td>    0.177</td> <td>    6.117</td> <td> 0.000</td> <td>    0.736</td> <td>    1.430</td>\n",
       "</tr>\n",
       "<tr>\n",
       "  <th>Last Activity_SMS Sent</th>                          <td>    0.9441</td> <td>    0.156</td> <td>    6.054</td> <td> 0.000</td> <td>    0.638</td> <td>    1.250</td>\n",
       "</tr>\n",
       "<tr>\n",
       "  <th>TotalVisits</th>                                     <td>    0.2227</td> <td>    0.047</td> <td>    4.772</td> <td> 0.000</td> <td>    0.131</td> <td>    0.314</td>\n",
       "</tr>\n",
       "<tr>\n",
       "  <th>Page Views Per Visit</th>                            <td>   -0.2849</td> <td>    0.052</td> <td>   -5.525</td> <td> 0.000</td> <td>   -0.386</td> <td>   -0.184</td>\n",
       "</tr>\n",
       "<tr>\n",
       "  <th>Last Activity_Olark Chat Conversation</th>           <td>   -0.7727</td> <td>    0.176</td> <td>   -4.383</td> <td> 0.000</td> <td>   -1.118</td> <td>   -0.427</td>\n",
       "</tr>\n",
       "<tr>\n",
       "  <th>Last Notable Activity_Modified</th>                  <td>   -0.3917</td> <td>    0.103</td> <td>   -3.795</td> <td> 0.000</td> <td>   -0.594</td> <td>   -0.189</td>\n",
       "</tr>\n",
       "<tr>\n",
       "  <th>Lead Origin_Landing Page Submission</th>             <td>   -0.5852</td> <td>    0.081</td> <td>   -7.187</td> <td> 0.000</td> <td>   -0.745</td> <td>   -0.426</td>\n",
       "</tr>\n",
       "<tr>\n",
       "  <th>Lead Origin_Lead Add Form</th>                       <td>    3.1554</td> <td>    0.220</td> <td>   14.328</td> <td> 0.000</td> <td>    2.724</td> <td>    3.587</td>\n",
       "</tr>\n",
       "<tr>\n",
       "  <th>Last Activity_Email Opened</th>                      <td>    0.6268</td> <td>    0.107</td> <td>    5.880</td> <td> 0.000</td> <td>    0.418</td> <td>    0.836</td>\n",
       "</tr>\n",
       "<tr>\n",
       "  <th>Current_occupation_imputed_Working Professional</th> <td>    1.2977</td> <td>    0.109</td> <td>   11.884</td> <td> 0.000</td> <td>    1.084</td> <td>    1.512</td>\n",
       "</tr>\n",
       "<tr>\n",
       "  <th>Lead Source_Welingak Website</th>                    <td>    2.2789</td> <td>    1.033</td> <td>    2.207</td> <td> 0.027</td> <td>    0.255</td> <td>    4.303</td>\n",
       "</tr>\n",
       "</table>"
      ],
      "text/plain": [
       "<class 'statsmodels.iolib.summary.Summary'>\n",
       "\"\"\"\n",
       "                 Generalized Linear Model Regression Results                  \n",
       "==============================================================================\n",
       "Dep. Variable:                      y   No. Observations:                 6204\n",
       "Model:                            GLM   Df Residuals:                     6191\n",
       "Model Family:                Binomial   Df Model:                           12\n",
       "Link Function:                  Logit   Scale:                          1.0000\n",
       "Method:                          IRLS   Log-Likelihood:                -2760.4\n",
       "Date:                Sat, 22 Oct 2022   Deviance:                       5520.7\n",
       "Time:                        11:32:15   Pearson chi2:                 6.26e+03\n",
       "No. Iterations:                     7   Pseudo R-squ. (CS):             0.3577\n",
       "Covariance Type:            nonrobust                                         \n",
       "===================================================================================================================\n",
       "                                                      coef    std err          z      P>|z|      [0.025      0.975]\n",
       "-------------------------------------------------------------------------------------------------------------------\n",
       "const                                              -1.2160      0.115    -10.571      0.000      -1.442      -0.991\n",
       "Total Time Spent on Website                         1.0117      0.037     27.230      0.000       0.939       1.085\n",
       "Last Notable Activity_SMS Sent                      1.0832      0.177      6.117      0.000       0.736       1.430\n",
       "Last Activity_SMS Sent                              0.9441      0.156      6.054      0.000       0.638       1.250\n",
       "TotalVisits                                         0.2227      0.047      4.772      0.000       0.131       0.314\n",
       "Page Views Per Visit                               -0.2849      0.052     -5.525      0.000      -0.386      -0.184\n",
       "Last Activity_Olark Chat Conversation              -0.7727      0.176     -4.383      0.000      -1.118      -0.427\n",
       "Last Notable Activity_Modified                     -0.3917      0.103     -3.795      0.000      -0.594      -0.189\n",
       "Lead Origin_Landing Page Submission                -0.5852      0.081     -7.187      0.000      -0.745      -0.426\n",
       "Lead Origin_Lead Add Form                           3.1554      0.220     14.328      0.000       2.724       3.587\n",
       "Last Activity_Email Opened                          0.6268      0.107      5.880      0.000       0.418       0.836\n",
       "Current_occupation_imputed_Working Professional     1.2977      0.109     11.884      0.000       1.084       1.512\n",
       "Lead Source_Welingak Website                        2.2789      1.033      2.207      0.027       0.255       4.303\n",
       "===================================================================================================================\n",
       "\"\"\""
      ]
     },
     "execution_count": 266,
     "metadata": {},
     "output_type": "execute_result"
    }
   ],
   "source": [
    "X_train_sm_3 = X_train_sm_2.drop('Current_occupation_imputed_Unemployed',axis=1)\n",
    "\n",
    "get_summary(X_train_sm_3)"
   ]
  },
  {
   "cell_type": "code",
   "execution_count": 267,
   "id": "7f9b01d2",
   "metadata": {},
   "outputs": [
    {
     "data": {
      "text/html": [
       "<div>\n",
       "<style scoped>\n",
       "    .dataframe tbody tr th:only-of-type {\n",
       "        vertical-align: middle;\n",
       "    }\n",
       "\n",
       "    .dataframe tbody tr th {\n",
       "        vertical-align: top;\n",
       "    }\n",
       "\n",
       "    .dataframe thead th {\n",
       "        text-align: right;\n",
       "    }\n",
       "</style>\n",
       "<table border=\"1\" class=\"dataframe\">\n",
       "  <thead>\n",
       "    <tr style=\"text-align: right;\">\n",
       "      <th></th>\n",
       "      <th>Features</th>\n",
       "      <th>VIF</th>\n",
       "    </tr>\n",
       "  </thead>\n",
       "  <tbody>\n",
       "    <tr>\n",
       "      <th>2</th>\n",
       "      <td>Last Activity_SMS Sent</td>\n",
       "      <td>6.35</td>\n",
       "    </tr>\n",
       "    <tr>\n",
       "      <th>1</th>\n",
       "      <td>Last Notable Activity_SMS Sent</td>\n",
       "      <td>6.19</td>\n",
       "    </tr>\n",
       "    <tr>\n",
       "      <th>7</th>\n",
       "      <td>Lead Origin_Landing Page Submission</td>\n",
       "      <td>2.66</td>\n",
       "    </tr>\n",
       "    <tr>\n",
       "      <th>4</th>\n",
       "      <td>Page Views Per Visit</td>\n",
       "      <td>2.43</td>\n",
       "    </tr>\n",
       "    <tr>\n",
       "      <th>3</th>\n",
       "      <td>TotalVisits</td>\n",
       "      <td>2.21</td>\n",
       "    </tr>\n",
       "    <tr>\n",
       "      <th>6</th>\n",
       "      <td>Last Notable Activity_Modified</td>\n",
       "      <td>2.06</td>\n",
       "    </tr>\n",
       "    <tr>\n",
       "      <th>8</th>\n",
       "      <td>Lead Origin_Lead Add Form</td>\n",
       "      <td>1.59</td>\n",
       "    </tr>\n",
       "    <tr>\n",
       "      <th>9</th>\n",
       "      <td>Last Activity_Email Opened</td>\n",
       "      <td>1.55</td>\n",
       "    </tr>\n",
       "    <tr>\n",
       "      <th>5</th>\n",
       "      <td>Last Activity_Olark Chat Conversation</td>\n",
       "      <td>1.43</td>\n",
       "    </tr>\n",
       "    <tr>\n",
       "      <th>11</th>\n",
       "      <td>Lead Source_Welingak Website</td>\n",
       "      <td>1.28</td>\n",
       "    </tr>\n",
       "    <tr>\n",
       "      <th>0</th>\n",
       "      <td>Total Time Spent on Website</td>\n",
       "      <td>1.24</td>\n",
       "    </tr>\n",
       "    <tr>\n",
       "      <th>10</th>\n",
       "      <td>Current_occupation_imputed_Working Professional</td>\n",
       "      <td>1.16</td>\n",
       "    </tr>\n",
       "  </tbody>\n",
       "</table>\n",
       "</div>"
      ],
      "text/plain": [
       "                                           Features   VIF\n",
       "2                            Last Activity_SMS Sent  6.35\n",
       "1                    Last Notable Activity_SMS Sent  6.19\n",
       "7               Lead Origin_Landing Page Submission  2.66\n",
       "4                              Page Views Per Visit  2.43\n",
       "3                                       TotalVisits  2.21\n",
       "6                    Last Notable Activity_Modified  2.06\n",
       "8                         Lead Origin_Lead Add Form  1.59\n",
       "9                        Last Activity_Email Opened  1.55\n",
       "5             Last Activity_Olark Chat Conversation  1.43\n",
       "11                     Lead Source_Welingak Website  1.28\n",
       "0                       Total Time Spent on Website  1.24\n",
       "10  Current_occupation_imputed_Working Professional  1.16"
      ]
     },
     "execution_count": 267,
     "metadata": {},
     "output_type": "execute_result"
    }
   ],
   "source": [
    "check_vif(X_train_sm_3)"
   ]
  },
  {
   "cell_type": "code",
   "execution_count": 268,
   "id": "4aeb10db",
   "metadata": {},
   "outputs": [
    {
     "data": {
      "text/html": [
       "<table class=\"simpletable\">\n",
       "<caption>Generalized Linear Model Regression Results</caption>\n",
       "<tr>\n",
       "  <th>Dep. Variable:</th>           <td>y</td>        <th>  No. Observations:  </th>  <td>  6204</td> \n",
       "</tr>\n",
       "<tr>\n",
       "  <th>Model:</th>                  <td>GLM</td>       <th>  Df Residuals:      </th>  <td>  6192</td> \n",
       "</tr>\n",
       "<tr>\n",
       "  <th>Model Family:</th>        <td>Binomial</td>     <th>  Df Model:          </th>  <td>    11</td> \n",
       "</tr>\n",
       "<tr>\n",
       "  <th>Link Function:</th>         <td>Logit</td>      <th>  Scale:             </th> <td>  1.0000</td>\n",
       "</tr>\n",
       "<tr>\n",
       "  <th>Method:</th>                <td>IRLS</td>       <th>  Log-Likelihood:    </th> <td> -2779.5</td>\n",
       "</tr>\n",
       "<tr>\n",
       "  <th>Date:</th>            <td>Sat, 22 Oct 2022</td> <th>  Deviance:          </th> <td>  5558.9</td>\n",
       "</tr>\n",
       "<tr>\n",
       "  <th>Time:</th>                <td>11:32:16</td>     <th>  Pearson chi2:      </th> <td>6.33e+03</td>\n",
       "</tr>\n",
       "<tr>\n",
       "  <th>No. Iterations:</th>          <td>7</td>        <th>  Pseudo R-squ. (CS):</th>  <td>0.3537</td> \n",
       "</tr>\n",
       "<tr>\n",
       "  <th>Covariance Type:</th>     <td>nonrobust</td>    <th>                     </th>     <td> </td>   \n",
       "</tr>\n",
       "</table>\n",
       "<table class=\"simpletable\">\n",
       "<tr>\n",
       "                         <td></td>                            <th>coef</th>     <th>std err</th>      <th>z</th>      <th>P>|z|</th>  <th>[0.025</th>    <th>0.975]</th>  \n",
       "</tr>\n",
       "<tr>\n",
       "  <th>const</th>                                           <td>   -0.9836</td> <td>    0.107</td> <td>   -9.164</td> <td> 0.000</td> <td>   -1.194</td> <td>   -0.773</td>\n",
       "</tr>\n",
       "<tr>\n",
       "  <th>Total Time Spent on Website</th>                     <td>    1.0113</td> <td>    0.037</td> <td>   27.284</td> <td> 0.000</td> <td>    0.939</td> <td>    1.084</td>\n",
       "</tr>\n",
       "<tr>\n",
       "  <th>Last Activity_SMS Sent</th>                          <td>    1.6414</td> <td>    0.105</td> <td>   15.617</td> <td> 0.000</td> <td>    1.435</td> <td>    1.847</td>\n",
       "</tr>\n",
       "<tr>\n",
       "  <th>TotalVisits</th>                                     <td>    0.1957</td> <td>    0.046</td> <td>    4.240</td> <td> 0.000</td> <td>    0.105</td> <td>    0.286</td>\n",
       "</tr>\n",
       "<tr>\n",
       "  <th>Page Views Per Visit</th>                            <td>   -0.2709</td> <td>    0.051</td> <td>   -5.301</td> <td> 0.000</td> <td>   -0.371</td> <td>   -0.171</td>\n",
       "</tr>\n",
       "<tr>\n",
       "  <th>Last Activity_Olark Chat Conversation</th>           <td>   -0.7258</td> <td>    0.177</td> <td>   -4.092</td> <td> 0.000</td> <td>   -1.073</td> <td>   -0.378</td>\n",
       "</tr>\n",
       "<tr>\n",
       "  <th>Last Notable Activity_Modified</th>                  <td>   -0.7740</td> <td>    0.084</td> <td>   -9.258</td> <td> 0.000</td> <td>   -0.938</td> <td>   -0.610</td>\n",
       "</tr>\n",
       "<tr>\n",
       "  <th>Lead Origin_Landing Page Submission</th>             <td>   -0.5760</td> <td>    0.081</td> <td>   -7.101</td> <td> 0.000</td> <td>   -0.735</td> <td>   -0.417</td>\n",
       "</tr>\n",
       "<tr>\n",
       "  <th>Lead Origin_Lead Add Form</th>                       <td>    3.1480</td> <td>    0.221</td> <td>   14.247</td> <td> 0.000</td> <td>    2.715</td> <td>    3.581</td>\n",
       "</tr>\n",
       "<tr>\n",
       "  <th>Last Activity_Email Opened</th>                      <td>    0.4501</td> <td>    0.103</td> <td>    4.389</td> <td> 0.000</td> <td>    0.249</td> <td>    0.651</td>\n",
       "</tr>\n",
       "<tr>\n",
       "  <th>Current_occupation_imputed_Working Professional</th> <td>    1.2824</td> <td>    0.109</td> <td>   11.784</td> <td> 0.000</td> <td>    1.069</td> <td>    1.496</td>\n",
       "</tr>\n",
       "<tr>\n",
       "  <th>Lead Source_Welingak Website</th>                    <td>    2.2244</td> <td>    1.033</td> <td>    2.154</td> <td> 0.031</td> <td>    0.200</td> <td>    4.248</td>\n",
       "</tr>\n",
       "</table>"
      ],
      "text/plain": [
       "<class 'statsmodels.iolib.summary.Summary'>\n",
       "\"\"\"\n",
       "                 Generalized Linear Model Regression Results                  \n",
       "==============================================================================\n",
       "Dep. Variable:                      y   No. Observations:                 6204\n",
       "Model:                            GLM   Df Residuals:                     6192\n",
       "Model Family:                Binomial   Df Model:                           11\n",
       "Link Function:                  Logit   Scale:                          1.0000\n",
       "Method:                          IRLS   Log-Likelihood:                -2779.5\n",
       "Date:                Sat, 22 Oct 2022   Deviance:                       5558.9\n",
       "Time:                        11:32:16   Pearson chi2:                 6.33e+03\n",
       "No. Iterations:                     7   Pseudo R-squ. (CS):             0.3537\n",
       "Covariance Type:            nonrobust                                         \n",
       "===================================================================================================================\n",
       "                                                      coef    std err          z      P>|z|      [0.025      0.975]\n",
       "-------------------------------------------------------------------------------------------------------------------\n",
       "const                                              -0.9836      0.107     -9.164      0.000      -1.194      -0.773\n",
       "Total Time Spent on Website                         1.0113      0.037     27.284      0.000       0.939       1.084\n",
       "Last Activity_SMS Sent                              1.6414      0.105     15.617      0.000       1.435       1.847\n",
       "TotalVisits                                         0.1957      0.046      4.240      0.000       0.105       0.286\n",
       "Page Views Per Visit                               -0.2709      0.051     -5.301      0.000      -0.371      -0.171\n",
       "Last Activity_Olark Chat Conversation              -0.7258      0.177     -4.092      0.000      -1.073      -0.378\n",
       "Last Notable Activity_Modified                     -0.7740      0.084     -9.258      0.000      -0.938      -0.610\n",
       "Lead Origin_Landing Page Submission                -0.5760      0.081     -7.101      0.000      -0.735      -0.417\n",
       "Lead Origin_Lead Add Form                           3.1480      0.221     14.247      0.000       2.715       3.581\n",
       "Last Activity_Email Opened                          0.4501      0.103      4.389      0.000       0.249       0.651\n",
       "Current_occupation_imputed_Working Professional     1.2824      0.109     11.784      0.000       1.069       1.496\n",
       "Lead Source_Welingak Website                        2.2244      1.033      2.154      0.031       0.200       4.248\n",
       "===================================================================================================================\n",
       "\"\"\""
      ]
     },
     "execution_count": 268,
     "metadata": {},
     "output_type": "execute_result"
    }
   ],
   "source": [
    "X_train_sm_4 = X_train_sm_3.drop('Last Notable Activity_SMS Sent',axis=1)\n",
    "\n",
    "get_summary(X_train_sm_4)"
   ]
  },
  {
   "cell_type": "code",
   "execution_count": 269,
   "id": "7b3ce789",
   "metadata": {},
   "outputs": [
    {
     "data": {
      "text/html": [
       "<div>\n",
       "<style scoped>\n",
       "    .dataframe tbody tr th:only-of-type {\n",
       "        vertical-align: middle;\n",
       "    }\n",
       "\n",
       "    .dataframe tbody tr th {\n",
       "        vertical-align: top;\n",
       "    }\n",
       "\n",
       "    .dataframe thead th {\n",
       "        text-align: right;\n",
       "    }\n",
       "</style>\n",
       "<table border=\"1\" class=\"dataframe\">\n",
       "  <thead>\n",
       "    <tr style=\"text-align: right;\">\n",
       "      <th></th>\n",
       "      <th>Features</th>\n",
       "      <th>VIF</th>\n",
       "    </tr>\n",
       "  </thead>\n",
       "  <tbody>\n",
       "    <tr>\n",
       "      <th>6</th>\n",
       "      <td>Lead Origin_Landing Page Submission</td>\n",
       "      <td>2.56</td>\n",
       "    </tr>\n",
       "    <tr>\n",
       "      <th>3</th>\n",
       "      <td>Page Views Per Visit</td>\n",
       "      <td>2.43</td>\n",
       "    </tr>\n",
       "    <tr>\n",
       "      <th>2</th>\n",
       "      <td>TotalVisits</td>\n",
       "      <td>2.20</td>\n",
       "    </tr>\n",
       "    <tr>\n",
       "      <th>5</th>\n",
       "      <td>Last Notable Activity_Modified</td>\n",
       "      <td>1.61</td>\n",
       "    </tr>\n",
       "    <tr>\n",
       "      <th>7</th>\n",
       "      <td>Lead Origin_Lead Add Form</td>\n",
       "      <td>1.58</td>\n",
       "    </tr>\n",
       "    <tr>\n",
       "      <th>1</th>\n",
       "      <td>Last Activity_SMS Sent</td>\n",
       "      <td>1.55</td>\n",
       "    </tr>\n",
       "    <tr>\n",
       "      <th>8</th>\n",
       "      <td>Last Activity_Email Opened</td>\n",
       "      <td>1.55</td>\n",
       "    </tr>\n",
       "    <tr>\n",
       "      <th>4</th>\n",
       "      <td>Last Activity_Olark Chat Conversation</td>\n",
       "      <td>1.36</td>\n",
       "    </tr>\n",
       "    <tr>\n",
       "      <th>10</th>\n",
       "      <td>Lead Source_Welingak Website</td>\n",
       "      <td>1.28</td>\n",
       "    </tr>\n",
       "    <tr>\n",
       "      <th>0</th>\n",
       "      <td>Total Time Spent on Website</td>\n",
       "      <td>1.24</td>\n",
       "    </tr>\n",
       "    <tr>\n",
       "      <th>9</th>\n",
       "      <td>Current_occupation_imputed_Working Professional</td>\n",
       "      <td>1.16</td>\n",
       "    </tr>\n",
       "  </tbody>\n",
       "</table>\n",
       "</div>"
      ],
      "text/plain": [
       "                                           Features   VIF\n",
       "6               Lead Origin_Landing Page Submission  2.56\n",
       "3                              Page Views Per Visit  2.43\n",
       "2                                       TotalVisits  2.20\n",
       "5                    Last Notable Activity_Modified  1.61\n",
       "7                         Lead Origin_Lead Add Form  1.58\n",
       "1                            Last Activity_SMS Sent  1.55\n",
       "8                        Last Activity_Email Opened  1.55\n",
       "4             Last Activity_Olark Chat Conversation  1.36\n",
       "10                     Lead Source_Welingak Website  1.28\n",
       "0                       Total Time Spent on Website  1.24\n",
       "9   Current_occupation_imputed_Working Professional  1.16"
      ]
     },
     "execution_count": 269,
     "metadata": {},
     "output_type": "execute_result"
    }
   ],
   "source": [
    "check_vif(X_train_sm_4)"
   ]
  },
  {
   "cell_type": "markdown",
   "id": "b27f3110",
   "metadata": {},
   "source": [
    "## <font color ='darkblue'>Model 4: With filtered features"
   ]
  },
  {
   "cell_type": "code",
   "execution_count": 270,
   "id": "ad7e21ad",
   "metadata": {},
   "outputs": [
    {
     "data": {
      "text/plain": [
       "LogisticRegression(solver='saga')"
      ]
     },
     "execution_count": 270,
     "metadata": {},
     "output_type": "execute_result"
    }
   ],
   "source": [
    "reg_2 = LogisticRegression(solver='saga')\n",
    "reg_2.fit(X_train_sm_4,y_train)"
   ]
  },
  {
   "cell_type": "code",
   "execution_count": 271,
   "id": "a558c79b",
   "metadata": {},
   "outputs": [],
   "source": [
    "X_test_4 = X_test_final[X_train_sm_4.columns]"
   ]
  },
  {
   "cell_type": "code",
   "execution_count": 272,
   "id": "86ca55aa",
   "metadata": {},
   "outputs": [
    {
     "data": {
      "text/plain": [
       "(6204, 11)"
      ]
     },
     "execution_count": 272,
     "metadata": {},
     "output_type": "execute_result"
    }
   ],
   "source": [
    "X_train_sm_4.shape"
   ]
  },
  {
   "cell_type": "code",
   "execution_count": 273,
   "id": "5e3ec2f7",
   "metadata": {},
   "outputs": [
    {
     "data": {
      "text/plain": [
       "(2659, 11)"
      ]
     },
     "execution_count": 273,
     "metadata": {},
     "output_type": "execute_result"
    }
   ],
   "source": [
    "X_test_4.shape"
   ]
  },
  {
   "cell_type": "code",
   "execution_count": 274,
   "id": "4b6a8a9c",
   "metadata": {},
   "outputs": [],
   "source": [
    "y_pred_4 = reg_2.predict(X_test_4)\n",
    "y_pred_4_tr = reg_2.predict(X_train_sm_4)"
   ]
  },
  {
   "cell_type": "code",
   "execution_count": 275,
   "id": "b21f3256",
   "metadata": {},
   "outputs": [
    {
     "data": {
      "text/plain": [
       "array([0, 0, 0, 0, 0, 1, 1, 0, 0, 0], dtype=int64)"
      ]
     },
     "execution_count": 275,
     "metadata": {},
     "output_type": "execute_result"
    }
   ],
   "source": [
    "y_pred_4_tr[:10]"
   ]
  },
  {
   "cell_type": "markdown",
   "id": "9dd726cb",
   "metadata": {},
   "source": [
    "## <font color ='green'>Step5: Evaluating final model"
   ]
  },
  {
   "cell_type": "code",
   "execution_count": 276,
   "id": "324086b9",
   "metadata": {},
   "outputs": [
    {
     "name": "stdout",
     "output_type": "stream",
     "text": [
      "Accuracy score of the model: 0.7927792403159082\n",
      "Recall score of the model: 0.6290155440414508\n",
      "Precision of the model: 0.75875\n"
     ]
    }
   ],
   "source": [
    "print('Accuracy score of the model:',accuracy_score(y_test,y_pred_4))\n",
    "print('Recall score of the model:',recall_score(y_test,y_pred_4))\n",
    "print('Precision of the model:',precision_score(y_test,y_pred_4))"
   ]
  },
  {
   "cell_type": "code",
   "execution_count": 277,
   "id": "5587f92d",
   "metadata": {},
   "outputs": [
    {
     "name": "stdout",
     "output_type": "stream",
     "text": [
      "Accuracy score of the train: 0.793036750483559\n",
      "Recall score of the train: 0.643336127409891\n",
      "Precision of the train: 0.779979674796748\n"
     ]
    }
   ],
   "source": [
    "print('Accuracy score of the train:',accuracy_score(y_train,y_pred_4_tr))\n",
    "print('Recall score of the train:',recall_score(y_train,y_pred_4_tr))\n",
    "print('Precision of the train:',precision_score(y_train,y_pred_4_tr))"
   ]
  },
  {
   "cell_type": "code",
   "execution_count": 278,
   "id": "eac266f6",
   "metadata": {},
   "outputs": [
    {
     "name": "stdout",
     "output_type": "stream",
     "text": [
      "cross val score for train set: 0.7911036884926308\n",
      "cross val score for test set: 0.7954058876003568\n"
     ]
    }
   ],
   "source": [
    "print('cross val score for train set:',cross_val_score(reg_2,X_train_sm_4,y_train,cv=5,scoring='accuracy').mean())\n",
    "print('cross val score for test set:',cross_val_score(reg_2,X_test_4,y_test,cv=5,scoring='accuracy').mean())"
   ]
  },
  {
   "cell_type": "markdown",
   "id": "3b62da93",
   "metadata": {},
   "source": [
    "<font color= red>__The accuracy didn't drop. So we can conclude the features used in the final model are the most important features for the model__"
   ]
  },
  {
   "cell_type": "code",
   "execution_count": 279,
   "id": "145222b5",
   "metadata": {},
   "outputs": [
    {
     "data": {
      "text/plain": [
       "array([[3385,  433],\n",
       "       [ 851, 1535]], dtype=int64)"
      ]
     },
     "execution_count": 279,
     "metadata": {},
     "output_type": "execute_result"
    }
   ],
   "source": [
    "# Evaluating the confusion matrix\n",
    "confusion = confusion_matrix(y_train.values.reshape(-1,1), y_pred_4_tr )\n",
    "confusion\n"
   ]
  },
  {
   "cell_type": "code",
   "execution_count": 280,
   "id": "57a41891",
   "metadata": {},
   "outputs": [],
   "source": [
    "# Substituting the value of true positive\n",
    "TP = confusion[1,1]\n",
    "# Substituting the value of true negatives\n",
    "TN = confusion[0,0]\n",
    "# Substituting the value of false positives\n",
    "FP = confusion[0,1] \n",
    "# Substituting the value of false negatives\n",
    "FN = confusion[1,0]"
   ]
  },
  {
   "cell_type": "code",
   "execution_count": 281,
   "id": "1b56dede",
   "metadata": {},
   "outputs": [
    {
     "data": {
      "text/plain": [
       "0.643336127409891"
      ]
     },
     "execution_count": 281,
     "metadata": {},
     "output_type": "execute_result"
    }
   ],
   "source": [
    "# Calculating the sensitivity\n",
    "TP/(TP+FN)"
   ]
  },
  {
   "cell_type": "code",
   "execution_count": 282,
   "id": "3fc210ab",
   "metadata": {},
   "outputs": [
    {
     "data": {
      "text/plain": [
       "0.8865898376113148"
      ]
     },
     "execution_count": 282,
     "metadata": {},
     "output_type": "execute_result"
    }
   ],
   "source": [
    "# Calculating the specificity\n",
    "TN/(TN+FP)"
   ]
  },
  {
   "cell_type": "markdown",
   "id": "044ebdae",
   "metadata": {},
   "source": [
    "<font color= red>___With the current cut off as 0.5 we have around 80% accuracy, sensitivity of around 69% and specificity of around 87%.___</font>"
   ]
  },
  {
   "cell_type": "markdown",
   "id": "e1b01da4",
   "metadata": {},
   "source": [
    "## <font color ='green'>Step6:Getting the optimum value for cut-off \n",
    "\n",
    "<font color= green>__As our main objective is to reduce the number of Fasle Negatives we need to imporove our Recall score by adjusting the cut-off__"
   ]
  },
  {
   "cell_type": "code",
   "execution_count": 283,
   "id": "5002f2b6",
   "metadata": {},
   "outputs": [],
   "source": [
    "X_train_final_sm = sm.add_constant(X_train_sm_4)\n",
    "logm1 = sm.GLM(y_train.values.reshape(-1,1), X_train_final_sm, family = sm.families.Binomial())\n",
    "res = logm1.fit()\n",
    "\n"
   ]
  },
  {
   "cell_type": "code",
   "execution_count": 284,
   "id": "d09d4a8a",
   "metadata": {},
   "outputs": [
    {
     "data": {
      "text/plain": [
       "0    0.357252\n",
       "1    0.355577\n",
       "2    0.056806\n",
       "3    0.299958\n",
       "4    0.196918\n",
       "5    0.795049\n",
       "6    0.953636\n",
       "7    0.110112\n",
       "8    0.382697\n",
       "9    0.090384\n",
       "dtype: float64"
      ]
     },
     "execution_count": 284,
     "metadata": {},
     "output_type": "execute_result"
    }
   ],
   "source": [
    "y_pred_train = res.predict(X_train_final_sm)\n",
    "y_pred_train[:10]"
   ]
  },
  {
   "cell_type": "code",
   "execution_count": 285,
   "id": "69952e71",
   "metadata": {},
   "outputs": [
    {
     "data": {
      "text/plain": [
       "array([0.35725225, 0.35557674, 0.05680629, 0.29995807, 0.19691813,\n",
       "       0.79504859, 0.95363639, 0.11011189, 0.38269718, 0.09038411])"
      ]
     },
     "execution_count": 285,
     "metadata": {},
     "output_type": "execute_result"
    }
   ],
   "source": [
    "# Reshaping to an array\n",
    "y_pred_train = y_pred_train.values.reshape(-1)\n",
    "y_pred_train[:10]"
   ]
  },
  {
   "cell_type": "code",
   "execution_count": 286,
   "id": "7d7cc230",
   "metadata": {},
   "outputs": [
    {
     "data": {
      "text/html": [
       "<div>\n",
       "<style scoped>\n",
       "    .dataframe tbody tr th:only-of-type {\n",
       "        vertical-align: middle;\n",
       "    }\n",
       "\n",
       "    .dataframe tbody tr th {\n",
       "        vertical-align: top;\n",
       "    }\n",
       "\n",
       "    .dataframe thead th {\n",
       "        text-align: right;\n",
       "    }\n",
       "</style>\n",
       "<table border=\"1\" class=\"dataframe\">\n",
       "  <thead>\n",
       "    <tr style=\"text-align: right;\">\n",
       "      <th></th>\n",
       "      <th>Converted</th>\n",
       "      <th>pred_prob</th>\n",
       "    </tr>\n",
       "  </thead>\n",
       "  <tbody>\n",
       "    <tr>\n",
       "      <th>0</th>\n",
       "      <td>1</td>\n",
       "      <td>0.357252</td>\n",
       "    </tr>\n",
       "    <tr>\n",
       "      <th>1</th>\n",
       "      <td>0</td>\n",
       "      <td>0.355577</td>\n",
       "    </tr>\n",
       "    <tr>\n",
       "      <th>2</th>\n",
       "      <td>0</td>\n",
       "      <td>0.056806</td>\n",
       "    </tr>\n",
       "    <tr>\n",
       "      <th>3</th>\n",
       "      <td>0</td>\n",
       "      <td>0.299958</td>\n",
       "    </tr>\n",
       "    <tr>\n",
       "      <th>4</th>\n",
       "      <td>0</td>\n",
       "      <td>0.196918</td>\n",
       "    </tr>\n",
       "  </tbody>\n",
       "</table>\n",
       "</div>"
      ],
      "text/plain": [
       "   Converted  pred_prob\n",
       "0          1   0.357252\n",
       "1          0   0.355577\n",
       "2          0   0.056806\n",
       "3          0   0.299958\n",
       "4          0   0.196918"
      ]
     },
     "execution_count": 286,
     "metadata": {},
     "output_type": "execute_result"
    }
   ],
   "source": [
    "# Data frame with predictions\n",
    "y_pred_train_final = pd.DataFrame({'Converted':y_train.values, 'pred_prob':y_pred_train})\n",
    "y_pred_train_final.head()"
   ]
  },
  {
   "cell_type": "code",
   "execution_count": 287,
   "id": "84c791e6",
   "metadata": {},
   "outputs": [
    {
     "data": {
      "text/html": [
       "<div>\n",
       "<style scoped>\n",
       "    .dataframe tbody tr th:only-of-type {\n",
       "        vertical-align: middle;\n",
       "    }\n",
       "\n",
       "    .dataframe tbody tr th {\n",
       "        vertical-align: top;\n",
       "    }\n",
       "\n",
       "    .dataframe thead th {\n",
       "        text-align: right;\n",
       "    }\n",
       "</style>\n",
       "<table border=\"1\" class=\"dataframe\">\n",
       "  <thead>\n",
       "    <tr style=\"text-align: right;\">\n",
       "      <th></th>\n",
       "      <th>Converted</th>\n",
       "      <th>pred_prob</th>\n",
       "      <th>Predicted</th>\n",
       "    </tr>\n",
       "  </thead>\n",
       "  <tbody>\n",
       "    <tr>\n",
       "      <th>4420</th>\n",
       "      <td>1</td>\n",
       "      <td>0.135263</td>\n",
       "      <td>0</td>\n",
       "    </tr>\n",
       "    <tr>\n",
       "      <th>347</th>\n",
       "      <td>0</td>\n",
       "      <td>0.036773</td>\n",
       "      <td>0</td>\n",
       "    </tr>\n",
       "    <tr>\n",
       "      <th>4780</th>\n",
       "      <td>0</td>\n",
       "      <td>0.079180</td>\n",
       "      <td>0</td>\n",
       "    </tr>\n",
       "    <tr>\n",
       "      <th>2820</th>\n",
       "      <td>0</td>\n",
       "      <td>0.699334</td>\n",
       "      <td>1</td>\n",
       "    </tr>\n",
       "    <tr>\n",
       "      <th>4152</th>\n",
       "      <td>0</td>\n",
       "      <td>0.073120</td>\n",
       "      <td>0</td>\n",
       "    </tr>\n",
       "  </tbody>\n",
       "</table>\n",
       "</div>"
      ],
      "text/plain": [
       "      Converted  pred_prob  Predicted\n",
       "4420          1   0.135263          0\n",
       "347           0   0.036773          0\n",
       "4780          0   0.079180          0\n",
       "2820          0   0.699334          1\n",
       "4152          0   0.073120          0"
      ]
     },
     "execution_count": 287,
     "metadata": {},
     "output_type": "execute_result"
    }
   ],
   "source": [
    "# converting the predicted probabiliest to binary values\n",
    "y_pred_train_final['Predicted'] = y_pred_train_final['pred_prob'].map(lambda x: 1 if x > 0.5 else 0)\n",
    "y_pred_train_final.sample(5)"
   ]
  },
  {
   "cell_type": "markdown",
   "id": "539c0d02",
   "metadata": {},
   "source": [
    "### Optimise Cut off (ROC Curve)"
   ]
  },
  {
   "cell_type": "code",
   "execution_count": 288,
   "id": "fb2a46fd",
   "metadata": {},
   "outputs": [],
   "source": [
    "# ROC function\n",
    "def draw_curve( act, prb ):\n",
    "    fpr, tpr, thresholds = roc_curve( act, prb,\n",
    "                                              drop_intermediate = False )\n",
    "    auc_score = roc_auc_score( act, prb )\n",
    "    plt.figure(figsize=(5, 5))\n",
    "    plt.plot( fpr, tpr, label='ROC curve (area = %0.2f)' % auc_score )\n",
    "    plt.plot([0, 1], [0, 1], 'k--')\n",
    "    plt.xlim([0.0, 1.0])\n",
    "    plt.ylim([0.0, 1.05])\n",
    "    plt.xlabel('False Positive Rate or [1 - True Negative Rate]')\n",
    "    plt.ylabel('True Positive Rate')\n",
    "    plt.title('Receiver operating characteristic example')\n",
    "    plt.legend(loc=\"lower right\")\n",
    "    plt.show()\n",
    "\n",
    "    return None"
   ]
  },
  {
   "cell_type": "code",
   "execution_count": 289,
   "id": "0ae04351",
   "metadata": {},
   "outputs": [],
   "source": [
    "fpr, tpr, thresholds = roc_curve( y_pred_train_final['Converted'],y_pred_train_final['pred_prob'],drop_intermediate = False )"
   ]
  },
  {
   "cell_type": "code",
   "execution_count": 290,
   "id": "aa5e3632",
   "metadata": {},
   "outputs": [
    {
     "data": {
      "image/png": "[encoded data removed]",
      "text/plain": [
       "<Figure size 360x360 with 1 Axes>"
      ]
     },
     "metadata": {
      "needs_background": "light"
     },
     "output_type": "display_data"
    }
   ],
   "source": [
    "draw_curve(y_pred_train_final['Converted'],y_pred_train_final['pred_prob'])"
   ]
  },
  {
   "cell_type": "markdown",
   "id": "e2001be0",
   "metadata": {},
   "source": [
    "<font color = 'red'>__Area under ROC is 0.86. Which can be considered as a good values__"
   ]
  },
  {
   "cell_type": "markdown",
   "id": "affd6fa6",
   "metadata": {},
   "source": [
    "We need to find an optimum values to meet the Sensitivity and specificity Trade-off. To do so we shall create a a data frame with different cutt-off point and plot the ROC curve."
   ]
  },
  {
   "cell_type": "code",
   "execution_count": 291,
   "id": "933e3948",
   "metadata": {},
   "outputs": [
    {
     "data": {
      "text/plain": [
       "[0.1, 0.2, 0.3, 0.4, 0.5, 0.6, 0.7, 0.8, 0.9]"
      ]
     },
     "execution_count": 291,
     "metadata": {},
     "output_type": "execute_result"
    }
   ],
   "source": [
    "# Creating data frame with different cut-off points.\n",
    "\n",
    "cut_off = [float(x/10) for x in range(1,10)]\n",
    "cut_off"
   ]
  },
  {
   "cell_type": "code",
   "execution_count": 292,
   "id": "977942e1",
   "metadata": {},
   "outputs": [],
   "source": [
    "for i in cut_off:\n",
    "    y_pred_train_final[i] = y_pred_train_final['pred_prob'].map(lambda x:1 if x>i else 0)"
   ]
  },
  {
   "cell_type": "code",
   "execution_count": 293,
   "id": "dc534151",
   "metadata": {},
   "outputs": [
    {
     "data": {
      "text/html": [
       "<div>\n",
       "<style scoped>\n",
       "    .dataframe tbody tr th:only-of-type {\n",
       "        vertical-align: middle;\n",
       "    }\n",
       "\n",
       "    .dataframe tbody tr th {\n",
       "        vertical-align: top;\n",
       "    }\n",
       "\n",
       "    .dataframe thead th {\n",
       "        text-align: right;\n",
       "    }\n",
       "</style>\n",
       "<table border=\"1\" class=\"dataframe\">\n",
       "  <thead>\n",
       "    <tr style=\"text-align: right;\">\n",
       "      <th></th>\n",
       "      <th>Converted</th>\n",
       "      <th>pred_prob</th>\n",
       "      <th>Predicted</th>\n",
       "      <th>0.1</th>\n",
       "      <th>0.2</th>\n",
       "      <th>0.3</th>\n",
       "      <th>0.4</th>\n",
       "      <th>0.5</th>\n",
       "      <th>0.6</th>\n",
       "      <th>0.7</th>\n",
       "      <th>0.8</th>\n",
       "      <th>0.9</th>\n",
       "    </tr>\n",
       "  </thead>\n",
       "  <tbody>\n",
       "    <tr>\n",
       "      <th>0</th>\n",
       "      <td>1</td>\n",
       "      <td>0.357252</td>\n",
       "      <td>0</td>\n",
       "      <td>1</td>\n",
       "      <td>1</td>\n",
       "      <td>1</td>\n",
       "      <td>0</td>\n",
       "      <td>0</td>\n",
       "      <td>0</td>\n",
       "      <td>0</td>\n",
       "      <td>0</td>\n",
       "      <td>0</td>\n",
       "    </tr>\n",
       "    <tr>\n",
       "      <th>1</th>\n",
       "      <td>0</td>\n",
       "      <td>0.355577</td>\n",
       "      <td>0</td>\n",
       "      <td>1</td>\n",
       "      <td>1</td>\n",
       "      <td>1</td>\n",
       "      <td>0</td>\n",
       "      <td>0</td>\n",
       "      <td>0</td>\n",
       "      <td>0</td>\n",
       "      <td>0</td>\n",
       "      <td>0</td>\n",
       "    </tr>\n",
       "    <tr>\n",
       "      <th>2</th>\n",
       "      <td>0</td>\n",
       "      <td>0.056806</td>\n",
       "      <td>0</td>\n",
       "      <td>0</td>\n",
       "      <td>0</td>\n",
       "      <td>0</td>\n",
       "      <td>0</td>\n",
       "      <td>0</td>\n",
       "      <td>0</td>\n",
       "      <td>0</td>\n",
       "      <td>0</td>\n",
       "      <td>0</td>\n",
       "    </tr>\n",
       "    <tr>\n",
       "      <th>3</th>\n",
       "      <td>0</td>\n",
       "      <td>0.299958</td>\n",
       "      <td>0</td>\n",
       "      <td>1</td>\n",
       "      <td>1</td>\n",
       "      <td>0</td>\n",
       "      <td>0</td>\n",
       "      <td>0</td>\n",
       "      <td>0</td>\n",
       "      <td>0</td>\n",
       "      <td>0</td>\n",
       "      <td>0</td>\n",
       "    </tr>\n",
       "    <tr>\n",
       "      <th>4</th>\n",
       "      <td>0</td>\n",
       "      <td>0.196918</td>\n",
       "      <td>0</td>\n",
       "      <td>1</td>\n",
       "      <td>0</td>\n",
       "      <td>0</td>\n",
       "      <td>0</td>\n",
       "      <td>0</td>\n",
       "      <td>0</td>\n",
       "      <td>0</td>\n",
       "      <td>0</td>\n",
       "      <td>0</td>\n",
       "    </tr>\n",
       "  </tbody>\n",
       "</table>\n",
       "</div>"
      ],
      "text/plain": [
       "   Converted  pred_prob  Predicted  0.1  0.2  0.3  0.4  0.5  0.6  0.7  0.8  \\\n",
       "0          1   0.357252          0    1    1    1    0    0    0    0    0   \n",
       "1          0   0.355577          0    1    1    1    0    0    0    0    0   \n",
       "2          0   0.056806          0    0    0    0    0    0    0    0    0   \n",
       "3          0   0.299958          0    1    1    0    0    0    0    0    0   \n",
       "4          0   0.196918          0    1    0    0    0    0    0    0    0   \n",
       "\n",
       "   0.9  \n",
       "0    0  \n",
       "1    0  \n",
       "2    0  \n",
       "3    0  \n",
       "4    0  "
      ]
     },
     "execution_count": 293,
     "metadata": {},
     "output_type": "execute_result"
    }
   ],
   "source": [
    "y_pred_train_final.head()"
   ]
  },
  {
   "cell_type": "code",
   "execution_count": 294,
   "id": "812784fe",
   "metadata": {},
   "outputs": [
    {
     "data": {
      "text/html": [
       "<div>\n",
       "<style scoped>\n",
       "    .dataframe tbody tr th:only-of-type {\n",
       "        vertical-align: middle;\n",
       "    }\n",
       "\n",
       "    .dataframe tbody tr th {\n",
       "        vertical-align: top;\n",
       "    }\n",
       "\n",
       "    .dataframe thead th {\n",
       "        text-align: right;\n",
       "    }\n",
       "</style>\n",
       "<table border=\"1\" class=\"dataframe\">\n",
       "  <thead>\n",
       "    <tr style=\"text-align: right;\">\n",
       "      <th></th>\n",
       "      <th>prob</th>\n",
       "      <th>accuracy</th>\n",
       "      <th>sensi</th>\n",
       "      <th>speci</th>\n",
       "    </tr>\n",
       "  </thead>\n",
       "  <tbody>\n",
       "    <tr>\n",
       "      <th>0.1</th>\n",
       "      <td>0.1</td>\n",
       "      <td>0.561251</td>\n",
       "      <td>0.968567</td>\n",
       "      <td>0.306705</td>\n",
       "    </tr>\n",
       "    <tr>\n",
       "      <th>0.2</th>\n",
       "      <td>0.2</td>\n",
       "      <td>0.695358</td>\n",
       "      <td>0.918692</td>\n",
       "      <td>0.555788</td>\n",
       "    </tr>\n",
       "    <tr>\n",
       "      <th>0.3</th>\n",
       "      <td>0.3</td>\n",
       "      <td>0.775790</td>\n",
       "      <td>0.834032</td>\n",
       "      <td>0.739392</td>\n",
       "    </tr>\n",
       "    <tr>\n",
       "      <th>0.4</th>\n",
       "      <td>0.4</td>\n",
       "      <td>0.799645</td>\n",
       "      <td>0.767812</td>\n",
       "      <td>0.819539</td>\n",
       "    </tr>\n",
       "    <tr>\n",
       "      <th>0.5</th>\n",
       "      <td>0.5</td>\n",
       "      <td>0.793037</td>\n",
       "      <td>0.643336</td>\n",
       "      <td>0.886590</td>\n",
       "    </tr>\n",
       "    <tr>\n",
       "      <th>0.6</th>\n",
       "      <td>0.6</td>\n",
       "      <td>0.780948</td>\n",
       "      <td>0.564124</td>\n",
       "      <td>0.916448</td>\n",
       "    </tr>\n",
       "    <tr>\n",
       "      <th>0.7</th>\n",
       "      <td>0.7</td>\n",
       "      <td>0.765313</td>\n",
       "      <td>0.476530</td>\n",
       "      <td>0.945783</td>\n",
       "    </tr>\n",
       "    <tr>\n",
       "      <th>0.8</th>\n",
       "      <td>0.8</td>\n",
       "      <td>0.732914</td>\n",
       "      <td>0.351215</td>\n",
       "      <td>0.971451</td>\n",
       "    </tr>\n",
       "    <tr>\n",
       "      <th>0.9</th>\n",
       "      <td>0.9</td>\n",
       "      <td>0.687137</td>\n",
       "      <td>0.201593</td>\n",
       "      <td>0.990571</td>\n",
       "    </tr>\n",
       "  </tbody>\n",
       "</table>\n",
       "</div>"
      ],
      "text/plain": [
       "     prob  accuracy     sensi     speci\n",
       "0.1   0.1  0.561251  0.968567  0.306705\n",
       "0.2   0.2  0.695358  0.918692  0.555788\n",
       "0.3   0.3  0.775790  0.834032  0.739392\n",
       "0.4   0.4  0.799645  0.767812  0.819539\n",
       "0.5   0.5  0.793037  0.643336  0.886590\n",
       "0.6   0.6  0.780948  0.564124  0.916448\n",
       "0.7   0.7  0.765313  0.476530  0.945783\n",
       "0.8   0.8  0.732914  0.351215  0.971451\n",
       "0.9   0.9  0.687137  0.201593  0.990571"
      ]
     },
     "execution_count": 294,
     "metadata": {},
     "output_type": "execute_result"
    }
   ],
   "source": [
    "# checking the accuracy,sensitivity, specificity for each cutt-off\n",
    "# Creating a dataframe to see the values of accuracy, sensitivity, and specificity at different values of probabiity cutoffs\n",
    "eval_df = pd.DataFrame( columns = ['prob','accuracy','sensi','speci'])\n",
    "\n",
    "for i in cut_off:\n",
    "    cm1 = confusion_matrix(y_pred_train_final['Converted'], y_pred_train_final[i] )\n",
    "    total1=sum(sum(cm1))\n",
    "    accuracy = (cm1[0,0]+cm1[1,1])/total1\n",
    "    \n",
    "    speci = cm1[0,0]/(cm1[0,0]+cm1[0,1])\n",
    "    sensi = cm1[1,1]/(cm1[1,0]+cm1[1,1])\n",
    "    eval_df.loc[i] =[ i ,accuracy,sensi,speci]\n",
    "eval_df"
   ]
  },
  {
   "cell_type": "code",
   "execution_count": 295,
   "id": "bef987eb",
   "metadata": {},
   "outputs": [
    {
     "data": {
      "text/plain": [
       "<Figure size 2000x1600 with 0 Axes>"
      ]
     },
     "metadata": {},
     "output_type": "display_data"
    },
    {
     "data": {
      "image/png": "[encoded data removed]",
      "text/plain": [
       "<Figure size 432x288 with 1 Axes>"
      ]
     },
     "metadata": {
      "needs_background": "light"
     },
     "output_type": "display_data"
    }
   ],
   "source": [
    "# plotting the values\n",
    "plt.figure(figsize=(10,8),dpi=200)\n",
    "eval_df.plot(x='prob',y=['accuracy','sensi','speci'],grid=True)\n",
    "plt.show()"
   ]
  },
  {
   "cell_type": "markdown",
   "id": "1e44be01",
   "metadata": {},
   "source": [
    "<font color= red>___From the graph it is visible that the optimal cut off is at 0.37.___</font>"
   ]
  },
  {
   "cell_type": "code",
   "execution_count": 296,
   "id": "8b53f46e",
   "metadata": {},
   "outputs": [
    {
     "data": {
      "text/html": [
       "<div>\n",
       "<style scoped>\n",
       "    .dataframe tbody tr th:only-of-type {\n",
       "        vertical-align: middle;\n",
       "    }\n",
       "\n",
       "    .dataframe tbody tr th {\n",
       "        vertical-align: top;\n",
       "    }\n",
       "\n",
       "    .dataframe thead th {\n",
       "        text-align: right;\n",
       "    }\n",
       "</style>\n",
       "<table border=\"1\" class=\"dataframe\">\n",
       "  <thead>\n",
       "    <tr style=\"text-align: right;\">\n",
       "      <th></th>\n",
       "      <th>Converted</th>\n",
       "      <th>pred_prob</th>\n",
       "      <th>Predicted</th>\n",
       "      <th>0.1</th>\n",
       "      <th>0.2</th>\n",
       "      <th>0.3</th>\n",
       "      <th>0.4</th>\n",
       "      <th>0.5</th>\n",
       "      <th>0.6</th>\n",
       "      <th>0.7</th>\n",
       "      <th>0.8</th>\n",
       "      <th>0.9</th>\n",
       "      <th>final_prediction</th>\n",
       "    </tr>\n",
       "  </thead>\n",
       "  <tbody>\n",
       "    <tr>\n",
       "      <th>5422</th>\n",
       "      <td>0</td>\n",
       "      <td>0.036773</td>\n",
       "      <td>0</td>\n",
       "      <td>0</td>\n",
       "      <td>0</td>\n",
       "      <td>0</td>\n",
       "      <td>0</td>\n",
       "      <td>0</td>\n",
       "      <td>0</td>\n",
       "      <td>0</td>\n",
       "      <td>0</td>\n",
       "      <td>0</td>\n",
       "      <td>0</td>\n",
       "    </tr>\n",
       "    <tr>\n",
       "      <th>2951</th>\n",
       "      <td>0</td>\n",
       "      <td>0.405004</td>\n",
       "      <td>0</td>\n",
       "      <td>1</td>\n",
       "      <td>1</td>\n",
       "      <td>1</td>\n",
       "      <td>1</td>\n",
       "      <td>0</td>\n",
       "      <td>0</td>\n",
       "      <td>0</td>\n",
       "      <td>0</td>\n",
       "      <td>0</td>\n",
       "      <td>1</td>\n",
       "    </tr>\n",
       "    <tr>\n",
       "      <th>3738</th>\n",
       "      <td>0</td>\n",
       "      <td>0.289405</td>\n",
       "      <td>0</td>\n",
       "      <td>1</td>\n",
       "      <td>1</td>\n",
       "      <td>0</td>\n",
       "      <td>0</td>\n",
       "      <td>0</td>\n",
       "      <td>0</td>\n",
       "      <td>0</td>\n",
       "      <td>0</td>\n",
       "      <td>0</td>\n",
       "      <td>0</td>\n",
       "    </tr>\n",
       "    <tr>\n",
       "      <th>116</th>\n",
       "      <td>0</td>\n",
       "      <td>0.690778</td>\n",
       "      <td>1</td>\n",
       "      <td>1</td>\n",
       "      <td>1</td>\n",
       "      <td>1</td>\n",
       "      <td>1</td>\n",
       "      <td>1</td>\n",
       "      <td>1</td>\n",
       "      <td>0</td>\n",
       "      <td>0</td>\n",
       "      <td>0</td>\n",
       "      <td>1</td>\n",
       "    </tr>\n",
       "    <tr>\n",
       "      <th>422</th>\n",
       "      <td>1</td>\n",
       "      <td>0.923409</td>\n",
       "      <td>1</td>\n",
       "      <td>1</td>\n",
       "      <td>1</td>\n",
       "      <td>1</td>\n",
       "      <td>1</td>\n",
       "      <td>1</td>\n",
       "      <td>1</td>\n",
       "      <td>1</td>\n",
       "      <td>1</td>\n",
       "      <td>1</td>\n",
       "      <td>1</td>\n",
       "    </tr>\n",
       "  </tbody>\n",
       "</table>\n",
       "</div>"
      ],
      "text/plain": [
       "      Converted  pred_prob  Predicted  0.1  0.2  0.3  0.4  0.5  0.6  0.7  0.8  \\\n",
       "5422          0   0.036773          0    0    0    0    0    0    0    0    0   \n",
       "2951          0   0.405004          0    1    1    1    1    0    0    0    0   \n",
       "3738          0   0.289405          0    1    1    0    0    0    0    0    0   \n",
       "116           0   0.690778          1    1    1    1    1    1    1    0    0   \n",
       "422           1   0.923409          1    1    1    1    1    1    1    1    1   \n",
       "\n",
       "      0.9  final_prediction  \n",
       "5422    0                 0  \n",
       "2951    0                 1  \n",
       "3738    0                 0  \n",
       "116     0                 1  \n",
       "422     1                 1  "
      ]
     },
     "execution_count": 296,
     "metadata": {},
     "output_type": "execute_result"
    }
   ],
   "source": [
    "y_pred_train_final['final_prediction'] = y_pred_train_final.pred_prob.map( lambda x: 1 if x > 0.37 else 0)\n",
    "y_pred_train_final.sample(5)"
   ]
  },
  {
   "cell_type": "code",
   "execution_count": 297,
   "id": "50868f78",
   "metadata": {},
   "outputs": [
    {
     "data": {
      "text/plain": [
       "0.7936814958091554"
      ]
     },
     "execution_count": 297,
     "metadata": {},
     "output_type": "execute_result"
    }
   ],
   "source": [
    "# checking the accurancy\n",
    "accuracy_score(y_train,y_pred_train_final['final_prediction'])"
   ]
  },
  {
   "cell_type": "code",
   "execution_count": 298,
   "id": "34418ce2",
   "metadata": {},
   "outputs": [
    {
     "data": {
      "text/plain": [
       "array([[3045,  773],\n",
       "       [ 507, 1879]], dtype=int64)"
      ]
     },
     "execution_count": 298,
     "metadata": {},
     "output_type": "execute_result"
    }
   ],
   "source": [
    "cm2 = confusion_matrix(y_train,y_pred_train_final['final_prediction'])\n",
    "cm2"
   ]
  },
  {
   "cell_type": "code",
   "execution_count": 299,
   "id": "6cfa53a2",
   "metadata": {},
   "outputs": [],
   "source": [
    "# Substituting the value of true positive\n",
    "TP = cm2[1,1]\n",
    "# Substituting the value of true negatives\n",
    "TN = cm2[0,0]\n",
    "# Substituting the value of false positives\n",
    "FP = cm2[0,1] \n",
    "# Substituting the value of false negatives\n",
    "FN = cm2[1,0]"
   ]
  },
  {
   "cell_type": "code",
   "execution_count": 300,
   "id": "67dbae04",
   "metadata": {},
   "outputs": [
    {
     "data": {
      "text/plain": [
       "0.7875104777870914"
      ]
     },
     "execution_count": 300,
     "metadata": {},
     "output_type": "execute_result"
    }
   ],
   "source": [
    "# Calculating the sensitivity\n",
    "TP/(TP+FN)"
   ]
  },
  {
   "cell_type": "code",
   "execution_count": 301,
   "id": "d14342be",
   "metadata": {},
   "outputs": [
    {
     "data": {
      "text/plain": [
       "0.7975379779989523"
      ]
     },
     "execution_count": 301,
     "metadata": {},
     "output_type": "execute_result"
    }
   ],
   "source": [
    "# Calculating the specificity\n",
    "TN/(TN+FP)"
   ]
  },
  {
   "cell_type": "code",
   "execution_count": 302,
   "id": "ac1f67fa",
   "metadata": {},
   "outputs": [
    {
     "data": {
      "text/plain": [
       "0.7085218702865762"
      ]
     },
     "execution_count": 302,
     "metadata": {},
     "output_type": "execute_result"
    }
   ],
   "source": [
    "precision_score(y_train,y_pred_train_final['final_prediction'])"
   ]
  },
  {
   "cell_type": "code",
   "execution_count": 303,
   "id": "b79b8a70",
   "metadata": {},
   "outputs": [
    {
     "data": {
      "text/plain": [
       "0.7875104777870914"
      ]
     },
     "execution_count": 303,
     "metadata": {},
     "output_type": "execute_result"
    }
   ],
   "source": [
    "recall_score(y_train,y_pred_train_final['final_prediction'])"
   ]
  },
  {
   "cell_type": "markdown",
   "id": "3f0672cd",
   "metadata": {},
   "source": [
    "<font color= red>___With the current cut off as 0.37 we have accuracy, sensitivity and specificity of around 80%.___</font>"
   ]
  },
  {
   "cell_type": "markdown",
   "id": "da40da7c",
   "metadata": {},
   "source": [
    "## <font color ='green'> Step7: Evaluting the model on test set"
   ]
  },
  {
   "cell_type": "code",
   "execution_count": 304,
   "id": "7ce2f13e",
   "metadata": {},
   "outputs": [],
   "source": [
    "# trimming the data as per train set\n",
    "X_test_final_sm = X_test_final[X_train_sm_4.columns]"
   ]
  },
  {
   "cell_type": "code",
   "execution_count": 305,
   "id": "6b34ee10",
   "metadata": {},
   "outputs": [
    {
     "data": {
      "text/plain": [
       "(2659, 11)"
      ]
     },
     "execution_count": 305,
     "metadata": {},
     "output_type": "execute_result"
    }
   ],
   "source": [
    "X_test_final_sm.shape"
   ]
  },
  {
   "cell_type": "code",
   "execution_count": 306,
   "id": "cc68e3ea",
   "metadata": {},
   "outputs": [],
   "source": [
    "# predicitng on test set\n",
    "y_pred_test = res.predict(sm.add_constant(X_test_final_sm))"
   ]
  },
  {
   "cell_type": "code",
   "execution_count": 307,
   "id": "8d8d2d59",
   "metadata": {},
   "outputs": [
    {
     "data": {
      "text/html": [
       "<div>\n",
       "<style scoped>\n",
       "    .dataframe tbody tr th:only-of-type {\n",
       "        vertical-align: middle;\n",
       "    }\n",
       "\n",
       "    .dataframe tbody tr th {\n",
       "        vertical-align: top;\n",
       "    }\n",
       "\n",
       "    .dataframe thead th {\n",
       "        text-align: right;\n",
       "    }\n",
       "</style>\n",
       "<table border=\"1\" class=\"dataframe\">\n",
       "  <thead>\n",
       "    <tr style=\"text-align: right;\">\n",
       "      <th></th>\n",
       "      <th>Converted</th>\n",
       "      <th>pred_prob</th>\n",
       "    </tr>\n",
       "  </thead>\n",
       "  <tbody>\n",
       "    <tr>\n",
       "      <th>104</th>\n",
       "      <td>1</td>\n",
       "      <td>0.655674</td>\n",
       "    </tr>\n",
       "    <tr>\n",
       "      <th>2247</th>\n",
       "      <td>1</td>\n",
       "      <td>0.982990</td>\n",
       "    </tr>\n",
       "    <tr>\n",
       "      <th>743</th>\n",
       "      <td>0</td>\n",
       "      <td>0.211555</td>\n",
       "    </tr>\n",
       "    <tr>\n",
       "      <th>796</th>\n",
       "      <td>0</td>\n",
       "      <td>0.155781</td>\n",
       "    </tr>\n",
       "    <tr>\n",
       "      <th>2351</th>\n",
       "      <td>1</td>\n",
       "      <td>0.853034</td>\n",
       "    </tr>\n",
       "  </tbody>\n",
       "</table>\n",
       "</div>"
      ],
      "text/plain": [
       "      Converted  pred_prob\n",
       "104           1   0.655674\n",
       "2247          1   0.982990\n",
       "743           0   0.211555\n",
       "796           0   0.155781\n",
       "2351          1   0.853034"
      ]
     },
     "execution_count": 307,
     "metadata": {},
     "output_type": "execute_result"
    }
   ],
   "source": [
    "# Creating dataframe\n",
    "y_pred_test_final = pd.DataFrame({'Converted':y_test.values, 'pred_prob':y_pred_test})\n",
    "y_pred_test_final.sample(5)"
   ]
  },
  {
   "cell_type": "code",
   "execution_count": 308,
   "id": "4b7df194",
   "metadata": {},
   "outputs": [
    {
     "data": {
      "text/html": [
       "<div>\n",
       "<style scoped>\n",
       "    .dataframe tbody tr th:only-of-type {\n",
       "        vertical-align: middle;\n",
       "    }\n",
       "\n",
       "    .dataframe tbody tr th {\n",
       "        vertical-align: top;\n",
       "    }\n",
       "\n",
       "    .dataframe thead th {\n",
       "        text-align: right;\n",
       "    }\n",
       "</style>\n",
       "<table border=\"1\" class=\"dataframe\">\n",
       "  <thead>\n",
       "    <tr style=\"text-align: right;\">\n",
       "      <th></th>\n",
       "      <th>Converted</th>\n",
       "      <th>pred_prob</th>\n",
       "      <th>final_prediction</th>\n",
       "    </tr>\n",
       "  </thead>\n",
       "  <tbody>\n",
       "    <tr>\n",
       "      <th>850</th>\n",
       "      <td>1</td>\n",
       "      <td>0.717104</td>\n",
       "      <td>1</td>\n",
       "    </tr>\n",
       "    <tr>\n",
       "      <th>1810</th>\n",
       "      <td>1</td>\n",
       "      <td>0.764725</td>\n",
       "      <td>1</td>\n",
       "    </tr>\n",
       "    <tr>\n",
       "      <th>1314</th>\n",
       "      <td>0</td>\n",
       "      <td>0.104011</td>\n",
       "      <td>0</td>\n",
       "    </tr>\n",
       "    <tr>\n",
       "      <th>16</th>\n",
       "      <td>1</td>\n",
       "      <td>0.887435</td>\n",
       "      <td>1</td>\n",
       "    </tr>\n",
       "    <tr>\n",
       "      <th>461</th>\n",
       "      <td>1</td>\n",
       "      <td>0.560319</td>\n",
       "      <td>1</td>\n",
       "    </tr>\n",
       "  </tbody>\n",
       "</table>\n",
       "</div>"
      ],
      "text/plain": [
       "      Converted  pred_prob  final_prediction\n",
       "850           1   0.717104                 1\n",
       "1810          1   0.764725                 1\n",
       "1314          0   0.104011                 0\n",
       "16            1   0.887435                 1\n",
       "461           1   0.560319                 1"
      ]
     },
     "execution_count": 308,
     "metadata": {},
     "output_type": "execute_result"
    }
   ],
   "source": [
    "y_pred_test_final['final_prediction'] = y_pred_test_final['pred_prob'].map(lambda x: 1 if x > 0.40 else 0)\n",
    "y_pred_test_final.sample(5)"
   ]
  },
  {
   "cell_type": "code",
   "execution_count": 309,
   "id": "219dab42",
   "metadata": {},
   "outputs": [
    {
     "data": {
      "text/plain": [
       "0.7980443775855585"
      ]
     },
     "execution_count": 309,
     "metadata": {},
     "output_type": "execute_result"
    }
   ],
   "source": [
    "# checking the accuracy of the model\n",
    "accuracy_score(y_test,y_pred_test_final['final_prediction'])"
   ]
  },
  {
   "cell_type": "code",
   "execution_count": 310,
   "id": "d94d20fe",
   "metadata": {},
   "outputs": [
    {
     "data": {
      "text/plain": [
       "0.7061657032755299"
      ]
     },
     "execution_count": 310,
     "metadata": {},
     "output_type": "execute_result"
    }
   ],
   "source": [
    "# precision score\n",
    "precision_score(y_pred_test_final['Converted'], y_pred_test_final.final_prediction)"
   ]
  },
  {
   "cell_type": "code",
   "execution_count": 311,
   "id": "92812b5f",
   "metadata": {},
   "outputs": [
    {
     "data": {
      "text/plain": [
       "0.7595854922279792"
      ]
     },
     "execution_count": 311,
     "metadata": {},
     "output_type": "execute_result"
    }
   ],
   "source": [
    "# recall score\n",
    "recall_score(y_pred_test_final['Converted'], y_pred_test_final.final_prediction)"
   ]
  },
  {
   "cell_type": "markdown",
   "id": "b3c82134",
   "metadata": {},
   "source": [
    "### <font color='red'> __With cut-off 0.41 we have accuracy of around 80%, precision 70% and recall 75%. As we can see we improved the recall score from first model. We can finalize this model.__"
   ]
  },
  {
   "cell_type": "markdown",
   "id": "96f406e8",
   "metadata": {},
   "source": [
    "## <font color ='green'> Step8: Conclusions\n",
    "    \n",
    "    1. The company can set their Lead score cut-off at 41 i.e, any lead above 41 score can be considered potential and below it can be neglected.\n",
    "    2. The following are the features which matter the most to predict the potential customers:\n",
    "        1.Total Time Spent on Website\n",
    "        2.  Last Activity\n",
    "            a.SMS Sent\n",
    "            b.Olark chat\n",
    "            c.Modified\n",
    "        3. Total Visits\n",
    "        4. Lead Origin\n",
    "            a.Landing page\n",
    "            b.Lead add form\n",
    "        5. Page Views per visit\n",
    "        6. Lead Source\n",
    "            a.Welinggak Website\n",
    "            b.Google\n",
    "        7. Current occupation\n",
    "            a. Working professionals\n",
    "      The company should focus on these features to increase more potential leads. As per our EDA, the company can improve its performance in some of the features. For example the company concentrate more on working proffessional and also should try to get more referal lead sources as the conversion rate is high when the lead is from referal."
   ]
  },
  {
   "cell_type": "code",
   "execution_count": null,
   "id": "dc5ae1b2",
   "metadata": {},
   "outputs": [],
   "source": []
  }
 ],
 "metadata": {
  "kernelspec": {
   "display_name": "Python 3 (ipykernel)",
   "language": "python",
   "name": "python3"
  },
  "language_info": {
   "codemirror_mode": {
    "name": "ipython",
    "version": 3
   },
   "file_extension": ".py",
   "mimetype": "text/x-python",
   "name": "python",
   "nbconvert_exporter": "python",
   "pygments_lexer": "ipython3",
   "version": "3.9.12"
  }
 },
 "nbformat": 4,
 "nbformat_minor": 5
}
